{
  "nbformat": 4,
  "nbformat_minor": 0,
  "metadata": {
    "colab": {
      "name": "Tokenize Corpus.ipynb",
      "provenance": [],
      "mount_file_id": "1dABQzfJIcgf8cCCrE5F-d4V76LQs2JBu",
      "authorship_tag": "ABX9TyNmw1J2iah9AEMfLwqnnOTM",
      "include_colab_link": true
    },
    "kernelspec": {
      "name": "python3",
      "display_name": "Python 3"
    },
    "language_info": {
      "name": "python"
    }
  },
  "cells": [
    {
      "cell_type": "markdown",
      "metadata": {
        "id": "view-in-github",
        "colab_type": "text"
      },
      "source": [
        "<a href=\"https://colab.research.google.com/github/OpenPecha-dev/models/blob/main/data/Tokenize_Corpus.ipynb\" target=\"_parent\"><img src=\"https://colab.research.google.com/assets/colab-badge.svg\" alt=\"Open In Colab\"/></a>"
      ]
    },
    {
      "cell_type": "code",
      "source": [
        "!pip install botok\n",
        "!pip install pyewts"
      ],
      "metadata": {
        "colab": {
          "base_uri": "https://localhost:8080/"
        },
        "id": "Y4vGoquCrQci",
        "outputId": "61c8c994-f584-4060-ee32-90807e8cca70"
      },
      "execution_count": null,
      "outputs": [
        {
          "output_type": "stream",
          "name": "stdout",
          "text": [
            "Collecting botok\n",
            "  Downloading botok-0.8.10-py3-none-any.whl (71 kB)\n",
            "\u001b[?25l\r\u001b[K     |████▋                           | 10 kB 19.7 MB/s eta 0:00:01\r\u001b[K     |█████████▏                      | 20 kB 24.3 MB/s eta 0:00:01\r\u001b[K     |█████████████▉                  | 30 kB 18.6 MB/s eta 0:00:01\r\u001b[K     |██████████████████▍             | 40 kB 16.2 MB/s eta 0:00:01\r\u001b[K     |███████████████████████         | 51 kB 7.9 MB/s eta 0:00:01\r\u001b[K     |███████████████████████████▋    | 61 kB 9.3 MB/s eta 0:00:01\r\u001b[K     |████████████████████████████████| 71 kB 4.8 MB/s \n",
            "\u001b[?25hRequirement already satisfied: pyyaml in /usr/local/lib/python3.7/dist-packages (from botok) (3.13)\n",
            "Requirement already satisfied: requests in /usr/local/lib/python3.7/dist-packages (from botok) (2.23.0)\n",
            "Requirement already satisfied: certifi>=2017.4.17 in /usr/local/lib/python3.7/dist-packages (from requests->botok) (2021.10.8)\n",
            "Requirement already satisfied: urllib3!=1.25.0,!=1.25.1,<1.26,>=1.21.1 in /usr/local/lib/python3.7/dist-packages (from requests->botok) (1.24.3)\n",
            "Requirement already satisfied: chardet<4,>=3.0.2 in /usr/local/lib/python3.7/dist-packages (from requests->botok) (3.0.4)\n",
            "Requirement already satisfied: idna<3,>=2.5 in /usr/local/lib/python3.7/dist-packages (from requests->botok) (2.10)\n",
            "Installing collected packages: botok\n",
            "Successfully installed botok-0.8.10\n",
            "Collecting pyewts\n",
            "  Downloading pyewts-0.1.3.tar.gz (14 kB)\n",
            "Building wheels for collected packages: pyewts\n",
            "  Building wheel for pyewts (setup.py) ... \u001b[?25l\u001b[?25hdone\n",
            "  Created wheel for pyewts: filename=pyewts-0.1.3-py3-none-any.whl size=13542 sha256=9f6a612d6517ad3e8d013c0358aa7cee18bf2223244f787ee849da373c9fc041\n",
            "  Stored in directory: /root/.cache/pip/wheels/5c/01/8a/f2ed100460b6feae43209fbdade79c591e03170570963ba3b2\n",
            "Successfully built pyewts\n",
            "Installing collected packages: pyewts\n",
            "Successfully installed pyewts-0.1.3\n"
          ]
        }
      ]
    },
    {
      "cell_type": "code",
      "source": [
        "from pathlib import Path\n",
        "from tqdm import tqdm\n",
        "\n",
        "from botok import WordTokenizer, sentence_tokenizer"
      ],
      "metadata": {
        "id": "MCww3iHKrNsY"
      },
      "execution_count": null,
      "outputs": []
    },
    {
      "cell_type": "code",
      "source": [
        "wt = WordTokenizer()"
      ],
      "metadata": {
        "colab": {
          "base_uri": "https://localhost:8080/"
        },
        "id": "QotK99LJr23V",
        "outputId": "cb7c51b4-87dd-4c7b-933a-21eef14eb105"
      },
      "execution_count": null,
      "outputs": [
        {
          "output_type": "stream",
          "name": "stdout",
          "text": [
            "[INFO] Downloading general dialect pack ...\n",
            "[INFO] Download completed!\n",
            "Building Trie:\n",
            "\t/root/Documents/pybo/dialect_packs/general/dictionary/words_non_inflected/particles.tsv\n",
            "\t/root/Documents/pybo/dialect_packs/general/dictionary/words/exceptions.tsv\n",
            "\t/root/Documents/pybo/dialect_packs/general/dictionary/words/dagdra.tsv\n",
            "\t/root/Documents/pybo/dialect_packs/general/dictionary/words/tsikchen.tsv\n"
          ]
        },
        {
          "output_type": "stream",
          "name": "stderr",
          "text": [
            "/usr/local/lib/python3.7/dist-packages/botok/textunits/bostring.py:83: UserWarning: Beware of unexpected results: input string contains the non-expanded char \"དྷ\", found in \"\".\n",
            "  f'Beware of unexpected results: input string contains the non-expanded char \"{self.string[idx]}\", '\n",
            "/usr/local/lib/python3.7/dist-packages/botok/textunits/bostring.py:83: UserWarning: Beware of unexpected results: input string contains the non-expanded char \"ྡྷ\", found in \"ྡྷ་པཱ་\".\n",
            "  f'Beware of unexpected results: input string contains the non-expanded char \"{self.string[idx]}\", '\n",
            "/usr/local/lib/python3.7/dist-packages/botok/textunits/bostring.py:83: UserWarning: Beware of unexpected results: input string contains the non-expanded char \"བྷ\", found in \"\".\n",
            "  f'Beware of unexpected results: input string contains the non-expanded char \"{self.string[idx]}\", '\n",
            "/usr/local/lib/python3.7/dist-packages/botok/textunits/bostring.py:83: UserWarning: Beware of unexpected results: input string contains the non-expanded char \"ྦྷ\", found in \"\".\n",
            "  f'Beware of unexpected results: input string contains the non-expanded char \"{self.string[idx]}\", '\n",
            "/usr/local/lib/python3.7/dist-packages/botok/textunits/bostring.py:83: UserWarning: Beware of unexpected results: input string contains the non-expanded char \"དྷ\", found in \"དྷྱཱ་\".\n",
            "  f'Beware of unexpected results: input string contains the non-expanded char \"{self.string[idx]}\", '\n"
          ]
        },
        {
          "output_type": "stream",
          "name": "stdout",
          "text": [
            "\t/root/Documents/pybo/dialect_packs/general/dictionary/words/ancient.tsv\n",
            "\t/root/Documents/pybo/dialect_packs/general/dictionary/words/uncompound_lexicon.tsv\n",
            "(10 s.)\n"
          ]
        }
      ]
    },
    {
      "cell_type": "code",
      "source": [
        "def sent_tokenize(text):\n",
        "    text = converter.toUnicode(text)\n",
        "    tokens = wt.tokenize(text)\n",
        "    sentences = sentence_tokenizer(tokens)\n",
        "    return [[token.text for token in sentence[\"tokens\"]] for sentence in sentences]"
      ],
      "metadata": {
        "id": "jhAiT-P2rz_c"
      },
      "execution_count": null,
      "outputs": []
    },
    {
      "cell_type": "code",
      "execution_count": null,
      "metadata": {
        "id": "S4VvnoW8q8tF"
      },
      "outputs": [],
      "source": [
        "BASE_PATH = Path(\"/content/drive/MyDrive/OpenPecha/ML/LM\")\n",
        "DATA_PATH = BASE_PATH / \"data\""
      ]
    },
    {
      "cell_type": "code",
      "source": [
        "def tokenize_and_save(fn: Path):\n",
        "  fn_tokenized = fn.parent / f\"{fn.stem}-tokenized{fn.suffix}\"\n",
        "  sentences = sent_tokenize(fn.read_text())\n",
        "  sents_str = \"\"\n",
        "  for sentence in sentences:\n",
        "    sents_str += \" \".join([token.replace(\" \", \"_\") for token in sentence]) + \"\\n\"\n",
        "  fn_tokenized.write_text(sents_str)"
      ],
      "metadata": {
        "id": "XlWxXFctrMai"
      },
      "execution_count": null,
      "outputs": []
    },
    {
      "cell_type": "code",
      "source": [
        "def tokenize_corpus(path):\n",
        "  for pecha_path in tqdm(list(path.iterdir())):\n",
        "    for fn in pecha_path.iterdir():\n",
        "      if 'tokenized' in fn.name:\n",
        "        continue\n",
        "      tokenize_and_save(fn)"
      ],
      "metadata": {
        "id": "MUAW2IcntCpv"
      },
      "execution_count": null,
      "outputs": []
    },
    {
      "cell_type": "code",
      "source": [
        "tokenize_corpus(DATA_PATH / \"classical_bo\")"
      ],
      "metadata": {
        "colab": {
          "base_uri": "https://localhost:8080/",
          "height": 695
        },
        "id": "xd33jOUxtkm7",
        "outputId": "4c259105-111e-4ede-da61-1f2884ffe91f"
      },
      "execution_count": null,
      "outputs": [
        {
          "output_type": "stream",
          "name": "stderr",
          "text": [
            "  0%|          | 2/417 [00:06<23:14,  3.36s/it]/usr/local/lib/python3.7/dist-packages/botok/textunits/bostring.py:83: UserWarning: Beware of unexpected results: input string contains the non-expanded char \"ཱུ\", found in \"\".\n",
            "  f'Beware of unexpected results: input string contains the non-expanded char \"{self.string[idx]}\", '\n",
            "  2%|▏         | 7/417 [00:34<38:33,  5.64s/it]/usr/local/lib/python3.7/dist-packages/botok/textunits/bostring.py:83: UserWarning: Beware of unexpected results: input string contains the non-expanded char \"ཱི\", found in \"\".\n",
            "  f'Beware of unexpected results: input string contains the non-expanded char \"{self.string[idx]}\", '\n",
            "  3%|▎         | 13/417 [01:06<42:46,  6.35s/it]/usr/local/lib/python3.7/dist-packages/botok/textunits/bostring.py:83: UserWarning: Beware of unexpected results: input string contains the non-expanded char \"ྡྷ\", found in \"\".\n",
            "  f'Beware of unexpected results: input string contains the non-expanded char \"{self.string[idx]}\", '\n",
            "  3%|▎         | 14/417 [01:09<36:45,  5.47s/it]/usr/local/lib/python3.7/dist-packages/botok/textunits/bostring.py:83: UserWarning: Beware of unexpected results: input string contains the non-expanded char \"ༀ\", found in \"\".\n",
            "  f'Beware of unexpected results: input string contains the non-expanded char \"{self.string[idx]}\", '\n",
            "  5%|▍         | 19/417 [01:55<33:12,  5.01s/it]/usr/local/lib/python3.7/dist-packages/botok/textunits/bostring.py:83: UserWarning: Beware of unexpected results: input string contains the non-expanded char \"བྷ\", found in \"\".\n",
            "  f'Beware of unexpected results: input string contains the non-expanded char \"{self.string[idx]}\", '\n",
            "  5%|▌         | 21/417 [02:32<1:12:21, 10.96s/it]/usr/local/lib/python3.7/dist-packages/botok/textunits/bostring.py:83: UserWarning: Beware of unexpected results: input string contains the non-expanded char \"དྷ\", found in \"\".\n",
            "  f'Beware of unexpected results: input string contains the non-expanded char \"{self.string[idx]}\", '\n",
            "  8%|▊         | 33/417 [04:05<42:47,  6.69s/it]/usr/local/lib/python3.7/dist-packages/botok/textunits/bostring.py:83: UserWarning: Beware of unexpected results: input string contains the non-expanded char \"ཀྵ\", found in \"\".\n",
            "  f'Beware of unexpected results: input string contains the non-expanded char \"{self.string[idx]}\", '\n",
            " 16%|█▌        | 66/417 [09:31<3:50:57, 39.48s/it]/usr/local/lib/python3.7/dist-packages/botok/textunits/bostring.py:83: UserWarning: Beware of unexpected results: input string contains the non-expanded char \"གྷ\", found in \"\".\n",
            "  f'Beware of unexpected results: input string contains the non-expanded char \"{self.string[idx]}\", '\n",
            " 34%|███▍      | 141/417 [17:06<18:28,  4.02s/it]/usr/local/lib/python3.7/dist-packages/botok/textunits/bostring.py:83: UserWarning: Beware of unexpected results: input string contains the non-expanded char \"ཱྀ\", found in \"\".\n",
            "  f'Beware of unexpected results: input string contains the non-expanded char \"{self.string[idx]}\", '\n",
            " 52%|█████▏    | 216/417 [22:53<21:55,  6.55s/it]/usr/local/lib/python3.7/dist-packages/botok/textunits/bostring.py:83: UserWarning: Beware of unexpected results: input string contains the non-expanded char \"ྦྷ\", found in \"\".\n",
            "  f'Beware of unexpected results: input string contains the non-expanded char \"{self.string[idx]}\", '\n",
            "100%|█████████▉| 416/417 [1:08:00<00:09,  9.81s/it]\n"
          ]
        },
        {
          "output_type": "error",
          "ename": "NotADirectoryError",
          "evalue": "ignored",
          "traceback": [
            "\u001b[0;31m---------------------------------------------------------------------------\u001b[0m",
            "\u001b[0;31mNotADirectoryError\u001b[0m                        Traceback (most recent call last)",
            "\u001b[0;32m<ipython-input-15-f6a1a78bff2f>\u001b[0m in \u001b[0;36m<module>\u001b[0;34m()\u001b[0m\n\u001b[0;32m----> 1\u001b[0;31m \u001b[0mtokenize_corpus\u001b[0m\u001b[0;34m(\u001b[0m\u001b[0mDATA_PATH\u001b[0m \u001b[0;34m/\u001b[0m \u001b[0;34m\"classical_bo\"\u001b[0m\u001b[0;34m)\u001b[0m\u001b[0;34m\u001b[0m\u001b[0;34m\u001b[0m\u001b[0m\n\u001b[0m",
            "\u001b[0;32m<ipython-input-14-e7ade1f31807>\u001b[0m in \u001b[0;36mtokenize_corpus\u001b[0;34m(path)\u001b[0m\n\u001b[1;32m      1\u001b[0m \u001b[0;32mdef\u001b[0m \u001b[0mtokenize_corpus\u001b[0m\u001b[0;34m(\u001b[0m\u001b[0mpath\u001b[0m\u001b[0;34m)\u001b[0m\u001b[0;34m:\u001b[0m\u001b[0;34m\u001b[0m\u001b[0;34m\u001b[0m\u001b[0m\n\u001b[1;32m      2\u001b[0m   \u001b[0;32mfor\u001b[0m \u001b[0mpecha_path\u001b[0m \u001b[0;32min\u001b[0m \u001b[0mtqdm\u001b[0m\u001b[0;34m(\u001b[0m\u001b[0mlist\u001b[0m\u001b[0;34m(\u001b[0m\u001b[0mpath\u001b[0m\u001b[0;34m.\u001b[0m\u001b[0miterdir\u001b[0m\u001b[0;34m(\u001b[0m\u001b[0;34m)\u001b[0m\u001b[0;34m)\u001b[0m\u001b[0;34m)\u001b[0m\u001b[0;34m:\u001b[0m\u001b[0;34m\u001b[0m\u001b[0;34m\u001b[0m\u001b[0m\n\u001b[0;32m----> 3\u001b[0;31m     \u001b[0;32mfor\u001b[0m \u001b[0mfn\u001b[0m \u001b[0;32min\u001b[0m \u001b[0mpecha_path\u001b[0m\u001b[0;34m.\u001b[0m\u001b[0miterdir\u001b[0m\u001b[0;34m(\u001b[0m\u001b[0;34m)\u001b[0m\u001b[0;34m:\u001b[0m\u001b[0;34m\u001b[0m\u001b[0;34m\u001b[0m\u001b[0m\n\u001b[0m\u001b[1;32m      4\u001b[0m       \u001b[0;32mif\u001b[0m \u001b[0;34m'tokenized'\u001b[0m \u001b[0;32min\u001b[0m \u001b[0mfn\u001b[0m\u001b[0;34m.\u001b[0m\u001b[0mname\u001b[0m\u001b[0;34m:\u001b[0m\u001b[0;34m\u001b[0m\u001b[0;34m\u001b[0m\u001b[0m\n\u001b[1;32m      5\u001b[0m         \u001b[0;32mcontinue\u001b[0m\u001b[0;34m\u001b[0m\u001b[0;34m\u001b[0m\u001b[0m\n",
            "\u001b[0;32m/usr/lib/python3.7/pathlib.py\u001b[0m in \u001b[0;36miterdir\u001b[0;34m(self)\u001b[0m\n\u001b[1;32m   1105\u001b[0m         \u001b[0;32mif\u001b[0m \u001b[0mself\u001b[0m\u001b[0;34m.\u001b[0m\u001b[0m_closed\u001b[0m\u001b[0;34m:\u001b[0m\u001b[0;34m\u001b[0m\u001b[0;34m\u001b[0m\u001b[0m\n\u001b[1;32m   1106\u001b[0m             \u001b[0mself\u001b[0m\u001b[0;34m.\u001b[0m\u001b[0m_raise_closed\u001b[0m\u001b[0;34m(\u001b[0m\u001b[0;34m)\u001b[0m\u001b[0;34m\u001b[0m\u001b[0;34m\u001b[0m\u001b[0m\n\u001b[0;32m-> 1107\u001b[0;31m         \u001b[0;32mfor\u001b[0m \u001b[0mname\u001b[0m \u001b[0;32min\u001b[0m \u001b[0mself\u001b[0m\u001b[0;34m.\u001b[0m\u001b[0m_accessor\u001b[0m\u001b[0;34m.\u001b[0m\u001b[0mlistdir\u001b[0m\u001b[0;34m(\u001b[0m\u001b[0mself\u001b[0m\u001b[0;34m)\u001b[0m\u001b[0;34m:\u001b[0m\u001b[0;34m\u001b[0m\u001b[0;34m\u001b[0m\u001b[0m\n\u001b[0m\u001b[1;32m   1108\u001b[0m             \u001b[0;32mif\u001b[0m \u001b[0mname\u001b[0m \u001b[0;32min\u001b[0m \u001b[0;34m{\u001b[0m\u001b[0;34m'.'\u001b[0m\u001b[0;34m,\u001b[0m \u001b[0;34m'..'\u001b[0m\u001b[0;34m}\u001b[0m\u001b[0;34m:\u001b[0m\u001b[0;34m\u001b[0m\u001b[0;34m\u001b[0m\u001b[0m\n\u001b[1;32m   1109\u001b[0m                 \u001b[0;31m# Yielding a path object for these makes little sense\u001b[0m\u001b[0;34m\u001b[0m\u001b[0;34m\u001b[0m\u001b[0;34m\u001b[0m\u001b[0m\n",
            "\u001b[0;31mNotADirectoryError\u001b[0m: [Errno 20] Not a directory: '/content/drive/MyDrive/OpenPecha/ML/LM/data/classical_bo/sentences.txt'"
          ]
        }
      ]
    },
    {
      "cell_type": "code",
      "source": [
        ""
      ],
      "metadata": {
        "id": "lVg-Ks6GJdNx"
      },
      "execution_count": null,
      "outputs": []
    }
  ]
}