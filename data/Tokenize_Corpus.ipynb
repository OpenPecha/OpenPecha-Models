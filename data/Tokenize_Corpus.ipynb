{
 "cells": [
  {
   "cell_type": "code",
   "execution_count": 1,
   "metadata": {
    "colab": {
     "base_uri": "https://localhost:8080/"
    },
    "id": "Y4vGoquCrQci",
    "outputId": "61c8c994-f584-4060-ee32-90807e8cca70"
   },
   "outputs": [],
   "source": [
    "# !pip install -U botok -q\n",
    "# !pip install -U openpecha -q"
   ]
  },
  {
   "cell_type": "code",
   "execution_count": 2,
   "metadata": {
    "id": "MCww3iHKrNsY"
   },
   "outputs": [],
   "source": [
    "import csv\n",
    "from pathlib import Path\n",
    "from tqdm import tqdm\n",
    "\n",
    "from botok import WordTokenizer, sentence_tokenizer\n",
    "from openpecha.corpus.download import download_corpus"
   ]
  },
  {
   "cell_type": "code",
   "execution_count": 3,
   "metadata": {},
   "outputs": [],
   "source": [
    "def _mkdir(path: Path) -> Path:\n",
    "  path.mkdir(exist_ok=True, parents=True)\n",
    "  return path\n",
    "\n",
    "BASE_PATH = Path.home() / \".models\"\n",
    "DATA_PATH = _mkdir(BASE_PATH / \"data\")"
   ]
  },
  {
   "cell_type": "code",
   "execution_count": 4,
   "metadata": {},
   "outputs": [
    {
     "data": {
      "text/plain": [
       "'0.8.8'"
      ]
     },
     "execution_count": 4,
     "metadata": {},
     "output_type": "execute_result"
    }
   ],
   "source": [
    "import openpecha; openpecha.__version__"
   ]
  },
  {
   "cell_type": "markdown",
   "metadata": {},
   "source": [
    "## Download Corpus"
   ]
  },
  {
   "cell_type": "code",
   "execution_count": 5,
   "metadata": {},
   "outputs": [],
   "source": [
    "corpus_path = DATA_PATH / \"literary_bo\"\n",
    "corpus_path.mkdir(exist_ok=True, parents=True)"
   ]
  },
  {
   "cell_type": "code",
   "execution_count": 6,
   "metadata": {},
   "outputs": [],
   "source": [
    "# download_corpus(\"literary_bo\", output_path=DATA_PATH)"
   ]
  },
  {
   "cell_type": "markdown",
   "metadata": {
    "tags": []
   },
   "source": [
    "## Tokenize corpus sentences"
   ]
  },
  {
   "cell_type": "code",
   "execution_count": 7,
   "metadata": {},
   "outputs": [
    {
     "name": "stdout",
     "output_type": "stream",
     "text": [
      "Loading Trie... (2s.)\n"
     ]
    }
   ],
   "source": [
    "wt = WordTokenizer()"
   ]
  },
  {
   "cell_type": "code",
   "execution_count": 8,
   "metadata": {
    "id": "jhAiT-P2rz_c"
   },
   "outputs": [],
   "source": [
    "def sent_tokenize(text):\n",
    "    tokens = wt.tokenize(text)\n",
    "    # import pdb; pdb.set_trace()\n",
    "    sentences = sentence_tokenizer(tokens)\n",
    "    return [[token.text for token in sentence[\"tokens\"]] for sentence in sentences]"
   ]
  },
  {
   "cell_type": "code",
   "execution_count": 9,
   "metadata": {
    "id": "XlWxXFctrMai"
   },
   "outputs": [],
   "source": [
    "def tokenize(text: str):\n",
    "  sentences = sent_tokenize(text)\n",
    "  sents_str = \"\"\n",
    "  for sentence in sentences:\n",
    "    # import pdb; pdb.set_trace()\n",
    "    sents_str += \" \".join([token.replace(\" \", \"_\") for token in sentence]) + \"\\n\"\n",
    "  return sents_str"
   ]
  },
  {
   "cell_type": "code",
   "execution_count": 10,
   "metadata": {},
   "outputs": [],
   "source": [
    "def get_text_from_tsv_file(fn):\n",
    "    def handle_punct(token):\n",
    "        if token:\n",
    "            if '།' ==  token:\n",
    "                return token + ' '\n",
    "            else:\n",
    "                return token\n",
    "        else:\n",
    "            return ' '\n",
    "\n",
    "    with fn.open() as file:\n",
    "        tsv_reader = csv.reader(file, delimiter=\"\\t\")\n",
    "        next(tsv_reader, None) # skip header\n",
    "        tokens = [handle_punct(token) for token, *row in tsv_reader if row]\n",
    "    text = \"\".join(tokens)\n",
    "    text = text.replace(' ། ', ' །')\n",
    "    text = text.replace('  །', ' །')  \n",
    "    return text"
   ]
  },
  {
   "cell_type": "code",
   "execution_count": 11,
   "metadata": {},
   "outputs": [],
   "source": [
    "# test_fn = corpus_path / \"PC7518B4E\" / \"Magnetizing (Wangdü) Prayer.tsv\"\n",
    "# assert test_fn.is_file()\n",
    "# text = get_text_from_tsv_file(test_fn)\n",
    "# print(text)\n",
    "# \" \".join([t.text.strip() for t in wt.tokenize(text)])"
   ]
  },
  {
   "cell_type": "code",
   "execution_count": 12,
   "metadata": {
    "id": "MUAW2IcntCpv"
   },
   "outputs": [],
   "source": [
    "def tokenize_corpus(path, replace=False):\n",
    "  for pecha_path in tqdm(list(path.iterdir())):\n",
    "    for fn in pecha_path.iterdir():\n",
    "      fn_tokenized = fn.parent / f\"{fn.stem}.txt\"\n",
    "      if fn.name == \"README.md\": continue\n",
    "      if fn_tokenized.is_file() and not replace:\n",
    "        continue\n",
    "      text = get_text_from_tsv_file(fn)\n",
    "      if not text: continue\n",
    "      sents_str = tokenize(text)\n",
    "      fn_tokenized.write_text(sents_str)"
   ]
  },
  {
   "cell_type": "code",
   "execution_count": 13,
   "metadata": {
    "colab": {
     "base_uri": "https://localhost:8080/",
     "height": 695
    },
    "id": "xd33jOUxtkm7",
    "outputId": "4c259105-111e-4ede-da61-1f2884ffe91f"
   },
   "outputs": [
    {
     "name": "stderr",
     "output_type": "stream",
     "text": [
      "100%|██████████| 729/729 [00:00<00:00, 734.69it/s]\n"
     ]
    }
   ],
   "source": [
    "tokenize_corpus(corpus_path)"
   ]
  },
  {
   "cell_type": "markdown",
   "metadata": {},
   "source": [
    "## Remove Ocred Pecha"
   ]
  },
  {
   "cell_type": "markdown",
   "metadata": {
    "jp-MarkdownHeadingCollapsed": true,
    "tags": []
   },
   "source": [
    "### ocred pecha list"
   ]
  },
  {
   "cell_type": "code",
   "execution_count": 14,
   "metadata": {},
   "outputs": [],
   "source": [
    "ocred_pechas = \"\"\"\n",
    "P01F21F5A\n",
    "P026D4391\n",
    "P0697AF99\n",
    "P06BF0616\n",
    "P0788F8B8\n",
    "P08383808\n",
    "P0A443473\n",
    "P0AC134F0\n",
    "P0AEFD209\n",
    "P0B226B66\n",
    "P0DAA54A8\n",
    "P0E1010CD\n",
    "P0E807A82\n",
    "P0F30A079\n",
    "P1091119C\n",
    "P10B76D16\n",
    "P110BD211\n",
    "P113161E2\n",
    "P113F7BC8\n",
    "P144985F2\n",
    "P14720CB9\n",
    "P155F5649\n",
    "P16118F66\n",
    "P17CC7922\n",
    "P1864259A\n",
    "P188A585C\n",
    "P198795E5\n",
    "P19E24C98\n",
    "P1A2DE57C\n",
    "P1A43637D\n",
    "P1AF6985A\n",
    "P1C88EEF8\n",
    "P1C9C94AB\n",
    "P1D9555BD\n",
    "P2067CEA6\n",
    "P20BBBE6B\n",
    "P21925A26\n",
    "P2239AE39\n",
    "P22666E63\n",
    "P24075444\n",
    "P2491BBDB\n",
    "P2527D757\n",
    "P254DAAC1\n",
    "P26D4E88A\n",
    "P26EDC783\n",
    "P27AB7411\n",
    "P282804D9\n",
    "P283BC233\n",
    "P287F972E\n",
    "P29496699\n",
    "P294BAA75\n",
    "P29636E09\n",
    "P29D39AC1\n",
    "P29EA4909\n",
    "P2C2E1541\n",
    "P2C9BB63E\n",
    "P2CE84FFA\n",
    "P2ED1D856\n",
    "P2F90DF28\n",
    "P2FFAE40A\n",
    "P30202CAE\n",
    "P30DB05F5\n",
    "P31D764AE\n",
    "P3278EEC7\n",
    "P334F43A6\n",
    "P337793B3\n",
    "P337BB393\n",
    "P338E7914\n",
    "P33961491\n",
    "P33CEF55B\n",
    "P33F4F171\n",
    "P348CCA3B\n",
    "P34B44838\n",
    "P36962C88\n",
    "P36FB8EC6\n",
    "P381A84C8\n",
    "P3833DD30\n",
    "P3AA51EB3\n",
    "P3BBF3EBB\n",
    "P3F8E116E\n",
    "P3FAE1A3D\n",
    "P40878D88\n",
    "P412EE9B8\n",
    "P41BF55A7\n",
    "P424ADC12\n",
    "P42927191\n",
    "P433F86DD\n",
    "P43CDC54B\n",
    "P44C1CCD4\n",
    "P44DB1160\n",
    "P466F2DB5\n",
    "P46BA774E\n",
    "P48030325\n",
    "P4838E6DF\n",
    "P49444617\n",
    "P49532218\n",
    "P49AB4705\n",
    "P4A4543DF\n",
    "P4A79CA96\n",
    "P4AB9700A\n",
    "P4B747B14\n",
    "P4BEAE2B4\n",
    "P4D49B116\n",
    "P4D50F522\n",
    "P4DD742D4\n",
    "P4EE4BFC4\n",
    "P4FEBBEB1\n",
    "P500A6D15\n",
    "P51551359\n",
    "P51877FA9\n",
    "P53F474AA\n",
    "P544359D8\n",
    "P5588A6DD\n",
    "P56543757\n",
    "P566E6516\n",
    "P5714553A\n",
    "P57E1008F\n",
    "P585E9C48\n",
    "P5B67A599\n",
    "P5BB99BFC\n",
    "P5EDEE959\n",
    "P5FBF9264\n",
    "P60A476AF\n",
    "P616F5649\n",
    "P62393212\n",
    "P65C7DBB1\n",
    "P65D46325\n",
    "P66AA1AAF\n",
    "P66BFBFB3\n",
    "P684E8530\n",
    "P68C596F3\n",
    "P68FAC246\n",
    "P6924A626\n",
    "P6A466669\n",
    "P6B054081\n",
    "P6D4F3D7B\n",
    "P6D506273\n",
    "P6DD7575A\n",
    "P7033654F\n",
    "P7088A075\n",
    "P70B160A2\n",
    "P715EB229\n",
    "P75047777\n",
    "P77923723\n",
    "P7823530D\n",
    "P785CC1E0\n",
    "P7894C918\n",
    "P78C27968\n",
    "P78F45885\n",
    "P798A42C8\n",
    "P798ACACA\n",
    "P79FB9079\n",
    "P7A77DD3B\n",
    "P7CB3433E\n",
    "P7DE04668\n",
    "P7FD26C6D\n",
    "P812D0142\n",
    "P81D5D3BB\n",
    "P8393A728\n",
    "P84000EE5\n",
    "P8430AE09\n",
    "P85B07A43\n",
    "P85E42A23\n",
    "P878B3099\n",
    "P87E8045D\n",
    "P881819EC\n",
    "P88BB8A6D\n",
    "P88DBDE85\n",
    "P8A42786E\n",
    "P8A7F6B8F\n",
    "P8ADA4C9F\n",
    "P8B8F3BDF\n",
    "P8BA93480\n",
    "P8DF96DDE\n",
    "P8E2E19D5\n",
    "P8E30FF75\n",
    "P8E9577F2\n",
    "P8F3E3605\n",
    "P8F7E6716\n",
    "P8F852FC2\n",
    "P8F8AE619\n",
    "P8FAF494E\n",
    "P8FFF77EA\n",
    "P9042F799\n",
    "P92C58293\n",
    "P944EFA0F\n",
    "P94796829\n",
    "P94D449DC\n",
    "P9529D216\n",
    "P96979E13\n",
    "P96AEFF26\n",
    "P97C23560\n",
    "P9859AC89\n",
    "P986A9269\n",
    "P9908D0FF\n",
    "P994E04E2\n",
    "P99519F5A\n",
    "P99A856E3\n",
    "P9A170187\n",
    "P9A9B499B\n",
    "P9B95BAE7\n",
    "P9B9FB0B9\n",
    "P9BBC3EB7\n",
    "P9C37C008\n",
    "P9C50163C\n",
    "P9CE47C63\n",
    "P9D2789E2\n",
    "P9E509599\n",
    "P9EA16235\n",
    "P9EF2A200\n",
    "P9F0995F3\n",
    "P9F413048\n",
    "P9FA5AF1A\n",
    "P9FE1569B\n",
    "PA131370F\n",
    "PA25DC576\n",
    "PA3AAA755\n",
    "PA3B7B725\n",
    "PA3EEECBC\n",
    "PA54901B4\n",
    "PA7FFF0BF\n",
    "PA801C7E4\n",
    "PA80E0B8F\n",
    "PA813872C\n",
    "PA8E792F4\n",
    "PAA0B044F\n",
    "PAA58A835\n",
    "PAA66A219\n",
    "PAABDA95B\n",
    "PAB01114E\n",
    "PAB14B1EE\n",
    "PAC99EE65\n",
    "PACEB2227\n",
    "PAD4A3EA6\n",
    "PADB8EB88\n",
    "PB1A14D69\n",
    "PB224FC0E\n",
    "PB4DF81EE\n",
    "PB5BBB374\n",
    "PB6381FFB\n",
    "PB66544E1\n",
    "PB6D621AB\n",
    "PB70EC6A0\n",
    "PB76BB967\n",
    "PB7F878B9\n",
    "PB7FA228A\n",
    "PB844DFBF\n",
    "PB9296EBB\n",
    "PBAA77B0B\n",
    "PBB0761B2\n",
    "PBB66BD34\n",
    "PBB71AB42\n",
    "PBBBD484B\n",
    "PBC7AA818\n",
    "PBD55AA4B\n",
    "PBD821407\n",
    "PBECA77DE\n",
    "PBECD3E0A\n",
    "PC0081177\n",
    "PC0394549\n",
    "PC05A4040\n",
    "PC2657272\n",
    "PC3A0EF41\n",
    "PC40A0DED\n",
    "PC4882A7C\n",
    "PC5347426\n",
    "PC5854F18\n",
    "PC5ED7728\n",
    "PC66ADC16\n",
    "PC6BC8C44\n",
    "PC727A454\n",
    "PC747646F\n",
    "PC7B2786D\n",
    "PC81DFCF1\n",
    "PC91C4D33\n",
    "PC91E14C8\n",
    "PC92B45CA\n",
    "PCA3C26E9\n",
    "PCB220247\n",
    "PCC0110FC\n",
    "PCCF40755\n",
    "PCD11A403\n",
    "PCEAB6469\n",
    "PCFA9A603\n",
    "PD00453B4\n",
    "PD04CFDAB\n",
    "PD2B30082\n",
    "PD36AE42F\n",
    "PD38CBA5A\n",
    "PD5E7310D\n",
    "PD614F962\n",
    "PD72465D7\n",
    "PD724AD23\n",
    "PD8794FAF\n",
    "PD8A69996\n",
    "PD999B32F\n",
    "PDAB83DAA\n",
    "PDACE9744\n",
    "PDB80E67B\n",
    "PDC1F94E1\n",
    "PDC9BC1CC\n",
    "PDD434042\n",
    "PDE8203EC\n",
    "PDE8627A7\n",
    "PDF16DDFD\n",
    "PE157C772\n",
    "PE2747439\n",
    "PE3120E6D\n",
    "PE40C4CEB\n",
    "PE4319A40\n",
    "PE4839839\n",
    "PE49C0B92\n",
    "PE4A7B419\n",
    "PE4E9EEAE\n",
    "PE5A4B266\n",
    "PE5AD226B\n",
    "PE5B105BF\n",
    "PE7AD7D99\n",
    "PE8E41E91\n",
    "PEC666E34\n",
    "PECB486E0\n",
    "PED0BFF13\n",
    "PED108D67\n",
    "PEDBD20DB\n",
    "PF1C85D83\n",
    "PF2477F09\n",
    "PF299AD42\n",
    "PF405D0C0\n",
    "PF4A7554B\n",
    "PF59BA2A6\n",
    "PF73D47F7\n",
    "PF920EFD9\n",
    "PF9F5BF88\n",
    "PFA753BB7\n",
    "PFB2E808F\n",
    "PFB73DBBF\n",
    "PFC6C66C1\n",
    "PFC8448CB\n",
    "PFE664748\n",
    "PFE9F59EF\n",
    "PFEE9B370\n",
    "PFF17FF4A\n",
    "PFF2C68BF\n",
    "PFF5CF90C\n",
    "\"\"\""
   ]
  },
  {
   "cell_type": "markdown",
   "metadata": {},
   "source": [
    "### Remove from local"
   ]
  },
  {
   "cell_type": "code",
   "execution_count": 17,
   "metadata": {},
   "outputs": [
    {
     "data": {
      "text/plain": [
       "344"
      ]
     },
     "execution_count": 17,
     "metadata": {},
     "output_type": "execute_result"
    }
   ],
   "source": [
    "ocred_pecha_list = [pecha_id for pecha_id in ocred_pechas.splitlines() if pecha_id]\n",
    "len(ocred_pecha_list)"
   ]
  },
  {
   "cell_type": "code",
   "execution_count": 18,
   "metadata": {},
   "outputs": [],
   "source": [
    "import shutil"
   ]
  },
  {
   "cell_type": "code",
   "execution_count": 21,
   "metadata": {},
   "outputs": [],
   "source": [
    "for pecha_path in corpus_path.iterdir():\n",
    "    if pecha_path.name in ocred_pecha_list:\n",
    "        shutil.rmtree(str(pecha_path))"
   ]
  },
  {
   "cell_type": "markdown",
   "metadata": {},
   "source": [
    "### remove from corpus_catalog"
   ]
  },
  {
   "cell_type": "code",
   "execution_count": 26,
   "metadata": {},
   "outputs": [],
   "source": [
    "from openpecha.corpus.download import get_corpus_catalog, get_corpus_items_count, get_request_session\n",
    "import tqdm"
   ]
  },
  {
   "cell_type": "code",
   "execution_count": null,
   "metadata": {},
   "outputs": [],
   "source": [
    "session = get_request_session()\n",
    "for row in tqdm(cle"
   ]
  }
 ],
 "metadata": {
  "colab": {
   "authorship_tag": "ABX9TyNmw1J2iah9AEMfLwqnnOTM",
   "include_colab_link": true,
   "mount_file_id": "1dABQzfJIcgf8cCCrE5F-d4V76LQs2JBu",
   "name": "Tokenize Corpus.ipynb",
   "provenance": []
  },
  "kernelspec": {
   "display_name": "default:Python",
   "language": "python",
   "name": "conda-env-default-py"
  },
  "language_info": {
   "codemirror_mode": {
    "name": "ipython",
    "version": 3
   },
   "file_extension": ".py",
   "mimetype": "text/x-python",
   "name": "python",
   "nbconvert_exporter": "python",
   "pygments_lexer": "ipython3",
   "version": "3.9.10"
  },
  "toc-autonumbering": false,
  "toc-showcode": false,
  "toc-showmarkdowntxt": false,
  "toc-showtags": false
 },
 "nbformat": 4,
 "nbformat_minor": 4
}
