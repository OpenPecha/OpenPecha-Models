{
 "cells": [
  {
   "cell_type": "markdown",
   "metadata": {
    "colab_type": "text",
    "id": "view-in-github"
   },
   "source": [
    "<a href=\"https://colab.research.google.com/github/OpenPecha-dev/models/blob/main/data/Tokenize_Corpus.ipynb\" target=\"_parent\"><img src=\"https://colab.research.google.com/assets/colab-badge.svg\" alt=\"Open In Colab\"/></a>"
   ]
  },
  {
   "cell_type": "code",
   "execution_count": 1,
   "metadata": {
    "colab": {
     "base_uri": "https://localhost:8080/"
    },
    "id": "Y4vGoquCrQci",
    "outputId": "61c8c994-f584-4060-ee32-90807e8cca70"
   },
   "outputs": [
    {
     "name": "stdout",
     "output_type": "stream",
     "text": [
      "Requirement already satisfied: botok in /home/studio-lab-user/.conda/envs/default/lib/python3.9/site-packages (0.8.10)\n",
      "Requirement already satisfied: pyyaml in /home/studio-lab-user/.conda/envs/default/lib/python3.9/site-packages (from botok) (5.4.1)\n",
      "Requirement already satisfied: requests in /home/studio-lab-user/.conda/envs/default/lib/python3.9/site-packages (from botok) (2.27.1)\n",
      "Requirement already satisfied: urllib3<1.27,>=1.21.1 in /home/studio-lab-user/.conda/envs/default/lib/python3.9/site-packages (from requests->botok) (1.26.9)\n",
      "Requirement already satisfied: charset-normalizer~=2.0.0 in /home/studio-lab-user/.conda/envs/default/lib/python3.9/site-packages (from requests->botok) (2.0.12)\n",
      "Requirement already satisfied: certifi>=2017.4.17 in /home/studio-lab-user/.conda/envs/default/lib/python3.9/site-packages (from requests->botok) (2021.10.8)\n",
      "Requirement already satisfied: idna<4,>=2.5 in /home/studio-lab-user/.conda/envs/default/lib/python3.9/site-packages (from requests->botok) (3.3)\n",
      "Requirement already satisfied: openpecha in /home/studio-lab-user/.conda/envs/default/lib/python3.9/site-packages (0.8.1)\n",
      "Requirement already satisfied: polib<2.0,==1.1.1 in /home/studio-lab-user/.conda/envs/default/lib/python3.9/site-packages (from openpecha) (1.1.1)\n",
      "Requirement already satisfied: bs4<1.0,>=0.0.1 in /home/studio-lab-user/.conda/envs/default/lib/python3.9/site-packages (from openpecha) (0.0.1)\n",
      "Requirement already satisfied: rdflib<6.0,>=5.0.0 in /home/studio-lab-user/.conda/envs/default/lib/python3.9/site-packages (from openpecha) (5.0.0)\n",
      "Requirement already satisfied: python-docx<1.0,>=0.8.11 in /home/studio-lab-user/.conda/envs/default/lib/python3.9/site-packages (from openpecha) (0.8.11)\n",
      "Requirement already satisfied: diff-match-patch==20181111 in /home/studio-lab-user/.conda/envs/default/lib/python3.9/site-packages (from openpecha) (20181111)\n",
      "Requirement already satisfied: botok<1.0,>=0.8.8 in /home/studio-lab-user/.conda/envs/default/lib/python3.9/site-packages (from openpecha) (0.8.10)\n",
      "Requirement already satisfied: Click<8.0,>=7.1.2 in /home/studio-lab-user/.conda/envs/default/lib/python3.9/site-packages (from openpecha) (7.1.2)\n",
      "Requirement already satisfied: pylibyaml<2.0,>=0.1.0 in /home/studio-lab-user/.conda/envs/default/lib/python3.9/site-packages (from openpecha) (0.1.0)\n",
      "Requirement already satisfied: PyYAML<6.0,>=5.0.0 in /home/studio-lab-user/.conda/envs/default/lib/python3.9/site-packages (from openpecha) (5.4.1)\n",
      "Requirement already satisfied: antx<2.0,>=0.1.10 in /home/studio-lab-user/.conda/envs/default/lib/python3.9/site-packages (from openpecha) (0.1.11)\n",
      "Requirement already satisfied: tqdm<5.0,>=4.35.0 in /home/studio-lab-user/.conda/envs/default/lib/python3.9/site-packages (from openpecha) (4.64.0)\n",
      "Requirement already satisfied: PyGithub<2.0,>=1.43.8 in /home/studio-lab-user/.conda/envs/default/lib/python3.9/site-packages (from openpecha) (1.55)\n",
      "Requirement already satisfied: requests<3.0,>=2.22.0 in /home/studio-lab-user/.conda/envs/default/lib/python3.9/site-packages (from openpecha) (2.27.1)\n",
      "Requirement already satisfied: GitPython<4.0,>=3.1.0 in /home/studio-lab-user/.conda/envs/default/lib/python3.9/site-packages (from openpecha) (3.1.27)\n",
      "Requirement already satisfied: pydantic<2.0,>=1.7.3 in /home/studio-lab-user/.conda/envs/default/lib/python3.9/site-packages (from openpecha) (1.9.0)\n",
      "Requirement already satisfied: pyewts<1.0,>=0.1.3 in /home/studio-lab-user/.conda/envs/default/lib/python3.9/site-packages (from openpecha) (0.1.3)\n",
      "Requirement already satisfied: regex>=2020.5.7 in /home/studio-lab-user/.conda/envs/default/lib/python3.9/site-packages (from antx<2.0,>=0.1.10->openpecha) (2022.3.15)\n",
      "Requirement already satisfied: beautifulsoup4 in /home/studio-lab-user/.conda/envs/default/lib/python3.9/site-packages (from bs4<1.0,>=0.0.1->openpecha) (4.11.1)\n",
      "Requirement already satisfied: gitdb<5,>=4.0.1 in /home/studio-lab-user/.conda/envs/default/lib/python3.9/site-packages (from GitPython<4.0,>=3.1.0->openpecha) (4.0.9)\n",
      "Requirement already satisfied: smmap<6,>=3.0.1 in /home/studio-lab-user/.conda/envs/default/lib/python3.9/site-packages (from gitdb<5,>=4.0.1->GitPython<4.0,>=3.1.0->openpecha) (5.0.0)\n",
      "Requirement already satisfied: typing-extensions>=3.7.4.3 in /home/studio-lab-user/.conda/envs/default/lib/python3.9/site-packages (from pydantic<2.0,>=1.7.3->openpecha) (4.2.0)\n",
      "Requirement already satisfied: pyjwt>=2.0 in /home/studio-lab-user/.conda/envs/default/lib/python3.9/site-packages (from PyGithub<2.0,>=1.43.8->openpecha) (2.3.0)\n",
      "Requirement already satisfied: deprecated in /home/studio-lab-user/.conda/envs/default/lib/python3.9/site-packages (from PyGithub<2.0,>=1.43.8->openpecha) (1.2.13)\n",
      "Requirement already satisfied: pynacl>=1.4.0 in /home/studio-lab-user/.conda/envs/default/lib/python3.9/site-packages (from PyGithub<2.0,>=1.43.8->openpecha) (1.5.0)\n",
      "Requirement already satisfied: cffi>=1.4.1 in /home/studio-lab-user/.conda/envs/default/lib/python3.9/site-packages (from pynacl>=1.4.0->PyGithub<2.0,>=1.43.8->openpecha) (1.15.0)\n",
      "Requirement already satisfied: pycparser in /home/studio-lab-user/.conda/envs/default/lib/python3.9/site-packages (from cffi>=1.4.1->pynacl>=1.4.0->PyGithub<2.0,>=1.43.8->openpecha) (2.21)\n",
      "Requirement already satisfied: lxml>=2.3.2 in /home/studio-lab-user/.conda/envs/default/lib/python3.9/site-packages (from python-docx<1.0,>=0.8.11->openpecha) (4.8.0)\n",
      "Requirement already satisfied: isodate in /home/studio-lab-user/.conda/envs/default/lib/python3.9/site-packages (from rdflib<6.0,>=5.0.0->openpecha) (0.6.1)\n",
      "Requirement already satisfied: six in /home/studio-lab-user/.conda/envs/default/lib/python3.9/site-packages (from rdflib<6.0,>=5.0.0->openpecha) (1.16.0)\n",
      "Requirement already satisfied: pyparsing in /home/studio-lab-user/.conda/envs/default/lib/python3.9/site-packages (from rdflib<6.0,>=5.0.0->openpecha) (3.0.7)\n",
      "Requirement already satisfied: idna<4,>=2.5 in /home/studio-lab-user/.conda/envs/default/lib/python3.9/site-packages (from requests<3.0,>=2.22.0->openpecha) (3.3)\n",
      "Requirement already satisfied: urllib3<1.27,>=1.21.1 in /home/studio-lab-user/.conda/envs/default/lib/python3.9/site-packages (from requests<3.0,>=2.22.0->openpecha) (1.26.9)\n",
      "Requirement already satisfied: charset-normalizer~=2.0.0 in /home/studio-lab-user/.conda/envs/default/lib/python3.9/site-packages (from requests<3.0,>=2.22.0->openpecha) (2.0.12)\n",
      "Requirement already satisfied: certifi>=2017.4.17 in /home/studio-lab-user/.conda/envs/default/lib/python3.9/site-packages (from requests<3.0,>=2.22.0->openpecha) (2021.10.8)\n",
      "Requirement already satisfied: soupsieve>1.2 in /home/studio-lab-user/.conda/envs/default/lib/python3.9/site-packages (from beautifulsoup4->bs4<1.0,>=0.0.1->openpecha) (2.3.2.post1)\n",
      "Requirement already satisfied: wrapt<2,>=1.10 in /home/studio-lab-user/.conda/envs/default/lib/python3.9/site-packages (from deprecated->PyGithub<2.0,>=1.43.8->openpecha) (1.14.0)\n"
     ]
    }
   ],
   "source": [
    "!pip install botok\n",
    "!pip install -U openpecha"
   ]
  },
  {
   "cell_type": "code",
   "execution_count": 2,
   "metadata": {
    "id": "MCww3iHKrNsY"
   },
   "outputs": [],
   "source": [
    "from pathlib import Path\n",
    "from tqdm import tqdm\n",
    "\n",
    "from botok import WordTokenizer, sentence_tokenizer\n",
    "from openpecha.corpus.download import download_corpus"
   ]
  },
  {
   "cell_type": "code",
   "execution_count": 3,
   "metadata": {},
   "outputs": [],
   "source": [
    "def _mkdir(path: Path) -> Path:\n",
    "  path.mkdir(exist_ok=True, parents=True)\n",
    "  return path\n",
    "\n",
    "BASE_PATH = Path.home() / \".models\"\n",
    "DATA_PATH = _mkdir(BASE_PATH / \"data\")"
   ]
  },
  {
   "cell_type": "markdown",
   "metadata": {},
   "source": [
    "## Download Corpus"
   ]
  },
  {
   "cell_type": "code",
   "execution_count": 4,
   "metadata": {},
   "outputs": [
    {
     "name": "stderr",
     "output_type": "stream",
     "text": [
      "100%|██████████| 665/665 [10:23<00:00,  1.07it/s] \n"
     ]
    }
   ],
   "source": [
    "corpus_path = download_corpus(\"classical_bo\", DATA_PATH)"
   ]
  },
  {
   "cell_type": "markdown",
   "metadata": {},
   "source": [
    "## Tokenize corpus into words and sentences"
   ]
  },
  {
   "cell_type": "code",
   "execution_count": 14,
   "metadata": {},
   "outputs": [
    {
     "name": "stdout",
     "output_type": "stream",
     "text": [
      "[INFO] Downloading general dialect pack ...\n",
      "[INFO] Download completed!\n",
      "Building Trie:\n",
      "\t/home/studio-lab-user/Documents/pybo/dialect_packs/general/dictionary/words/ancient.tsv\n",
      "\t/home/studio-lab-user/Documents/pybo/dialect_packs/general/dictionary/words/dagdra.tsv\n",
      "\t/home/studio-lab-user/Documents/pybo/dialect_packs/general/dictionary/words/exceptions.tsv\n"
     ]
    },
    {
     "name": "stderr",
     "output_type": "stream",
     "text": [
      "/home/studio-lab-user/.conda/envs/default/lib/python3.9/site-packages/botok/textunits/bostring.py:82: UserWarning: Beware of unexpected results: input string contains the non-expanded char \"དྷ\", found in \"\".\n",
      "  warn(\n",
      "/home/studio-lab-user/.conda/envs/default/lib/python3.9/site-packages/botok/textunits/bostring.py:82: UserWarning: Beware of unexpected results: input string contains the non-expanded char \"ྡྷ\", found in \"ྡྷ་པཱ་\".\n",
      "  warn(\n",
      "/home/studio-lab-user/.conda/envs/default/lib/python3.9/site-packages/botok/textunits/bostring.py:82: UserWarning: Beware of unexpected results: input string contains the non-expanded char \"བྷ\", found in \"\".\n",
      "  warn(\n",
      "/home/studio-lab-user/.conda/envs/default/lib/python3.9/site-packages/botok/textunits/bostring.py:82: UserWarning: Beware of unexpected results: input string contains the non-expanded char \"ྦྷ\", found in \"\".\n",
      "  warn(\n",
      "/home/studio-lab-user/.conda/envs/default/lib/python3.9/site-packages/botok/textunits/bostring.py:82: UserWarning: Beware of unexpected results: input string contains the non-expanded char \"དྷ\", found in \"དྷྱཱ་\".\n",
      "  warn(\n"
     ]
    },
    {
     "name": "stdout",
     "output_type": "stream",
     "text": [
      "\t/home/studio-lab-user/Documents/pybo/dialect_packs/general/dictionary/words/tsikchen.tsv\n",
      "\t/home/studio-lab-user/Documents/pybo/dialect_packs/general/dictionary/words/uncompound_lexicon.tsv\n",
      "\t/home/studio-lab-user/Documents/pybo/dialect_packs/general/dictionary/words_non_inflected/particles.tsv\n",
      "(12 s.)\n"
     ]
    }
   ],
   "source": [
    "wt = WordTokenizer()"
   ]
  },
  {
   "cell_type": "code",
   "execution_count": 15,
   "metadata": {
    "id": "jhAiT-P2rz_c"
   },
   "outputs": [],
   "source": [
    "def sent_tokenize(text):\n",
    "    tokens = wt.tokenize(text)\n",
    "    sentences = sentence_tokenizer(tokens)\n",
    "    return [[token.text for token in sentence[\"tokens\"]] for sentence in sentences]"
   ]
  },
  {
   "cell_type": "code",
   "execution_count": 16,
   "metadata": {
    "id": "XlWxXFctrMai"
   },
   "outputs": [],
   "source": [
    "def tokenize_and_save(fn: Path):\n",
    "  fn_tokenized = fn.parent / f\"{fn.stem}-tokenized{fn.suffix}\"\n",
    "  sentences = sent_tokenize(fn.read_text())\n",
    "  sents_str = \"\"\n",
    "  for sentence in sentences:\n",
    "    sents_str += \" \".join([token.replace(\" \", \"_\") for token in sentence]) + \"\\n\"\n",
    "  fn_tokenized.write_text(sents_str)"
   ]
  },
  {
   "cell_type": "code",
   "execution_count": 17,
   "metadata": {
    "id": "MUAW2IcntCpv"
   },
   "outputs": [],
   "source": [
    "def tokenize_corpus(path, replace=False):\n",
    "  for pecha_path in tqdm(list(path.iterdir())):\n",
    "    for fn in pecha_path.iterdir():\n",
    "      if 'tokenized' in fn.name and not replace:\n",
    "        continue\n",
    "      tokenize_and_save(fn)"
   ]
  },
  {
   "cell_type": "code",
   "execution_count": 18,
   "metadata": {
    "colab": {
     "base_uri": "https://localhost:8080/",
     "height": 695
    },
    "id": "xd33jOUxtkm7",
    "outputId": "4c259105-111e-4ede-da61-1f2884ffe91f"
   },
   "outputs": [
    {
     "name": "stderr",
     "output_type": "stream",
     "text": [
      "  0%|          | 2/665 [00:02<12:21,  1.12s/it]/home/studio-lab-user/.conda/envs/default/lib/python3.9/site-packages/botok/textunits/bostring.py:82: UserWarning: Beware of unexpected results: input string contains the non-expanded char \"ཱུ\", found in \"\".\n",
      "  warn(\n",
      "  1%|          | 7/665 [00:11<19:19,  1.76s/it]/home/studio-lab-user/.conda/envs/default/lib/python3.9/site-packages/botok/textunits/bostring.py:82: UserWarning: Beware of unexpected results: input string contains the non-expanded char \"ཱི\", found in \"\".\n",
      "  warn(\n",
      "  2%|▏         | 13/665 [00:19<19:35,  1.80s/it]/home/studio-lab-user/.conda/envs/default/lib/python3.9/site-packages/botok/textunits/bostring.py:82: UserWarning: Beware of unexpected results: input string contains the non-expanded char \"ྡྷ\", found in \"\".\n",
      "  warn(\n",
      "  2%|▏         | 14/665 [00:21<19:14,  1.77s/it]/home/studio-lab-user/.conda/envs/default/lib/python3.9/site-packages/botok/textunits/bostring.py:82: UserWarning: Beware of unexpected results: input string contains the non-expanded char \"ༀ\", found in \"\".\n",
      "  warn(\n",
      "  5%|▍         | 33/665 [01:29<19:03,  1.81s/it]  /home/studio-lab-user/.conda/envs/default/lib/python3.9/site-packages/botok/textunits/bostring.py:82: UserWarning: Beware of unexpected results: input string contains the non-expanded char \"ཀྵ\", found in \"\".\n",
      "  warn(\n",
      " 10%|▉         | 66/665 [03:59<4:23:20, 26.38s/it]/home/studio-lab-user/.conda/envs/default/lib/python3.9/site-packages/botok/textunits/bostring.py:82: UserWarning: Beware of unexpected results: input string contains the non-expanded char \"གྷ\", found in \"\".\n",
      "  warn(\n",
      " 21%|██        | 141/665 [08:09<16:58,  1.94s/it]  /home/studio-lab-user/.conda/envs/default/lib/python3.9/site-packages/botok/textunits/bostring.py:82: UserWarning: Beware of unexpected results: input string contains the non-expanded char \"ཱྀ\", found in \"\".\n",
      "  warn(\n",
      " 78%|███████▊  | 519/665 [1:20:16<1:17:48, 31.98s/it]/home/studio-lab-user/.conda/envs/default/lib/python3.9/site-packages/botok/textunits/bostring.py:82: UserWarning: Beware of unexpected results: input string contains the non-expanded char \"ྲྀ\", found in \"\".\n",
      "  warn(\n",
      "100%|██████████| 665/665 [2:20:31<00:00, 12.68s/it]  \n"
     ]
    }
   ],
   "source": [
    "tokenize_corpus(corpus_path)"
   ]
  }
 ],
 "metadata": {
  "colab": {
   "authorship_tag": "ABX9TyNmw1J2iah9AEMfLwqnnOTM",
   "include_colab_link": true,
   "mount_file_id": "1dABQzfJIcgf8cCCrE5F-d4V76LQs2JBu",
   "name": "Tokenize Corpus.ipynb",
   "provenance": []
  },
  "kernelspec": {
   "display_name": "default:Python",
   "language": "python",
   "name": "conda-env-default-py"
  },
  "language_info": {
   "codemirror_mode": {
    "name": "ipython",
    "version": 3
   },
   "file_extension": ".py",
   "mimetype": "text/x-python",
   "name": "python",
   "nbconvert_exporter": "python",
   "pygments_lexer": "ipython3",
   "version": "3.9.10"
  }
 },
 "nbformat": 4,
 "nbformat_minor": 4
}
