{
 "cells": [
  {
   "cell_type": "code",
   "execution_count": 7,
   "id": "9fd2f9f3-3692-4319-b521-33acb250cf09",
   "metadata": {},
   "outputs": [],
   "source": [
    "from pathlib import Path\n",
    "\n",
    "from tqdm import tqdm\n",
    "from botok import WordTokenizer, sentence_tokenizer"
   ]
  },
  {
   "cell_type": "code",
   "execution_count": 3,
   "id": "7f18285a-c24a-4509-8855-43faf476d587",
   "metadata": {},
   "outputs": [],
   "source": [
    "BASE_PATH = Path.home() / \".models\"\n",
    "DATA_PATH = BASE_PATH / \"data\"\n",
    "\n",
    "corpus_path = DATA_PATH / \"esukhia_katen\"\n",
    "assert corpus_path.is_dir()"
   ]
  },
  {
   "cell_type": "code",
   "execution_count": 4,
   "id": "f747381a-e7dd-4ec2-b73b-9d4f055e6797",
   "metadata": {},
   "outputs": [
    {
     "name": "stdout",
     "output_type": "stream",
     "text": [
      "Loading Trie... (1s.)\n"
     ]
    }
   ],
   "source": [
    "wt = WordTokenizer()"
   ]
  },
  {
   "cell_type": "code",
   "execution_count": 12,
   "id": "bbaff485-80ab-4e97-bd92-4cf94eb0419e",
   "metadata": {},
   "outputs": [],
   "source": [
    "def sent_tokenize(text):\n",
    "    tokens = wt.tokenize(text)\n",
    "    # import pdb; pdb.set_trace()\n",
    "    sentences = sentence_tokenizer(tokens)\n",
    "    return [[token.text for token in sentence[\"tokens\"]] for sentence in sentences]"
   ]
  },
  {
   "cell_type": "code",
   "execution_count": 13,
   "id": "649765ab-1e83-47ad-bbac-26c3ef02470d",
   "metadata": {},
   "outputs": [],
   "source": [
    "def tokenize(text: str):\n",
    "  sentences = sent_tokenize(text)\n",
    "  sents_str = \"\"\n",
    "  for sentence in sentences:\n",
    "    # import pdb; pdb.set_trace()\n",
    "    sents_str += \" \".join([token.replace(\" \", \"_\") for token in sentence]) + \"\\n\"\n",
    "  return sents_str"
   ]
  },
  {
   "cell_type": "code",
   "execution_count": 16,
   "id": "8230a0a4-adb7-4c81-bda7-5c66e891021c",
   "metadata": {},
   "outputs": [],
   "source": [
    "def tokenize_corpus(path, replace=False):\n",
    "  for pecha_path in tqdm(list(path.iterdir())):\n",
    "    for fn in pecha_path.iterdir():\n",
    "      fn_tokenized = fn.parent / f\"{fn.stem}-tokenized.txt\"\n",
    "      if fn_tokenized.is_file() and not replace:\n",
    "        continue\n",
    "      text = fn.read_text()\n",
    "      if not text: continue\n",
    "      sents_str = tokenize(text)\n",
    "      fn_tokenized.write_text(sents_str)"
   ]
  },
  {
   "cell_type": "code",
   "execution_count": null,
   "id": "6eb059cb-7bc9-42f3-b550-a1b94b07e73c",
   "metadata": {},
   "outputs": [
    {
     "name": "stderr",
     "output_type": "stream",
     "text": [
      "  0%|          | 0/2 [00:00<?, ?it/s]/home/studio-lab-user/.conda/envs/default/lib/python3.9/site-packages/botok/textunits/bostring.py:82: UserWarning: Beware of unexpected results: input string contains the non-expanded char \"ྒྷ\", found in \"\".\n",
      "  warn(\n",
      "/home/studio-lab-user/.conda/envs/default/lib/python3.9/site-packages/botok/textunits/bostring.py:82: UserWarning: Beware of unexpected results: input string contains the non-expanded char \"ཀྵ\", found in \"\".\n",
      "  warn(\n",
      "/home/studio-lab-user/.conda/envs/default/lib/python3.9/site-packages/botok/textunits/bostring.py:82: UserWarning: Beware of unexpected results: input string contains the non-expanded char \"དྷ\", found in \"\".\n",
      "  warn(\n",
      "/home/studio-lab-user/.conda/envs/default/lib/python3.9/site-packages/botok/textunits/bostring.py:82: UserWarning: Beware of unexpected results: input string contains the non-expanded char \"ཌྷ\", found in \"\".\n",
      "  warn(\n",
      "  0%|          | 0/2 [08:30<?, ?it/s]\n"
     ]
    }
   ],
   "source": [
    "tokenize_corpus(corpus_path)"
   ]
  },
  {
   "cell_type": "code",
   "execution_count": null,
   "id": "cca40209-9b86-4022-a4d2-84caaa48c4ee",
   "metadata": {},
   "outputs": [],
   "source": []
  }
 ],
 "metadata": {
  "kernelspec": {
   "display_name": "default:Python",
   "language": "python",
   "name": "conda-env-default-py"
  },
  "language_info": {
   "codemirror_mode": {
    "name": "ipython",
    "version": 3
   },
   "file_extension": ".py",
   "mimetype": "text/x-python",
   "name": "python",
   "nbconvert_exporter": "python",
   "pygments_lexer": "ipython3",
   "version": "3.9.10"
  }
 },
 "nbformat": 4,
 "nbformat_minor": 5
}
