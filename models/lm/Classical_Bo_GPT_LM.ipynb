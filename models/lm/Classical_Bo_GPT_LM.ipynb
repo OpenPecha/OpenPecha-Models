{
  "nbformat": 4,
  "nbformat_minor": 0,
  "metadata": {
    "colab": {
      "name": "Classical Bo GPT LM.ipynb",
      "provenance": [],
      "collapsed_sections": [],
      "mount_file_id": "1xWOiWV1DAtWBona4lSGTcd81qLyUHG2k",
      "authorship_tag": "ABX9TyPw4FJjR62grsDsnwsFtyuD",
      "include_colab_link": true
    },
    "kernelspec": {
      "name": "python3",
      "display_name": "Python 3"
    },
    "language_info": {
      "name": "python"
    },
    "widgets": {
      "application/vnd.jupyter.widget-state+json": {
        "c7dc01b1f066481197c299db06a54c44": {
          "model_module": "@jupyter-widgets/controls",
          "model_name": "HBoxModel",
          "model_module_version": "1.5.0",
          "state": {
            "_dom_classes": [],
            "_model_module": "@jupyter-widgets/controls",
            "_model_module_version": "1.5.0",
            "_model_name": "HBoxModel",
            "_view_count": null,
            "_view_module": "@jupyter-widgets/controls",
            "_view_module_version": "1.5.0",
            "_view_name": "HBoxView",
            "box_style": "",
            "children": [
              "IPY_MODEL_3c9aabfcd6834ac8967a72b1f93487a8",
              "IPY_MODEL_1cb4ab1bf015484281a7029b7c026036",
              "IPY_MODEL_eb85674ffc2946058f9b17c1511adf9c"
            ],
            "layout": "IPY_MODEL_7e7cb97013334e608b56e5d02919aa02"
          }
        },
        "3c9aabfcd6834ac8967a72b1f93487a8": {
          "model_module": "@jupyter-widgets/controls",
          "model_name": "HTMLModel",
          "model_module_version": "1.5.0",
          "state": {
            "_dom_classes": [],
            "_model_module": "@jupyter-widgets/controls",
            "_model_module_version": "1.5.0",
            "_model_name": "HTMLModel",
            "_view_count": null,
            "_view_module": "@jupyter-widgets/controls",
            "_view_module_version": "1.5.0",
            "_view_name": "HTMLView",
            "description": "",
            "description_tooltip": null,
            "layout": "IPY_MODEL_478223825d594c56a0987333ebccd990",
            "placeholder": "​",
            "style": "IPY_MODEL_f0a55430bc924ad6bc86c3baece86e78",
            "value": "Resolving data files: 100%"
          }
        },
        "1cb4ab1bf015484281a7029b7c026036": {
          "model_module": "@jupyter-widgets/controls",
          "model_name": "FloatProgressModel",
          "model_module_version": "1.5.0",
          "state": {
            "_dom_classes": [],
            "_model_module": "@jupyter-widgets/controls",
            "_model_module_version": "1.5.0",
            "_model_name": "FloatProgressModel",
            "_view_count": null,
            "_view_module": "@jupyter-widgets/controls",
            "_view_module_version": "1.5.0",
            "_view_name": "ProgressView",
            "bar_style": "success",
            "description": "",
            "description_tooltip": null,
            "layout": "IPY_MODEL_19f3ee6d0dd04f86912a7d148afeedaa",
            "max": 4516,
            "min": 0,
            "orientation": "horizontal",
            "style": "IPY_MODEL_8dced8a886254175a5a55eccba4905ea",
            "value": 4516
          }
        },
        "eb85674ffc2946058f9b17c1511adf9c": {
          "model_module": "@jupyter-widgets/controls",
          "model_name": "HTMLModel",
          "model_module_version": "1.5.0",
          "state": {
            "_dom_classes": [],
            "_model_module": "@jupyter-widgets/controls",
            "_model_module_version": "1.5.0",
            "_model_name": "HTMLModel",
            "_view_count": null,
            "_view_module": "@jupyter-widgets/controls",
            "_view_module_version": "1.5.0",
            "_view_name": "HTMLView",
            "description": "",
            "description_tooltip": null,
            "layout": "IPY_MODEL_2e5acae43a784326b5cae6f35551be87",
            "placeholder": "​",
            "style": "IPY_MODEL_f4f3e152f6d94f8285180586826be0b5",
            "value": " 4516/4516 [00:03&lt;00:00, 1177.78it/s]"
          }
        },
        "7e7cb97013334e608b56e5d02919aa02": {
          "model_module": "@jupyter-widgets/base",
          "model_name": "LayoutModel",
          "model_module_version": "1.2.0",
          "state": {
            "_model_module": "@jupyter-widgets/base",
            "_model_module_version": "1.2.0",
            "_model_name": "LayoutModel",
            "_view_count": null,
            "_view_module": "@jupyter-widgets/base",
            "_view_module_version": "1.2.0",
            "_view_name": "LayoutView",
            "align_content": null,
            "align_items": null,
            "align_self": null,
            "border": null,
            "bottom": null,
            "display": null,
            "flex": null,
            "flex_flow": null,
            "grid_area": null,
            "grid_auto_columns": null,
            "grid_auto_flow": null,
            "grid_auto_rows": null,
            "grid_column": null,
            "grid_gap": null,
            "grid_row": null,
            "grid_template_areas": null,
            "grid_template_columns": null,
            "grid_template_rows": null,
            "height": null,
            "justify_content": null,
            "justify_items": null,
            "left": null,
            "margin": null,
            "max_height": null,
            "max_width": null,
            "min_height": null,
            "min_width": null,
            "object_fit": null,
            "object_position": null,
            "order": null,
            "overflow": null,
            "overflow_x": null,
            "overflow_y": null,
            "padding": null,
            "right": null,
            "top": null,
            "visibility": null,
            "width": null
          }
        },
        "478223825d594c56a0987333ebccd990": {
          "model_module": "@jupyter-widgets/base",
          "model_name": "LayoutModel",
          "model_module_version": "1.2.0",
          "state": {
            "_model_module": "@jupyter-widgets/base",
            "_model_module_version": "1.2.0",
            "_model_name": "LayoutModel",
            "_view_count": null,
            "_view_module": "@jupyter-widgets/base",
            "_view_module_version": "1.2.0",
            "_view_name": "LayoutView",
            "align_content": null,
            "align_items": null,
            "align_self": null,
            "border": null,
            "bottom": null,
            "display": null,
            "flex": null,
            "flex_flow": null,
            "grid_area": null,
            "grid_auto_columns": null,
            "grid_auto_flow": null,
            "grid_auto_rows": null,
            "grid_column": null,
            "grid_gap": null,
            "grid_row": null,
            "grid_template_areas": null,
            "grid_template_columns": null,
            "grid_template_rows": null,
            "height": null,
            "justify_content": null,
            "justify_items": null,
            "left": null,
            "margin": null,
            "max_height": null,
            "max_width": null,
            "min_height": null,
            "min_width": null,
            "object_fit": null,
            "object_position": null,
            "order": null,
            "overflow": null,
            "overflow_x": null,
            "overflow_y": null,
            "padding": null,
            "right": null,
            "top": null,
            "visibility": null,
            "width": null
          }
        },
        "f0a55430bc924ad6bc86c3baece86e78": {
          "model_module": "@jupyter-widgets/controls",
          "model_name": "DescriptionStyleModel",
          "model_module_version": "1.5.0",
          "state": {
            "_model_module": "@jupyter-widgets/controls",
            "_model_module_version": "1.5.0",
            "_model_name": "DescriptionStyleModel",
            "_view_count": null,
            "_view_module": "@jupyter-widgets/base",
            "_view_module_version": "1.2.0",
            "_view_name": "StyleView",
            "description_width": ""
          }
        },
        "19f3ee6d0dd04f86912a7d148afeedaa": {
          "model_module": "@jupyter-widgets/base",
          "model_name": "LayoutModel",
          "model_module_version": "1.2.0",
          "state": {
            "_model_module": "@jupyter-widgets/base",
            "_model_module_version": "1.2.0",
            "_model_name": "LayoutModel",
            "_view_count": null,
            "_view_module": "@jupyter-widgets/base",
            "_view_module_version": "1.2.0",
            "_view_name": "LayoutView",
            "align_content": null,
            "align_items": null,
            "align_self": null,
            "border": null,
            "bottom": null,
            "display": null,
            "flex": null,
            "flex_flow": null,
            "grid_area": null,
            "grid_auto_columns": null,
            "grid_auto_flow": null,
            "grid_auto_rows": null,
            "grid_column": null,
            "grid_gap": null,
            "grid_row": null,
            "grid_template_areas": null,
            "grid_template_columns": null,
            "grid_template_rows": null,
            "height": null,
            "justify_content": null,
            "justify_items": null,
            "left": null,
            "margin": null,
            "max_height": null,
            "max_width": null,
            "min_height": null,
            "min_width": null,
            "object_fit": null,
            "object_position": null,
            "order": null,
            "overflow": null,
            "overflow_x": null,
            "overflow_y": null,
            "padding": null,
            "right": null,
            "top": null,
            "visibility": null,
            "width": null
          }
        },
        "8dced8a886254175a5a55eccba4905ea": {
          "model_module": "@jupyter-widgets/controls",
          "model_name": "ProgressStyleModel",
          "model_module_version": "1.5.0",
          "state": {
            "_model_module": "@jupyter-widgets/controls",
            "_model_module_version": "1.5.0",
            "_model_name": "ProgressStyleModel",
            "_view_count": null,
            "_view_module": "@jupyter-widgets/base",
            "_view_module_version": "1.2.0",
            "_view_name": "StyleView",
            "bar_color": null,
            "description_width": ""
          }
        },
        "2e5acae43a784326b5cae6f35551be87": {
          "model_module": "@jupyter-widgets/base",
          "model_name": "LayoutModel",
          "model_module_version": "1.2.0",
          "state": {
            "_model_module": "@jupyter-widgets/base",
            "_model_module_version": "1.2.0",
            "_model_name": "LayoutModel",
            "_view_count": null,
            "_view_module": "@jupyter-widgets/base",
            "_view_module_version": "1.2.0",
            "_view_name": "LayoutView",
            "align_content": null,
            "align_items": null,
            "align_self": null,
            "border": null,
            "bottom": null,
            "display": null,
            "flex": null,
            "flex_flow": null,
            "grid_area": null,
            "grid_auto_columns": null,
            "grid_auto_flow": null,
            "grid_auto_rows": null,
            "grid_column": null,
            "grid_gap": null,
            "grid_row": null,
            "grid_template_areas": null,
            "grid_template_columns": null,
            "grid_template_rows": null,
            "height": null,
            "justify_content": null,
            "justify_items": null,
            "left": null,
            "margin": null,
            "max_height": null,
            "max_width": null,
            "min_height": null,
            "min_width": null,
            "object_fit": null,
            "object_position": null,
            "order": null,
            "overflow": null,
            "overflow_x": null,
            "overflow_y": null,
            "padding": null,
            "right": null,
            "top": null,
            "visibility": null,
            "width": null
          }
        },
        "f4f3e152f6d94f8285180586826be0b5": {
          "model_module": "@jupyter-widgets/controls",
          "model_name": "DescriptionStyleModel",
          "model_module_version": "1.5.0",
          "state": {
            "_model_module": "@jupyter-widgets/controls",
            "_model_module_version": "1.5.0",
            "_model_name": "DescriptionStyleModel",
            "_view_count": null,
            "_view_module": "@jupyter-widgets/base",
            "_view_module_version": "1.2.0",
            "_view_name": "StyleView",
            "description_width": ""
          }
        },
        "3e30f0c7603b40f8bd72c8ea61d6c7ed": {
          "model_module": "@jupyter-widgets/controls",
          "model_name": "HBoxModel",
          "model_module_version": "1.5.0",
          "state": {
            "_dom_classes": [],
            "_model_module": "@jupyter-widgets/controls",
            "_model_module_version": "1.5.0",
            "_model_name": "HBoxModel",
            "_view_count": null,
            "_view_module": "@jupyter-widgets/controls",
            "_view_module_version": "1.5.0",
            "_view_name": "HBoxView",
            "box_style": "",
            "children": [
              "IPY_MODEL_5a1799177b7c46d1a86719f190758d09",
              "IPY_MODEL_71f20a09a8cb4051a1a8d12b92c9e689",
              "IPY_MODEL_5b9ae321d8eb4b3a80f66a9a31910a05"
            ],
            "layout": "IPY_MODEL_c977626f12404d5da384087547d9a256"
          }
        },
        "5a1799177b7c46d1a86719f190758d09": {
          "model_module": "@jupyter-widgets/controls",
          "model_name": "HTMLModel",
          "model_module_version": "1.5.0",
          "state": {
            "_dom_classes": [],
            "_model_module": "@jupyter-widgets/controls",
            "_model_module_version": "1.5.0",
            "_model_name": "HTMLModel",
            "_view_count": null,
            "_view_module": "@jupyter-widgets/controls",
            "_view_module_version": "1.5.0",
            "_view_name": "HTMLView",
            "description": "",
            "description_tooltip": null,
            "layout": "IPY_MODEL_4733b34f7989441481906b6304e0ae0a",
            "placeholder": "​",
            "style": "IPY_MODEL_0b6e18fcaea145a4aa589641d7f57107",
            "value": "Downloading data files: 100%"
          }
        },
        "71f20a09a8cb4051a1a8d12b92c9e689": {
          "model_module": "@jupyter-widgets/controls",
          "model_name": "FloatProgressModel",
          "model_module_version": "1.5.0",
          "state": {
            "_dom_classes": [],
            "_model_module": "@jupyter-widgets/controls",
            "_model_module_version": "1.5.0",
            "_model_name": "FloatProgressModel",
            "_view_count": null,
            "_view_module": "@jupyter-widgets/controls",
            "_view_module_version": "1.5.0",
            "_view_name": "ProgressView",
            "bar_style": "success",
            "description": "",
            "description_tooltip": null,
            "layout": "IPY_MODEL_7b7426583e0c4e309ca7bee684964203",
            "max": 1,
            "min": 0,
            "orientation": "horizontal",
            "style": "IPY_MODEL_4a398f9098ee4795a259dd022fbe036d",
            "value": 1
          }
        },
        "5b9ae321d8eb4b3a80f66a9a31910a05": {
          "model_module": "@jupyter-widgets/controls",
          "model_name": "HTMLModel",
          "model_module_version": "1.5.0",
          "state": {
            "_dom_classes": [],
            "_model_module": "@jupyter-widgets/controls",
            "_model_module_version": "1.5.0",
            "_model_name": "HTMLModel",
            "_view_count": null,
            "_view_module": "@jupyter-widgets/controls",
            "_view_module_version": "1.5.0",
            "_view_name": "HTMLView",
            "description": "",
            "description_tooltip": null,
            "layout": "IPY_MODEL_d99bd641adbd4184ac462f8b8df02ef6",
            "placeholder": "​",
            "style": "IPY_MODEL_2657fd125cee4ec59b344ce41afea916",
            "value": " 1/1 [00:01&lt;00:00,  1.95s/it]"
          }
        },
        "c977626f12404d5da384087547d9a256": {
          "model_module": "@jupyter-widgets/base",
          "model_name": "LayoutModel",
          "model_module_version": "1.2.0",
          "state": {
            "_model_module": "@jupyter-widgets/base",
            "_model_module_version": "1.2.0",
            "_model_name": "LayoutModel",
            "_view_count": null,
            "_view_module": "@jupyter-widgets/base",
            "_view_module_version": "1.2.0",
            "_view_name": "LayoutView",
            "align_content": null,
            "align_items": null,
            "align_self": null,
            "border": null,
            "bottom": null,
            "display": null,
            "flex": null,
            "flex_flow": null,
            "grid_area": null,
            "grid_auto_columns": null,
            "grid_auto_flow": null,
            "grid_auto_rows": null,
            "grid_column": null,
            "grid_gap": null,
            "grid_row": null,
            "grid_template_areas": null,
            "grid_template_columns": null,
            "grid_template_rows": null,
            "height": null,
            "justify_content": null,
            "justify_items": null,
            "left": null,
            "margin": null,
            "max_height": null,
            "max_width": null,
            "min_height": null,
            "min_width": null,
            "object_fit": null,
            "object_position": null,
            "order": null,
            "overflow": null,
            "overflow_x": null,
            "overflow_y": null,
            "padding": null,
            "right": null,
            "top": null,
            "visibility": null,
            "width": null
          }
        },
        "4733b34f7989441481906b6304e0ae0a": {
          "model_module": "@jupyter-widgets/base",
          "model_name": "LayoutModel",
          "model_module_version": "1.2.0",
          "state": {
            "_model_module": "@jupyter-widgets/base",
            "_model_module_version": "1.2.0",
            "_model_name": "LayoutModel",
            "_view_count": null,
            "_view_module": "@jupyter-widgets/base",
            "_view_module_version": "1.2.0",
            "_view_name": "LayoutView",
            "align_content": null,
            "align_items": null,
            "align_self": null,
            "border": null,
            "bottom": null,
            "display": null,
            "flex": null,
            "flex_flow": null,
            "grid_area": null,
            "grid_auto_columns": null,
            "grid_auto_flow": null,
            "grid_auto_rows": null,
            "grid_column": null,
            "grid_gap": null,
            "grid_row": null,
            "grid_template_areas": null,
            "grid_template_columns": null,
            "grid_template_rows": null,
            "height": null,
            "justify_content": null,
            "justify_items": null,
            "left": null,
            "margin": null,
            "max_height": null,
            "max_width": null,
            "min_height": null,
            "min_width": null,
            "object_fit": null,
            "object_position": null,
            "order": null,
            "overflow": null,
            "overflow_x": null,
            "overflow_y": null,
            "padding": null,
            "right": null,
            "top": null,
            "visibility": null,
            "width": null
          }
        },
        "0b6e18fcaea145a4aa589641d7f57107": {
          "model_module": "@jupyter-widgets/controls",
          "model_name": "DescriptionStyleModel",
          "model_module_version": "1.5.0",
          "state": {
            "_model_module": "@jupyter-widgets/controls",
            "_model_module_version": "1.5.0",
            "_model_name": "DescriptionStyleModel",
            "_view_count": null,
            "_view_module": "@jupyter-widgets/base",
            "_view_module_version": "1.2.0",
            "_view_name": "StyleView",
            "description_width": ""
          }
        },
        "7b7426583e0c4e309ca7bee684964203": {
          "model_module": "@jupyter-widgets/base",
          "model_name": "LayoutModel",
          "model_module_version": "1.2.0",
          "state": {
            "_model_module": "@jupyter-widgets/base",
            "_model_module_version": "1.2.0",
            "_model_name": "LayoutModel",
            "_view_count": null,
            "_view_module": "@jupyter-widgets/base",
            "_view_module_version": "1.2.0",
            "_view_name": "LayoutView",
            "align_content": null,
            "align_items": null,
            "align_self": null,
            "border": null,
            "bottom": null,
            "display": null,
            "flex": null,
            "flex_flow": null,
            "grid_area": null,
            "grid_auto_columns": null,
            "grid_auto_flow": null,
            "grid_auto_rows": null,
            "grid_column": null,
            "grid_gap": null,
            "grid_row": null,
            "grid_template_areas": null,
            "grid_template_columns": null,
            "grid_template_rows": null,
            "height": null,
            "justify_content": null,
            "justify_items": null,
            "left": null,
            "margin": null,
            "max_height": null,
            "max_width": null,
            "min_height": null,
            "min_width": null,
            "object_fit": null,
            "object_position": null,
            "order": null,
            "overflow": null,
            "overflow_x": null,
            "overflow_y": null,
            "padding": null,
            "right": null,
            "top": null,
            "visibility": null,
            "width": null
          }
        },
        "4a398f9098ee4795a259dd022fbe036d": {
          "model_module": "@jupyter-widgets/controls",
          "model_name": "ProgressStyleModel",
          "model_module_version": "1.5.0",
          "state": {
            "_model_module": "@jupyter-widgets/controls",
            "_model_module_version": "1.5.0",
            "_model_name": "ProgressStyleModel",
            "_view_count": null,
            "_view_module": "@jupyter-widgets/base",
            "_view_module_version": "1.2.0",
            "_view_name": "StyleView",
            "bar_color": null,
            "description_width": ""
          }
        },
        "d99bd641adbd4184ac462f8b8df02ef6": {
          "model_module": "@jupyter-widgets/base",
          "model_name": "LayoutModel",
          "model_module_version": "1.2.0",
          "state": {
            "_model_module": "@jupyter-widgets/base",
            "_model_module_version": "1.2.0",
            "_model_name": "LayoutModel",
            "_view_count": null,
            "_view_module": "@jupyter-widgets/base",
            "_view_module_version": "1.2.0",
            "_view_name": "LayoutView",
            "align_content": null,
            "align_items": null,
            "align_self": null,
            "border": null,
            "bottom": null,
            "display": null,
            "flex": null,
            "flex_flow": null,
            "grid_area": null,
            "grid_auto_columns": null,
            "grid_auto_flow": null,
            "grid_auto_rows": null,
            "grid_column": null,
            "grid_gap": null,
            "grid_row": null,
            "grid_template_areas": null,
            "grid_template_columns": null,
            "grid_template_rows": null,
            "height": null,
            "justify_content": null,
            "justify_items": null,
            "left": null,
            "margin": null,
            "max_height": null,
            "max_width": null,
            "min_height": null,
            "min_width": null,
            "object_fit": null,
            "object_position": null,
            "order": null,
            "overflow": null,
            "overflow_x": null,
            "overflow_y": null,
            "padding": null,
            "right": null,
            "top": null,
            "visibility": null,
            "width": null
          }
        },
        "2657fd125cee4ec59b344ce41afea916": {
          "model_module": "@jupyter-widgets/controls",
          "model_name": "DescriptionStyleModel",
          "model_module_version": "1.5.0",
          "state": {
            "_model_module": "@jupyter-widgets/controls",
            "_model_module_version": "1.5.0",
            "_model_name": "DescriptionStyleModel",
            "_view_count": null,
            "_view_module": "@jupyter-widgets/base",
            "_view_module_version": "1.2.0",
            "_view_name": "StyleView",
            "description_width": ""
          }
        },
        "6be035a562ef42e4bc4e38d4ea07109b": {
          "model_module": "@jupyter-widgets/controls",
          "model_name": "HBoxModel",
          "model_module_version": "1.5.0",
          "state": {
            "_dom_classes": [],
            "_model_module": "@jupyter-widgets/controls",
            "_model_module_version": "1.5.0",
            "_model_name": "HBoxModel",
            "_view_count": null,
            "_view_module": "@jupyter-widgets/controls",
            "_view_module_version": "1.5.0",
            "_view_name": "HBoxView",
            "box_style": "",
            "children": [
              "IPY_MODEL_256a783bc3c048be95528443e68ba6e8",
              "IPY_MODEL_0bad06373d4d4955a67c531b91bb24fa",
              "IPY_MODEL_a00cc17c8bf447f09495b2d4f8693d0d"
            ],
            "layout": "IPY_MODEL_288503ffa7594d668c9efe8e079fff8e"
          }
        },
        "256a783bc3c048be95528443e68ba6e8": {
          "model_module": "@jupyter-widgets/controls",
          "model_name": "HTMLModel",
          "model_module_version": "1.5.0",
          "state": {
            "_dom_classes": [],
            "_model_module": "@jupyter-widgets/controls",
            "_model_module_version": "1.5.0",
            "_model_name": "HTMLModel",
            "_view_count": null,
            "_view_module": "@jupyter-widgets/controls",
            "_view_module_version": "1.5.0",
            "_view_name": "HTMLView",
            "description": "",
            "description_tooltip": null,
            "layout": "IPY_MODEL_76b943463e2b46a59d71e48338d4ab5f",
            "placeholder": "​",
            "style": "IPY_MODEL_7b92c30df0464af0a18620fe4d4a6880",
            "value": "Extracting data files: 100%"
          }
        },
        "0bad06373d4d4955a67c531b91bb24fa": {
          "model_module": "@jupyter-widgets/controls",
          "model_name": "FloatProgressModel",
          "model_module_version": "1.5.0",
          "state": {
            "_dom_classes": [],
            "_model_module": "@jupyter-widgets/controls",
            "_model_module_version": "1.5.0",
            "_model_name": "FloatProgressModel",
            "_view_count": null,
            "_view_module": "@jupyter-widgets/controls",
            "_view_module_version": "1.5.0",
            "_view_name": "ProgressView",
            "bar_style": "success",
            "description": "",
            "description_tooltip": null,
            "layout": "IPY_MODEL_137c4a1cee8f45118f6bf3cdba047039",
            "max": 1,
            "min": 0,
            "orientation": "horizontal",
            "style": "IPY_MODEL_c422846193c94742bf75d3506a1c6820",
            "value": 1
          }
        },
        "a00cc17c8bf447f09495b2d4f8693d0d": {
          "model_module": "@jupyter-widgets/controls",
          "model_name": "HTMLModel",
          "model_module_version": "1.5.0",
          "state": {
            "_dom_classes": [],
            "_model_module": "@jupyter-widgets/controls",
            "_model_module_version": "1.5.0",
            "_model_name": "HTMLModel",
            "_view_count": null,
            "_view_module": "@jupyter-widgets/controls",
            "_view_module_version": "1.5.0",
            "_view_name": "HTMLView",
            "description": "",
            "description_tooltip": null,
            "layout": "IPY_MODEL_46c2a38c466e4c5795c7976d07c9ce05",
            "placeholder": "​",
            "style": "IPY_MODEL_65da58798280483b83703a3905e147d3",
            "value": " 1/1 [00:49&lt;00:00, 49.55s/it]"
          }
        },
        "288503ffa7594d668c9efe8e079fff8e": {
          "model_module": "@jupyter-widgets/base",
          "model_name": "LayoutModel",
          "model_module_version": "1.2.0",
          "state": {
            "_model_module": "@jupyter-widgets/base",
            "_model_module_version": "1.2.0",
            "_model_name": "LayoutModel",
            "_view_count": null,
            "_view_module": "@jupyter-widgets/base",
            "_view_module_version": "1.2.0",
            "_view_name": "LayoutView",
            "align_content": null,
            "align_items": null,
            "align_self": null,
            "border": null,
            "bottom": null,
            "display": null,
            "flex": null,
            "flex_flow": null,
            "grid_area": null,
            "grid_auto_columns": null,
            "grid_auto_flow": null,
            "grid_auto_rows": null,
            "grid_column": null,
            "grid_gap": null,
            "grid_row": null,
            "grid_template_areas": null,
            "grid_template_columns": null,
            "grid_template_rows": null,
            "height": null,
            "justify_content": null,
            "justify_items": null,
            "left": null,
            "margin": null,
            "max_height": null,
            "max_width": null,
            "min_height": null,
            "min_width": null,
            "object_fit": null,
            "object_position": null,
            "order": null,
            "overflow": null,
            "overflow_x": null,
            "overflow_y": null,
            "padding": null,
            "right": null,
            "top": null,
            "visibility": null,
            "width": null
          }
        },
        "76b943463e2b46a59d71e48338d4ab5f": {
          "model_module": "@jupyter-widgets/base",
          "model_name": "LayoutModel",
          "model_module_version": "1.2.0",
          "state": {
            "_model_module": "@jupyter-widgets/base",
            "_model_module_version": "1.2.0",
            "_model_name": "LayoutModel",
            "_view_count": null,
            "_view_module": "@jupyter-widgets/base",
            "_view_module_version": "1.2.0",
            "_view_name": "LayoutView",
            "align_content": null,
            "align_items": null,
            "align_self": null,
            "border": null,
            "bottom": null,
            "display": null,
            "flex": null,
            "flex_flow": null,
            "grid_area": null,
            "grid_auto_columns": null,
            "grid_auto_flow": null,
            "grid_auto_rows": null,
            "grid_column": null,
            "grid_gap": null,
            "grid_row": null,
            "grid_template_areas": null,
            "grid_template_columns": null,
            "grid_template_rows": null,
            "height": null,
            "justify_content": null,
            "justify_items": null,
            "left": null,
            "margin": null,
            "max_height": null,
            "max_width": null,
            "min_height": null,
            "min_width": null,
            "object_fit": null,
            "object_position": null,
            "order": null,
            "overflow": null,
            "overflow_x": null,
            "overflow_y": null,
            "padding": null,
            "right": null,
            "top": null,
            "visibility": null,
            "width": null
          }
        },
        "7b92c30df0464af0a18620fe4d4a6880": {
          "model_module": "@jupyter-widgets/controls",
          "model_name": "DescriptionStyleModel",
          "model_module_version": "1.5.0",
          "state": {
            "_model_module": "@jupyter-widgets/controls",
            "_model_module_version": "1.5.0",
            "_model_name": "DescriptionStyleModel",
            "_view_count": null,
            "_view_module": "@jupyter-widgets/base",
            "_view_module_version": "1.2.0",
            "_view_name": "StyleView",
            "description_width": ""
          }
        },
        "137c4a1cee8f45118f6bf3cdba047039": {
          "model_module": "@jupyter-widgets/base",
          "model_name": "LayoutModel",
          "model_module_version": "1.2.0",
          "state": {
            "_model_module": "@jupyter-widgets/base",
            "_model_module_version": "1.2.0",
            "_model_name": "LayoutModel",
            "_view_count": null,
            "_view_module": "@jupyter-widgets/base",
            "_view_module_version": "1.2.0",
            "_view_name": "LayoutView",
            "align_content": null,
            "align_items": null,
            "align_self": null,
            "border": null,
            "bottom": null,
            "display": null,
            "flex": null,
            "flex_flow": null,
            "grid_area": null,
            "grid_auto_columns": null,
            "grid_auto_flow": null,
            "grid_auto_rows": null,
            "grid_column": null,
            "grid_gap": null,
            "grid_row": null,
            "grid_template_areas": null,
            "grid_template_columns": null,
            "grid_template_rows": null,
            "height": null,
            "justify_content": null,
            "justify_items": null,
            "left": null,
            "margin": null,
            "max_height": null,
            "max_width": null,
            "min_height": null,
            "min_width": null,
            "object_fit": null,
            "object_position": null,
            "order": null,
            "overflow": null,
            "overflow_x": null,
            "overflow_y": null,
            "padding": null,
            "right": null,
            "top": null,
            "visibility": null,
            "width": null
          }
        },
        "c422846193c94742bf75d3506a1c6820": {
          "model_module": "@jupyter-widgets/controls",
          "model_name": "ProgressStyleModel",
          "model_module_version": "1.5.0",
          "state": {
            "_model_module": "@jupyter-widgets/controls",
            "_model_module_version": "1.5.0",
            "_model_name": "ProgressStyleModel",
            "_view_count": null,
            "_view_module": "@jupyter-widgets/base",
            "_view_module_version": "1.2.0",
            "_view_name": "StyleView",
            "bar_color": null,
            "description_width": ""
          }
        },
        "46c2a38c466e4c5795c7976d07c9ce05": {
          "model_module": "@jupyter-widgets/base",
          "model_name": "LayoutModel",
          "model_module_version": "1.2.0",
          "state": {
            "_model_module": "@jupyter-widgets/base",
            "_model_module_version": "1.2.0",
            "_model_name": "LayoutModel",
            "_view_count": null,
            "_view_module": "@jupyter-widgets/base",
            "_view_module_version": "1.2.0",
            "_view_name": "LayoutView",
            "align_content": null,
            "align_items": null,
            "align_self": null,
            "border": null,
            "bottom": null,
            "display": null,
            "flex": null,
            "flex_flow": null,
            "grid_area": null,
            "grid_auto_columns": null,
            "grid_auto_flow": null,
            "grid_auto_rows": null,
            "grid_column": null,
            "grid_gap": null,
            "grid_row": null,
            "grid_template_areas": null,
            "grid_template_columns": null,
            "grid_template_rows": null,
            "height": null,
            "justify_content": null,
            "justify_items": null,
            "left": null,
            "margin": null,
            "max_height": null,
            "max_width": null,
            "min_height": null,
            "min_width": null,
            "object_fit": null,
            "object_position": null,
            "order": null,
            "overflow": null,
            "overflow_x": null,
            "overflow_y": null,
            "padding": null,
            "right": null,
            "top": null,
            "visibility": null,
            "width": null
          }
        },
        "65da58798280483b83703a3905e147d3": {
          "model_module": "@jupyter-widgets/controls",
          "model_name": "DescriptionStyleModel",
          "model_module_version": "1.5.0",
          "state": {
            "_model_module": "@jupyter-widgets/controls",
            "_model_module_version": "1.5.0",
            "_model_name": "DescriptionStyleModel",
            "_view_count": null,
            "_view_module": "@jupyter-widgets/base",
            "_view_module_version": "1.2.0",
            "_view_name": "StyleView",
            "description_width": ""
          }
        }
      }
    }
  },
  "cells": [
    {
      "cell_type": "markdown",
      "metadata": {
        "id": "view-in-github",
        "colab_type": "text"
      },
      "source": [
        "<a href=\"https://colab.research.google.com/github/OpenPecha-dev/models/blob/main/models/lm/Classical_Bo_GPT_LM.ipynb\" target=\"_parent\"><img src=\"https://colab.research.google.com/assets/colab-badge.svg\" alt=\"Open In Colab\"/></a>"
      ]
    },
    {
      "cell_type": "code",
      "execution_count": null,
      "metadata": {
        "colab": {
          "base_uri": "https://localhost:8080/",
          "height": 1000
        },
        "id": "FGIeoRmDNTdb",
        "outputId": "bed791e5-40d7-4c8a-c92a-d3b893feed9a"
      },
      "outputs": [
        {
          "output_type": "stream",
          "name": "stdout",
          "text": [
            "Requirement already satisfied: tokenizers in /usr/local/lib/python3.7/dist-packages (0.12.0)\n",
            "Requirement already satisfied: transformers in /usr/local/lib/python3.7/dist-packages (4.17.0)\n",
            "Requirement already satisfied: tqdm>=4.27 in /usr/local/lib/python3.7/dist-packages (from transformers) (4.63.0)\n",
            "Requirement already satisfied: importlib-metadata in /usr/local/lib/python3.7/dist-packages (from transformers) (4.11.3)\n",
            "Requirement already satisfied: filelock in /usr/local/lib/python3.7/dist-packages (from transformers) (3.6.0)\n",
            "Requirement already satisfied: requests in /usr/local/lib/python3.7/dist-packages (from transformers) (2.27.1)\n",
            "Requirement already satisfied: packaging>=20.0 in /usr/local/lib/python3.7/dist-packages (from transformers) (21.3)\n",
            "Requirement already satisfied: tokenizers!=0.11.3,>=0.11.1 in /usr/local/lib/python3.7/dist-packages (from transformers) (0.12.0)\n",
            "Requirement already satisfied: regex!=2019.12.17 in /usr/local/lib/python3.7/dist-packages (from transformers) (2022.3.15)\n",
            "Requirement already satisfied: sacremoses in /usr/local/lib/python3.7/dist-packages (from transformers) (0.0.49)\n",
            "Requirement already satisfied: huggingface-hub<1.0,>=0.1.0 in /usr/local/lib/python3.7/dist-packages (from transformers) (0.4.0)\n",
            "Requirement already satisfied: numpy>=1.17 in /usr/local/lib/python3.7/dist-packages (from transformers) (1.21.5)\n",
            "Requirement already satisfied: pyyaml>=5.1 in /usr/local/lib/python3.7/dist-packages (from transformers) (5.4.1)\n",
            "Requirement already satisfied: typing-extensions>=3.7.4.3 in /usr/local/lib/python3.7/dist-packages (from huggingface-hub<1.0,>=0.1.0->transformers) (3.10.0.2)\n",
            "Requirement already satisfied: pyparsing!=3.0.5,>=2.0.2 in /usr/local/lib/python3.7/dist-packages (from packaging>=20.0->transformers) (3.0.7)\n",
            "Requirement already satisfied: zipp>=0.5 in /usr/local/lib/python3.7/dist-packages (from importlib-metadata->transformers) (3.7.0)\n",
            "Requirement already satisfied: certifi>=2017.4.17 in /usr/local/lib/python3.7/dist-packages (from requests->transformers) (2021.10.8)\n",
            "Requirement already satisfied: idna<4,>=2.5 in /usr/local/lib/python3.7/dist-packages (from requests->transformers) (2.10)\n",
            "Requirement already satisfied: charset-normalizer~=2.0.0 in /usr/local/lib/python3.7/dist-packages (from requests->transformers) (2.0.12)\n",
            "Requirement already satisfied: urllib3<1.27,>=1.21.1 in /usr/local/lib/python3.7/dist-packages (from requests->transformers) (1.25.11)\n",
            "Requirement already satisfied: click in /usr/local/lib/python3.7/dist-packages (from sacremoses->transformers) (7.1.2)\n",
            "Requirement already satisfied: joblib in /usr/local/lib/python3.7/dist-packages (from sacremoses->transformers) (1.1.0)\n",
            "Requirement already satisfied: six in /usr/local/lib/python3.7/dist-packages (from sacremoses->transformers) (1.15.0)\n",
            "Requirement already satisfied: datasets in /usr/local/lib/python3.7/dist-packages (2.0.0)\n",
            "Requirement already satisfied: tqdm>=4.62.1 in /usr/local/lib/python3.7/dist-packages (from datasets) (4.63.0)\n",
            "Requirement already satisfied: requests>=2.19.0 in /usr/local/lib/python3.7/dist-packages (from datasets) (2.27.1)\n",
            "Requirement already satisfied: multiprocess in /usr/local/lib/python3.7/dist-packages (from datasets) (0.70.12.2)\n",
            "Requirement already satisfied: dill in /usr/local/lib/python3.7/dist-packages (from datasets) (0.3.4)\n",
            "Requirement already satisfied: xxhash in /usr/local/lib/python3.7/dist-packages (from datasets) (3.0.0)\n",
            "Requirement already satisfied: fsspec[http]>=2021.05.0 in /usr/local/lib/python3.7/dist-packages (from datasets) (2022.3.0)\n",
            "Requirement already satisfied: pyarrow>=5.0.0 in /usr/local/lib/python3.7/dist-packages (from datasets) (6.0.1)\n",
            "Requirement already satisfied: packaging in /usr/local/lib/python3.7/dist-packages (from datasets) (21.3)\n",
            "Requirement already satisfied: responses<0.19 in /usr/local/lib/python3.7/dist-packages (from datasets) (0.18.0)\n",
            "Requirement already satisfied: pandas in /usr/local/lib/python3.7/dist-packages (from datasets) (1.3.5)\n",
            "Requirement already satisfied: numpy>=1.17 in /usr/local/lib/python3.7/dist-packages (from datasets) (1.21.5)\n",
            "Requirement already satisfied: importlib-metadata in /usr/local/lib/python3.7/dist-packages (from datasets) (4.11.3)\n",
            "Requirement already satisfied: aiohttp in /usr/local/lib/python3.7/dist-packages (from datasets) (3.8.1)\n",
            "Requirement already satisfied: huggingface-hub<1.0.0,>=0.1.0 in /usr/local/lib/python3.7/dist-packages (from datasets) (0.4.0)\n",
            "Requirement already satisfied: typing-extensions>=3.7.4.3 in /usr/local/lib/python3.7/dist-packages (from huggingface-hub<1.0.0,>=0.1.0->datasets) (3.10.0.2)\n",
            "Requirement already satisfied: filelock in /usr/local/lib/python3.7/dist-packages (from huggingface-hub<1.0.0,>=0.1.0->datasets) (3.6.0)\n",
            "Requirement already satisfied: pyyaml in /usr/local/lib/python3.7/dist-packages (from huggingface-hub<1.0.0,>=0.1.0->datasets) (5.4.1)\n",
            "Requirement already satisfied: pyparsing!=3.0.5,>=2.0.2 in /usr/local/lib/python3.7/dist-packages (from packaging->datasets) (3.0.7)\n",
            "Requirement already satisfied: idna<4,>=2.5 in /usr/local/lib/python3.7/dist-packages (from requests>=2.19.0->datasets) (2.10)\n",
            "Requirement already satisfied: urllib3<1.27,>=1.21.1 in /usr/local/lib/python3.7/dist-packages (from requests>=2.19.0->datasets) (1.25.11)\n",
            "Requirement already satisfied: certifi>=2017.4.17 in /usr/local/lib/python3.7/dist-packages (from requests>=2.19.0->datasets) (2021.10.8)\n",
            "Requirement already satisfied: charset-normalizer~=2.0.0 in /usr/local/lib/python3.7/dist-packages (from requests>=2.19.0->datasets) (2.0.12)\n",
            "Requirement already satisfied: multidict<7.0,>=4.5 in /usr/local/lib/python3.7/dist-packages (from aiohttp->datasets) (6.0.2)\n",
            "Requirement already satisfied: attrs>=17.3.0 in /usr/local/lib/python3.7/dist-packages (from aiohttp->datasets) (21.4.0)\n",
            "Requirement already satisfied: frozenlist>=1.1.1 in /usr/local/lib/python3.7/dist-packages (from aiohttp->datasets) (1.3.0)\n",
            "Requirement already satisfied: async-timeout<5.0,>=4.0.0a3 in /usr/local/lib/python3.7/dist-packages (from aiohttp->datasets) (4.0.2)\n",
            "Requirement already satisfied: aiosignal>=1.1.2 in /usr/local/lib/python3.7/dist-packages (from aiohttp->datasets) (1.2.0)\n",
            "Requirement already satisfied: yarl<2.0,>=1.0 in /usr/local/lib/python3.7/dist-packages (from aiohttp->datasets) (1.7.2)\n",
            "Requirement already satisfied: asynctest==0.13.0 in /usr/local/lib/python3.7/dist-packages (from aiohttp->datasets) (0.13.0)\n",
            "Requirement already satisfied: zipp>=0.5 in /usr/local/lib/python3.7/dist-packages (from importlib-metadata->datasets) (3.7.0)\n",
            "Requirement already satisfied: pytz>=2017.3 in /usr/local/lib/python3.7/dist-packages (from pandas->datasets) (2018.9)\n",
            "Requirement already satisfied: python-dateutil>=2.7.3 in /usr/local/lib/python3.7/dist-packages (from pandas->datasets) (2.8.2)\n",
            "Requirement already satisfied: six>=1.5 in /usr/local/lib/python3.7/dist-packages (from python-dateutil>=2.7.3->pandas->datasets) (1.15.0)\n",
            "Requirement already satisfied: openpecha in /usr/local/lib/python3.7/dist-packages (0.7.82)\n",
            "Collecting openpecha\n",
            "  Downloading openpecha-0.7.83-py3-none-any.whl (111 kB)\n",
            "\u001b[K     |████████████████████████████████| 111 kB 18.0 MB/s \n",
            "\u001b[?25hRequirement already satisfied: bs4<1.0,>=0.0.1 in /usr/local/lib/python3.7/dist-packages (from openpecha) (0.0.1)\n",
            "Requirement already satisfied: PyGithub<2.0,>=1.43.8 in /usr/local/lib/python3.7/dist-packages (from openpecha) (1.55)\n",
            "Requirement already satisfied: pydantic<2.0,>=1.7.3 in /usr/local/lib/python3.7/dist-packages (from openpecha) (1.9.0)\n",
            "Requirement already satisfied: botok<1.0,>=0.8.8 in /usr/local/lib/python3.7/dist-packages (from openpecha) (0.8.8)\n",
            "Requirement already satisfied: pylibyaml<2.0,>=0.1.0 in /usr/local/lib/python3.7/dist-packages (from openpecha) (0.1.0)\n",
            "Requirement already satisfied: rdflib<6.0,>=5.0.0 in /usr/local/lib/python3.7/dist-packages (from openpecha) (5.0.0)\n",
            "Requirement already satisfied: Click<8.0,>=7.1.2 in /usr/local/lib/python3.7/dist-packages (from openpecha) (7.1.2)\n",
            "Requirement already satisfied: diff-match-patch==20181111 in /usr/local/lib/python3.7/dist-packages (from openpecha) (20181111)\n",
            "Requirement already satisfied: antx<2.0,>=0.1.10 in /usr/local/lib/python3.7/dist-packages (from openpecha) (0.1.11)\n",
            "Requirement already satisfied: python-docx<1.0,>=0.8.11 in /usr/local/lib/python3.7/dist-packages (from openpecha) (0.8.11)\n",
            "Requirement already satisfied: PyYAML<6.0,>=5.0.0 in /usr/local/lib/python3.7/dist-packages (from openpecha) (5.4.1)\n",
            "Requirement already satisfied: polib<2.0,==1.1.1 in /usr/local/lib/python3.7/dist-packages (from openpecha) (1.1.1)\n",
            "Requirement already satisfied: tqdm<5.0,>=4.35.0 in /usr/local/lib/python3.7/dist-packages (from openpecha) (4.63.0)\n",
            "Requirement already satisfied: GitPython<4.0,>=3.1.0 in /usr/local/lib/python3.7/dist-packages (from openpecha) (3.1.27)\n",
            "Requirement already satisfied: requests<3.0,>=2.22.0 in /usr/local/lib/python3.7/dist-packages (from openpecha) (2.27.1)\n",
            "Requirement already satisfied: pyewts<1.0,>=0.1.3 in /usr/local/lib/python3.7/dist-packages (from openpecha) (0.1.3)\n",
            "Requirement already satisfied: regex>=2020.5.7 in /usr/local/lib/python3.7/dist-packages (from antx<2.0,>=0.1.10->openpecha) (2022.3.15)\n",
            "Requirement already satisfied: beautifulsoup4 in /usr/local/lib/python3.7/dist-packages (from bs4<1.0,>=0.0.1->openpecha) (4.6.3)\n",
            "Requirement already satisfied: gitdb<5,>=4.0.1 in /usr/local/lib/python3.7/dist-packages (from GitPython<4.0,>=3.1.0->openpecha) (4.0.9)\n",
            "Requirement already satisfied: typing-extensions>=3.7.4.3 in /usr/local/lib/python3.7/dist-packages (from GitPython<4.0,>=3.1.0->openpecha) (3.10.0.2)\n",
            "Requirement already satisfied: smmap<6,>=3.0.1 in /usr/local/lib/python3.7/dist-packages (from gitdb<5,>=4.0.1->GitPython<4.0,>=3.1.0->openpecha) (5.0.0)\n",
            "Requirement already satisfied: pyjwt>=2.0 in /usr/local/lib/python3.7/dist-packages (from PyGithub<2.0,>=1.43.8->openpecha) (2.3.0)\n",
            "Requirement already satisfied: pynacl>=1.4.0 in /usr/local/lib/python3.7/dist-packages (from PyGithub<2.0,>=1.43.8->openpecha) (1.5.0)\n",
            "Requirement already satisfied: deprecated in /usr/local/lib/python3.7/dist-packages (from PyGithub<2.0,>=1.43.8->openpecha) (1.2.13)\n",
            "Requirement already satisfied: cffi>=1.4.1 in /usr/local/lib/python3.7/dist-packages (from pynacl>=1.4.0->PyGithub<2.0,>=1.43.8->openpecha) (1.15.0)\n",
            "Requirement already satisfied: pycparser in /usr/local/lib/python3.7/dist-packages (from cffi>=1.4.1->pynacl>=1.4.0->PyGithub<2.0,>=1.43.8->openpecha) (2.21)\n",
            "Requirement already satisfied: lxml>=2.3.2 in /usr/local/lib/python3.7/dist-packages (from python-docx<1.0,>=0.8.11->openpecha) (4.2.6)\n",
            "Requirement already satisfied: isodate in /usr/local/lib/python3.7/dist-packages (from rdflib<6.0,>=5.0.0->openpecha) (0.6.1)\n",
            "Requirement already satisfied: pyparsing in /usr/local/lib/python3.7/dist-packages (from rdflib<6.0,>=5.0.0->openpecha) (3.0.7)\n",
            "Requirement already satisfied: six in /usr/local/lib/python3.7/dist-packages (from rdflib<6.0,>=5.0.0->openpecha) (1.15.0)\n",
            "Requirement already satisfied: charset-normalizer~=2.0.0 in /usr/local/lib/python3.7/dist-packages (from requests<3.0,>=2.22.0->openpecha) (2.0.12)\n",
            "Requirement already satisfied: urllib3<1.27,>=1.21.1 in /usr/local/lib/python3.7/dist-packages (from requests<3.0,>=2.22.0->openpecha) (1.25.11)\n",
            "Requirement already satisfied: idna<4,>=2.5 in /usr/local/lib/python3.7/dist-packages (from requests<3.0,>=2.22.0->openpecha) (2.10)\n",
            "Requirement already satisfied: certifi>=2017.4.17 in /usr/local/lib/python3.7/dist-packages (from requests<3.0,>=2.22.0->openpecha) (2021.10.8)\n",
            "Requirement already satisfied: wrapt<2,>=1.10 in /usr/local/lib/python3.7/dist-packages (from deprecated->PyGithub<2.0,>=1.43.8->openpecha) (1.14.0)\n",
            "Installing collected packages: openpecha\n",
            "  Attempting uninstall: openpecha\n",
            "    Found existing installation: openpecha 0.7.82\n",
            "    Uninstalling openpecha-0.7.82:\n",
            "      Successfully uninstalled openpecha-0.7.82\n",
            "Successfully installed openpecha-0.7.83\n"
          ]
        },
        {
          "output_type": "display_data",
          "data": {
            "application/vnd.colab-display-data+json": {
              "pip_warning": {
                "packages": [
                  "openpecha"
                ]
              }
            }
          },
          "metadata": {}
        }
      ],
      "source": [
        "!pip install tokenizers\n",
        "!pip install transformers\n",
        "!pip install datasets\n",
        "!pip install -U openpecha"
      ]
    },
    {
      "cell_type": "code",
      "source": [
        "from typing import List\n",
        "from pathlib import Path\n",
        "\n",
        "from tokenizers import ByteLevelBPETokenizer"
      ],
      "metadata": {
        "id": "kyt78wh6OPhw"
      },
      "execution_count": null,
      "outputs": []
    },
    {
      "cell_type": "markdown",
      "source": [
        "### Paths"
      ],
      "metadata": {
        "id": "wW5xEVvDZ6Xo"
      }
    },
    {
      "cell_type": "code",
      "source": [
        "from google.colab import drive\n",
        "drive.mount('/content/drive')"
      ],
      "metadata": {
        "colab": {
          "base_uri": "https://localhost:8080/"
        },
        "id": "aMWmwC0pfGnY",
        "outputId": "0b47969f-c0d9-4319-b18b-be75a7f890e8"
      },
      "execution_count": null,
      "outputs": [
        {
          "output_type": "stream",
          "name": "stdout",
          "text": [
            "Drive already mounted at /content/drive; to attempt to forcibly remount, call drive.mount(\"/content/drive\", force_remount=True).\n"
          ]
        }
      ]
    },
    {
      "cell_type": "code",
      "source": [
        "def _mkdir(path: Path) -> Path:\n",
        "  path.mkdir(exist_ok=True, parents=True)\n",
        "  return path\n",
        "\n",
        "BASE_PATH = Path(\"/content/drive/MyDrive/OpenPecha/ML/LM\")\n",
        "DATA_PATH = _mkdir(BASE_PATH / \"data\")\n",
        "MODELS_PATH = _mkdir(BASE_PATH / \"models\")\n",
        "\n",
        "tokenizer_path = _mkdir(MODELS_PATH / \"GPT_classical_bo\")\n",
        "lm_path = _mkdir(MODELS_PATH / \"GPT_classical_bo\")"
      ],
      "metadata": {
        "id": "lPfn8pcgOmS-"
      },
      "execution_count": null,
      "outputs": []
    },
    {
      "cell_type": "markdown",
      "source": [
        "## Download the corpus"
      ],
      "metadata": {
        "id": "AVYq5Ya_Z9Pk"
      }
    },
    {
      "cell_type": "code",
      "source": [
        "from openpecha.corpus.download import download_corpus"
      ],
      "metadata": {
        "id": "x3g7ggaraGm4"
      },
      "execution_count": null,
      "outputs": []
    },
    {
      "cell_type": "code",
      "source": [
        "corpus_path = download_corpus(\"classical_bo\", DATA_PATH)"
      ],
      "metadata": {
        "colab": {
          "base_uri": "https://localhost:8080/",
          "height": 1000
        },
        "id": "BXq9WFOjaQ0x",
        "outputId": "8473abad-a730-4234-adc2-39a03a23dd0d"
      },
      "execution_count": null,
      "outputs": [
        {
          "output_type": "stream",
          "name": "stdout",
          "text": [
            "INFO: Downloading PC7518B4E...\n",
            "INFO: Downloading PEAE1BEB5...\n",
            "INFO: Downloading P9AAABA99...\n",
            "INFO: Downloading PE08B39D4...\n",
            "INFO: Downloading P660CE4D0...\n",
            "INFO: Downloading P4A2FAFEA...\n",
            "INFO: Downloading PC55A2EBF...\n",
            "INFO: Downloading PC78343A6...\n",
            "INFO: Downloading P406E0054...\n",
            "INFO: Downloading PC22CB91F...\n",
            "INFO: Downloading PB94F36D6...\n",
            "INFO: Downloading P4D4F7C47...\n",
            "INFO: Downloading PD6E5AF10...\n",
            "INFO: Downloading P143DB3B5...\n",
            "INFO: Downloading PDF4FD415...\n",
            "INFO: Downloading PED98E392...\n",
            "INFO: Downloading PE99138DF...\n",
            "INFO: Downloading PC74743EF...\n",
            "INFO: Downloading P02D29113...\n",
            "INFO: Downloading P95488BBE...\n",
            "INFO: Downloading P16A78071...\n",
            "INFO: Downloading PE997BD16...\n",
            "INFO: Downloading P0680C678...\n",
            "INFO: Downloading P9224D7A7...\n",
            "INFO: Downloading PAD105AAA...\n",
            "INFO: Downloading P3C42B0C4...\n",
            "INFO: Downloading P42A41338...\n",
            "INFO: Downloading PD0D6CD6A...\n",
            "INFO: Downloading PA0C4F688...\n",
            "INFO: Downloading P94CE90D9...\n",
            "INFO: Downloading PAF6381F7...\n",
            "INFO: Downloading PB35A1867...\n",
            "INFO: Downloading PBCFFF7D9...\n",
            "INFO: Downloading P5BB5C91C...\n",
            "INFO: Downloading P37F1E12B...\n",
            "INFO: Downloading PEEEF5601...\n",
            "INFO: Downloading P8E5295F4...\n",
            "INFO: Downloading P40F39034...\n",
            "INFO: Downloading P9AD6513A...\n",
            "INFO: Downloading P49D5DF22...\n",
            "INFO: Downloading PB1F01C72...\n",
            "INFO: Downloading P78B8B084...\n",
            "INFO: Downloading P20D4CD88...\n",
            "INFO: Downloading PA325D444...\n",
            "INFO: Downloading P6AD504B4...\n",
            "INFO: Downloading PF7980EB7...\n",
            "INFO: Downloading P1483B981...\n",
            "INFO: Downloading P1E7C87B2...\n",
            "INFO: Downloading P27472E7F...\n",
            "INFO: Downloading P54C08941...\n",
            "INFO: Downloading P3CA53E6D...\n",
            "INFO: Downloading PFF984DA1...\n",
            "INFO: Downloading P1F3A55AB...\n",
            "INFO: Downloading P021E806F...\n",
            "INFO: Downloading PB39363F1...\n",
            "INFO: Downloading PD25D93F3...\n",
            "INFO: Downloading P8871CF91...\n",
            "INFO: Downloading P6434F7EC...\n",
            "INFO: Downloading P27972C00...\n",
            "INFO: Downloading P713072EB...\n",
            "INFO: Downloading P1DBA4B1B...\n",
            "INFO: Downloading P18B0A4F3...\n",
            "INFO: Downloading PF509153F...\n",
            "INFO: Downloading P1C9D1A84...\n",
            "INFO: Downloading PED7037E7...\n",
            "INFO: Downloading P43A37A26...\n",
            "INFO: Downloading P95B1A808...\n",
            "INFO: Downloading P99E8AEFF...\n",
            "INFO: Downloading PBA3FC841...\n",
            "INFO: Downloading P475C06B4...\n",
            "INFO: Downloading P7E3BC377...\n",
            "INFO: Downloading P30CE3E1B...\n",
            "INFO: Downloading P29441874...\n",
            "INFO: Downloading PF8D4D2F8...\n",
            "INFO: Downloading P255114CD...\n",
            "INFO: Downloading P777E0689...\n",
            "INFO: Downloading P71B4496F...\n",
            "INFO: Downloading P16DE2169...\n",
            "INFO: Downloading P66622622...\n",
            "INFO: Downloading P6CC3CCC1...\n",
            "INFO: Downloading P4FB4F8DF...\n",
            "INFO: Downloading P04B0707B...\n",
            "INFO: Downloading P10546411...\n",
            "INFO: Downloading PF4238277...\n",
            "INFO: Downloading P40CBB9B0...\n",
            "INFO: Downloading PEACB4FF4...\n",
            "INFO: Downloading P84CF83D0...\n",
            "INFO: Downloading P7D74A473...\n",
            "INFO: Downloading PCE949524...\n",
            "INFO: Downloading P422D93A4...\n",
            "INFO: Downloading P4A01CB1A...\n",
            "INFO: Downloading PF5EBF866...\n",
            "INFO: Downloading PBCB15A44...\n",
            "INFO: Downloading P341CA240...\n",
            "INFO: Downloading P8300CAF2...\n",
            "INFO: Downloading P64679D44...\n",
            "INFO: Downloading PA4203333...\n",
            "INFO: Downloading PDA8EF784...\n",
            "INFO: Downloading PEDEC44EC...\n",
            "INFO: Downloading PCF5BC8F9...\n",
            "INFO: Downloading PFF101AF0...\n",
            "INFO: Downloading P6E4E79B4...\n",
            "INFO: Downloading PE34E2A4E...\n",
            "INFO: Downloading P5C2F143B...\n",
            "INFO: Downloading P1639B1BF...\n",
            "INFO: Downloading PBC60C999...\n",
            "INFO: Downloading PB55F699D...\n",
            "INFO: Downloading P87AE4906...\n",
            "INFO: Downloading P97276222...\n",
            "INFO: Downloading P0881EB8A...\n",
            "INFO: Downloading PBD7D4656...\n",
            "INFO: Downloading P7445551F...\n",
            "INFO: Downloading P84E34897...\n",
            "INFO: Downloading P3BB5B2BA...\n",
            "INFO: Downloading P6DB58D3A...\n",
            "INFO: Downloading P0D4D7134...\n",
            "INFO: Downloading P39B5079F...\n",
            "INFO: Downloading PDCFFD598...\n",
            "INFO: Downloading PEB41AFD6...\n",
            "INFO: Downloading P1AD584AC...\n",
            "INFO: Downloading P9251201B...\n",
            "INFO: Downloading P84A8E91D...\n",
            "INFO: Downloading P72E45B21...\n",
            "INFO: Downloading P7B36D315...\n",
            "INFO: Downloading P3AE05A34...\n",
            "INFO: Downloading PD74B642B...\n",
            "INFO: Downloading P52AC2912...\n",
            "INFO: Downloading PE996E0A3...\n",
            "INFO: Downloading PA061E4FE...\n",
            "INFO: Downloading P2BC96978...\n",
            "INFO: Downloading PDAD277B5...\n",
            "INFO: Downloading P01FC92F9...\n",
            "INFO: Downloading PD7D5095D...\n",
            "INFO: Downloading PA9A647C7...\n",
            "INFO: Downloading P4FFDD2DA...\n",
            "INFO: Downloading P4BCCB055...\n",
            "INFO: Downloading P81FA3288...\n",
            "INFO: Downloading PACA77A7C...\n",
            "INFO: Downloading PA2767344...\n",
            "INFO: Downloading P3E9716AE...\n",
            "INFO: Downloading PA2C709C8...\n",
            "INFO: Downloading P484E85A2...\n",
            "INFO: Downloading P8E1EEE84...\n",
            "INFO: Downloading P0E808408...\n",
            "INFO: Downloading P44A0CFCF...\n",
            "INFO: Downloading PA7347EEF...\n",
            "INFO: Downloading P41351915...\n",
            "INFO: Downloading P2100884D...\n",
            "INFO: Downloading PE50AC665...\n",
            "INFO: Downloading PF3E1AF9E...\n",
            "INFO: Downloading PA42733A1...\n",
            "INFO: Downloading PA8EE6EBD...\n",
            "INFO: Downloading P96FAE8E4...\n",
            "INFO: Downloading P44152274...\n",
            "INFO: Downloading PACDA9D41...\n",
            "INFO: Downloading PAE6EA76F...\n",
            "INFO: Downloading P6DC00F9D...\n",
            "INFO: Downloading P30774880...\n",
            "INFO: Downloading P4EB2C2F2...\n",
            "INFO: Downloading PD4035CC7...\n",
            "INFO: Downloading PA5EC644A...\n",
            "INFO: Downloading PDB1ED394...\n",
            "INFO: Downloading P847E4D38...\n",
            "INFO: Downloading P6EE98736...\n",
            "INFO: Downloading P84242D2A...\n",
            "INFO: Downloading P44F8A794...\n",
            "INFO: Downloading PC5A0EB16...\n",
            "INFO: Downloading PBF1DB1B2...\n",
            "INFO: Downloading P30078707...\n",
            "INFO: Downloading P811ADACB...\n",
            "INFO: Downloading P4CB0ECCC...\n",
            "INFO: Downloading P3378BE29...\n",
            "INFO: Downloading P4A48C9DC...\n",
            "INFO: Downloading P17288177...\n",
            "INFO: Downloading P845D2D56...\n",
            "INFO: Downloading P595A23E0...\n",
            "INFO: Downloading P5FFC2AC1...\n",
            "INFO: Downloading PAFFD6663...\n",
            "INFO: Downloading P7E5664CE...\n",
            "INFO: Downloading P5237D7A2...\n",
            "INFO: Downloading PB34E99F3...\n",
            "INFO: Downloading P09E23C7D...\n",
            "INFO: Downloading P71526C55...\n",
            "INFO: Downloading P89764226...\n",
            "INFO: Downloading P9E6EA794...\n",
            "INFO: Downloading P4264B2BD...\n",
            "INFO: Downloading P766B7496...\n",
            "INFO: Downloading PCC4F6364...\n",
            "INFO: Downloading PCC9E8EE9...\n",
            "INFO: Downloading PA190137F...\n",
            "INFO: Downloading PA8F14881...\n",
            "INFO: Downloading P02F3943C...\n",
            "INFO: Downloading PB6F8568D...\n",
            "INFO: Downloading PD6731041...\n",
            "INFO: Downloading P7B4D9442...\n",
            "INFO: Downloading P7B8ECEA7...\n",
            "INFO: Downloading P50AD1592...\n",
            "INFO: Downloading P1225EE31...\n",
            "INFO: Downloading P8C383831...\n",
            "INFO: Downloading PEA34D30B...\n",
            "INFO: Downloading P9020B554...\n",
            "INFO: Downloading P14DC7DE4...\n",
            "INFO: Downloading P332D7206...\n",
            "INFO: Downloading PD7FD3E31...\n",
            "INFO: Downloading P727D67DF...\n",
            "INFO: Downloading P1522A5BD...\n",
            "INFO: Downloading P852C48A0...\n",
            "INFO: Downloading P4C0642FA...\n",
            "INFO: Downloading P8AA34A63...\n",
            "INFO: Downloading P4781E4BC...\n",
            "INFO: Downloading P5D632458...\n",
            "INFO: Downloading PD8A263D2...\n",
            "INFO: Downloading P688E4E68...\n",
            "INFO: Downloading P0A4DBC4E...\n",
            "INFO: Downloading PA99BD59E...\n",
            "INFO: Downloading P1780A596...\n",
            "INFO: Downloading P154854BC...\n",
            "INFO: Downloading PD69660D1...\n",
            "INFO: Downloading P0DFF25C5...\n",
            "INFO: Downloading PA4D3B0D3...\n",
            "INFO: Downloading P94558C35...\n",
            "INFO: Downloading PB36417B6...\n",
            "INFO: Downloading PAD313CC2...\n",
            "INFO: Downloading PF694747D...\n",
            "INFO: Downloading PECCA79BA...\n",
            "INFO: Downloading P159B1A21...\n",
            "INFO: Downloading PC587C685...\n",
            "INFO: Downloading PF0496944...\n",
            "INFO: Downloading P1BD2934D...\n",
            "INFO: Downloading P3BE7CFB2...\n",
            "INFO: Downloading PDB45CEC9...\n",
            "INFO: Downloading PE540AA3A...\n",
            "INFO: Downloading P4A36CC31...\n",
            "INFO: Downloading P4DADD3C3...\n",
            "INFO: Downloading PDCB8CAB0...\n",
            "INFO: Downloading P25FA9946...\n",
            "INFO: Downloading PD6721660...\n",
            "INFO: Downloading P7FCBE252...\n",
            "INFO: Downloading P6685086B...\n",
            "INFO: Downloading P9C33C29C...\n",
            "INFO: Downloading P676366DB...\n",
            "INFO: Downloading P1F55B2DA...\n",
            "INFO: Downloading PD71218F1...\n",
            "INFO: Downloading P5B16B968...\n",
            "INFO: Downloading P1F266394...\n",
            "INFO: Downloading P24A4BC24...\n",
            "INFO: Downloading P6F40FA2E...\n",
            "INFO: Downloading P412980F9...\n",
            "INFO: Downloading PCEEB77B2...\n",
            "INFO: Downloading PDB6F8F49...\n",
            "INFO: Downloading P994144F0...\n",
            "INFO: Downloading P44873F1F...\n",
            "INFO: Downloading P4070909D...\n",
            "INFO: Downloading P5939B33C...\n",
            "INFO: Downloading P793CD0CC...\n",
            "INFO: Downloading P547AA824...\n",
            "INFO: Downloading PB78B7899...\n",
            "INFO: Downloading P1D4F0DBA...\n",
            "INFO: Downloading P924700E0...\n",
            "INFO: Downloading P8FB5AA41...\n",
            "INFO: Downloading P0D446784...\n",
            "INFO: Downloading PAB455A5F...\n",
            "INFO: Downloading PD2325CE7...\n",
            "INFO: Downloading P02464513...\n",
            "INFO: Downloading PD340F75C...\n",
            "INFO: Downloading P92C2E499...\n",
            "INFO: Downloading PF5D575D0...\n",
            "INFO: Downloading P582667A8...\n",
            "INFO: Downloading P0BAAA0A0...\n",
            "INFO: Downloading P63942225...\n",
            "INFO: Downloading P4A034246...\n",
            "INFO: Downloading P997D7C8B...\n",
            "INFO: Downloading PE1FE3688...\n",
            "INFO: Downloading P7B8F913A...\n",
            "INFO: Downloading PC37C38C2...\n",
            "INFO: Downloading P665CB104...\n",
            "INFO: Downloading P33D1D93A...\n",
            "INFO: Downloading P7494938E...\n",
            "INFO: Downloading P40391E88...\n",
            "INFO: Downloading P1447B067...\n",
            "INFO: Downloading P8D0988C9...\n",
            "INFO: Downloading P123E9364...\n",
            "INFO: Downloading P9E3C1884...\n",
            "INFO: Downloading P912FBA92...\n",
            "INFO: Downloading PD8C61A48...\n",
            "INFO: Downloading P3FD14A63...\n",
            "INFO: Downloading P54E3FE44...\n",
            "INFO: Downloading P14B8CCA0...\n",
            "INFO: Downloading P7A06A4AA...\n",
            "INFO: Downloading P5DABF371...\n",
            "INFO: Downloading P2400260A...\n",
            "INFO: Downloading P25645A61...\n",
            "INFO: Downloading P34D7E133...\n",
            "INFO: Downloading PEFF6FF9D...\n",
            "INFO: Downloading P4BC81424...\n",
            "INFO: Downloading P534C7555...\n",
            "INFO: Downloading P1D81C834...\n",
            "INFO: Downloading P1186A374...\n",
            "INFO: Downloading P81C1EE12...\n",
            "INFO: Downloading PD6D7864E...\n",
            "INFO: Downloading P4DBA4474...\n",
            "INFO: Downloading P1251117F...\n",
            "INFO: Downloading P969B32E3...\n",
            "INFO: Downloading P54076802...\n",
            "INFO: Downloading PC0FD853E...\n",
            "INFO: Downloading P1092847D...\n",
            "INFO: Downloading P42994958...\n",
            "INFO: Downloading P402E48F5...\n",
            "INFO: Downloading P33E34BFE...\n",
            "INFO: Downloading P3FF8E6FF...\n",
            "INFO: Downloading P4C2BFFC5...\n",
            "INFO: Downloading PEB8D7EE1...\n",
            "INFO: Downloading PB861324C...\n",
            "INFO: Downloading PED2A9CDD...\n",
            "INFO: Downloading P90DFF650...\n",
            "INFO: Downloading PA8F28910...\n",
            "INFO: Downloading P576514F1...\n",
            "INFO: Downloading P463B2E2E...\n",
            "INFO: Downloading PA12E143F...\n",
            "INFO: Downloading PEB0E7EB8...\n",
            "INFO: Downloading P36711981...\n",
            "INFO: Downloading PFAFE4F12...\n",
            "INFO: Downloading P533EADA6...\n",
            "INFO: Downloading PE8A9CB76...\n",
            "INFO: Downloading P75A75253...\n",
            "INFO: Downloading PB8BBD1E5...\n",
            "INFO: Downloading P3F6AD06F...\n",
            "INFO: Downloading P026DA160...\n",
            "INFO: Downloading P8977BC98...\n",
            "INFO: Downloading P79EF9BFF...\n",
            "INFO: Downloading P066E9E48...\n",
            "INFO: Downloading P56C34DC4...\n",
            "INFO: Downloading P390F3F12...\n",
            "INFO: Downloading PB64AB180...\n",
            "INFO: Downloading P8A3D51D3...\n",
            "INFO: Downloading P59BEF976...\n",
            "INFO: Downloading P8882F8F8...\n",
            "INFO: Downloading PFF2B4F06...\n",
            "INFO: Downloading P852E772D...\n",
            "INFO: Downloading P992A2A44...\n",
            "INFO: Downloading P4516A5A5...\n",
            "INFO: Downloading PA2CB44EA...\n",
            "INFO: Downloading PA9EDEAE8...\n",
            "INFO: Downloading PF7245581...\n",
            "INFO: Downloading P25C7ACCE...\n",
            "INFO: Downloading P07C4E480...\n",
            "INFO: Downloading P4ADC60FD...\n",
            "INFO: Downloading PDEA66D61...\n",
            "INFO: Downloading PDE987A37...\n",
            "INFO: Downloading PBBB8A87E...\n",
            "INFO: Downloading PC0DA84C1...\n",
            "INFO: Downloading P26483C80...\n"
          ]
        },
        {
          "output_type": "error",
          "ename": "KeyboardInterrupt",
          "evalue": "ignored",
          "traceback": [
            "\u001b[0;31m---------------------------------------------------------------------------\u001b[0m",
            "\u001b[0;31mKeyboardInterrupt\u001b[0m                         Traceback (most recent call last)",
            "\u001b[0;32m<ipython-input-27-62665a3aa7ff>\u001b[0m in \u001b[0;36m<module>\u001b[0;34m()\u001b[0m\n\u001b[0;32m----> 1\u001b[0;31m \u001b[0mcorpus_path\u001b[0m \u001b[0;34m=\u001b[0m \u001b[0mdownload_corpus\u001b[0m\u001b[0;34m(\u001b[0m\u001b[0;34m\"classical_bo\"\u001b[0m\u001b[0;34m,\u001b[0m \u001b[0mDATA_PATH\u001b[0m\u001b[0;34m)\u001b[0m\u001b[0;34m\u001b[0m\u001b[0;34m\u001b[0m\u001b[0m\n\u001b[0m",
            "\u001b[0;32m/usr/local/lib/python3.7/dist-packages/openpecha/corpus/download.py\u001b[0m in \u001b[0;36mdownload_corpus\u001b[0;34m(corpus_name, output_path)\u001b[0m\n\u001b[1;32m     83\u001b[0m             \u001b[0;32mcontinue\u001b[0m\u001b[0;34m\u001b[0m\u001b[0;34m\u001b[0m\u001b[0m\n\u001b[1;32m     84\u001b[0m         \u001b[0mprint\u001b[0m\u001b[0;34m(\u001b[0m\u001b[0;34mf\"INFO: Downloading {pecha_id}...\"\u001b[0m\u001b[0;34m)\u001b[0m\u001b[0;34m\u001b[0m\u001b[0;34m\u001b[0m\u001b[0m\n\u001b[0;32m---> 85\u001b[0;31m         \u001b[0mpecha_repo\u001b[0m \u001b[0;34m=\u001b[0m \u001b[0mget_github_repo\u001b[0m\u001b[0;34m(\u001b[0m\u001b[0mpecha_id\u001b[0m\u001b[0;34m,\u001b[0m \u001b[0morg_name\u001b[0m\u001b[0;34m=\u001b[0m\u001b[0;34m\"OpenPecha\"\u001b[0m\u001b[0;34m,\u001b[0m \u001b[0mtoken\u001b[0m\u001b[0;34m=\u001b[0m\u001b[0mtoken\u001b[0m\u001b[0;34m)\u001b[0m\u001b[0;34m\u001b[0m\u001b[0;34m\u001b[0m\u001b[0m\n\u001b[0m\u001b[1;32m     86\u001b[0m         \u001b[0mbase_vols\u001b[0m \u001b[0;34m=\u001b[0m \u001b[0mget_base_vol_list\u001b[0m\u001b[0;34m(\u001b[0m\u001b[0mpecha_repo\u001b[0m\u001b[0;34m,\u001b[0m \u001b[0mpecha_id\u001b[0m\u001b[0;34m)\u001b[0m\u001b[0;34m\u001b[0m\u001b[0;34m\u001b[0m\u001b[0m\n\u001b[1;32m     87\u001b[0m         \u001b[0mdownload_base_vols\u001b[0m\u001b[0;34m(\u001b[0m\u001b[0moutput_path\u001b[0m\u001b[0;34m,\u001b[0m \u001b[0mpecha_id\u001b[0m\u001b[0;34m,\u001b[0m \u001b[0mbase_vols\u001b[0m\u001b[0;34m,\u001b[0m \u001b[0msession\u001b[0m\u001b[0;34m)\u001b[0m\u001b[0;34m\u001b[0m\u001b[0;34m\u001b[0m\u001b[0m\n",
            "\u001b[0;32m/usr/local/lib/python3.7/dist-packages/openpecha/corpus/download.py\u001b[0m in \u001b[0;36mdownload_base_vols\u001b[0;34m(output_path, pecha_id, base_vols, session)\u001b[0m\n\u001b[1;32m     51\u001b[0m     \u001b[0;32mfor\u001b[0m \u001b[0mbase_vol\u001b[0m \u001b[0;32min\u001b[0m \u001b[0mbase_vols\u001b[0m\u001b[0;34m:\u001b[0m\u001b[0;34m\u001b[0m\u001b[0;34m\u001b[0m\u001b[0m\n\u001b[1;32m     52\u001b[0m         base_response = session.get(\n\u001b[0;32m---> 53\u001b[0;31m             \u001b[0;34mf\"https://raw.githubusercontent.com/OpenPecha/{pecha_id}/master/{pecha_id}.opf/base/{base_vol}\"\u001b[0m\u001b[0;34m\u001b[0m\u001b[0;34m\u001b[0m\u001b[0m\n\u001b[0m\u001b[1;32m     54\u001b[0m         )\n\u001b[1;32m     55\u001b[0m         \u001b[0mbase_text\u001b[0m \u001b[0;34m=\u001b[0m \u001b[0mbase_response\u001b[0m\u001b[0;34m.\u001b[0m\u001b[0mtext\u001b[0m\u001b[0;34m\u001b[0m\u001b[0;34m\u001b[0m\u001b[0m\n",
            "\u001b[0;32m/usr/local/lib/python3.7/dist-packages/requests/sessions.py\u001b[0m in \u001b[0;36mget\u001b[0;34m(self, url, **kwargs)\u001b[0m\n\u001b[1;32m    540\u001b[0m \u001b[0;34m\u001b[0m\u001b[0m\n\u001b[1;32m    541\u001b[0m         \u001b[0mkwargs\u001b[0m\u001b[0;34m.\u001b[0m\u001b[0msetdefault\u001b[0m\u001b[0;34m(\u001b[0m\u001b[0;34m'allow_redirects'\u001b[0m\u001b[0;34m,\u001b[0m \u001b[0;32mTrue\u001b[0m\u001b[0;34m)\u001b[0m\u001b[0;34m\u001b[0m\u001b[0;34m\u001b[0m\u001b[0m\n\u001b[0;32m--> 542\u001b[0;31m         \u001b[0;32mreturn\u001b[0m \u001b[0mself\u001b[0m\u001b[0;34m.\u001b[0m\u001b[0mrequest\u001b[0m\u001b[0;34m(\u001b[0m\u001b[0;34m'GET'\u001b[0m\u001b[0;34m,\u001b[0m \u001b[0murl\u001b[0m\u001b[0;34m,\u001b[0m \u001b[0;34m**\u001b[0m\u001b[0mkwargs\u001b[0m\u001b[0;34m)\u001b[0m\u001b[0;34m\u001b[0m\u001b[0;34m\u001b[0m\u001b[0m\n\u001b[0m\u001b[1;32m    543\u001b[0m \u001b[0;34m\u001b[0m\u001b[0m\n\u001b[1;32m    544\u001b[0m     \u001b[0;32mdef\u001b[0m \u001b[0moptions\u001b[0m\u001b[0;34m(\u001b[0m\u001b[0mself\u001b[0m\u001b[0;34m,\u001b[0m \u001b[0murl\u001b[0m\u001b[0;34m,\u001b[0m \u001b[0;34m**\u001b[0m\u001b[0mkwargs\u001b[0m\u001b[0;34m)\u001b[0m\u001b[0;34m:\u001b[0m\u001b[0;34m\u001b[0m\u001b[0;34m\u001b[0m\u001b[0m\n",
            "\u001b[0;32m/usr/local/lib/python3.7/dist-packages/requests/sessions.py\u001b[0m in \u001b[0;36mrequest\u001b[0;34m(self, method, url, params, data, headers, cookies, files, auth, timeout, allow_redirects, proxies, hooks, stream, verify, cert, json)\u001b[0m\n\u001b[1;32m    527\u001b[0m         }\n\u001b[1;32m    528\u001b[0m         \u001b[0msend_kwargs\u001b[0m\u001b[0;34m.\u001b[0m\u001b[0mupdate\u001b[0m\u001b[0;34m(\u001b[0m\u001b[0msettings\u001b[0m\u001b[0;34m)\u001b[0m\u001b[0;34m\u001b[0m\u001b[0;34m\u001b[0m\u001b[0m\n\u001b[0;32m--> 529\u001b[0;31m         \u001b[0mresp\u001b[0m \u001b[0;34m=\u001b[0m \u001b[0mself\u001b[0m\u001b[0;34m.\u001b[0m\u001b[0msend\u001b[0m\u001b[0;34m(\u001b[0m\u001b[0mprep\u001b[0m\u001b[0;34m,\u001b[0m \u001b[0;34m**\u001b[0m\u001b[0msend_kwargs\u001b[0m\u001b[0;34m)\u001b[0m\u001b[0;34m\u001b[0m\u001b[0;34m\u001b[0m\u001b[0m\n\u001b[0m\u001b[1;32m    530\u001b[0m \u001b[0;34m\u001b[0m\u001b[0m\n\u001b[1;32m    531\u001b[0m         \u001b[0;32mreturn\u001b[0m \u001b[0mresp\u001b[0m\u001b[0;34m\u001b[0m\u001b[0;34m\u001b[0m\u001b[0m\n",
            "\u001b[0;32m/usr/local/lib/python3.7/dist-packages/requests/sessions.py\u001b[0m in \u001b[0;36msend\u001b[0;34m(self, request, **kwargs)\u001b[0m\n\u001b[1;32m    643\u001b[0m \u001b[0;34m\u001b[0m\u001b[0m\n\u001b[1;32m    644\u001b[0m         \u001b[0;31m# Send the request\u001b[0m\u001b[0;34m\u001b[0m\u001b[0;34m\u001b[0m\u001b[0;34m\u001b[0m\u001b[0m\n\u001b[0;32m--> 645\u001b[0;31m         \u001b[0mr\u001b[0m \u001b[0;34m=\u001b[0m \u001b[0madapter\u001b[0m\u001b[0;34m.\u001b[0m\u001b[0msend\u001b[0m\u001b[0;34m(\u001b[0m\u001b[0mrequest\u001b[0m\u001b[0;34m,\u001b[0m \u001b[0;34m**\u001b[0m\u001b[0mkwargs\u001b[0m\u001b[0;34m)\u001b[0m\u001b[0;34m\u001b[0m\u001b[0;34m\u001b[0m\u001b[0m\n\u001b[0m\u001b[1;32m    646\u001b[0m \u001b[0;34m\u001b[0m\u001b[0m\n\u001b[1;32m    647\u001b[0m         \u001b[0;31m# Total elapsed time of the request (approximately)\u001b[0m\u001b[0;34m\u001b[0m\u001b[0;34m\u001b[0m\u001b[0;34m\u001b[0m\u001b[0m\n",
            "\u001b[0;32m/usr/local/lib/python3.7/dist-packages/requests/adapters.py\u001b[0m in \u001b[0;36msend\u001b[0;34m(self, request, stream, timeout, verify, cert, proxies)\u001b[0m\n\u001b[1;32m    448\u001b[0m                     \u001b[0mdecode_content\u001b[0m\u001b[0;34m=\u001b[0m\u001b[0;32mFalse\u001b[0m\u001b[0;34m,\u001b[0m\u001b[0;34m\u001b[0m\u001b[0;34m\u001b[0m\u001b[0m\n\u001b[1;32m    449\u001b[0m                     \u001b[0mretries\u001b[0m\u001b[0;34m=\u001b[0m\u001b[0mself\u001b[0m\u001b[0;34m.\u001b[0m\u001b[0mmax_retries\u001b[0m\u001b[0;34m,\u001b[0m\u001b[0;34m\u001b[0m\u001b[0;34m\u001b[0m\u001b[0m\n\u001b[0;32m--> 450\u001b[0;31m                     \u001b[0mtimeout\u001b[0m\u001b[0;34m=\u001b[0m\u001b[0mtimeout\u001b[0m\u001b[0;34m\u001b[0m\u001b[0;34m\u001b[0m\u001b[0m\n\u001b[0m\u001b[1;32m    451\u001b[0m                 )\n\u001b[1;32m    452\u001b[0m \u001b[0;34m\u001b[0m\u001b[0m\n",
            "\u001b[0;32m/usr/local/lib/python3.7/dist-packages/urllib3/connectionpool.py\u001b[0m in \u001b[0;36murlopen\u001b[0;34m(self, method, url, body, headers, retries, redirect, assert_same_host, timeout, pool_timeout, release_conn, chunked, body_pos, **response_kw)\u001b[0m\n\u001b[1;32m    675\u001b[0m                 \u001b[0mbody\u001b[0m\u001b[0;34m=\u001b[0m\u001b[0mbody\u001b[0m\u001b[0;34m,\u001b[0m\u001b[0;34m\u001b[0m\u001b[0;34m\u001b[0m\u001b[0m\n\u001b[1;32m    676\u001b[0m                 \u001b[0mheaders\u001b[0m\u001b[0;34m=\u001b[0m\u001b[0mheaders\u001b[0m\u001b[0;34m,\u001b[0m\u001b[0;34m\u001b[0m\u001b[0;34m\u001b[0m\u001b[0m\n\u001b[0;32m--> 677\u001b[0;31m                 \u001b[0mchunked\u001b[0m\u001b[0;34m=\u001b[0m\u001b[0mchunked\u001b[0m\u001b[0;34m,\u001b[0m\u001b[0;34m\u001b[0m\u001b[0;34m\u001b[0m\u001b[0m\n\u001b[0m\u001b[1;32m    678\u001b[0m             )\n\u001b[1;32m    679\u001b[0m \u001b[0;34m\u001b[0m\u001b[0m\n",
            "\u001b[0;32m/usr/local/lib/python3.7/dist-packages/urllib3/connectionpool.py\u001b[0m in \u001b[0;36m_make_request\u001b[0;34m(self, conn, method, url, timeout, chunked, **httplib_request_kw)\u001b[0m\n\u001b[1;32m    424\u001b[0m                     \u001b[0;31m# Python 3 (including for exceptions like SystemExit).\u001b[0m\u001b[0;34m\u001b[0m\u001b[0;34m\u001b[0m\u001b[0;34m\u001b[0m\u001b[0m\n\u001b[1;32m    425\u001b[0m                     \u001b[0;31m# Otherwise it looks like a bug in the code.\u001b[0m\u001b[0;34m\u001b[0m\u001b[0;34m\u001b[0m\u001b[0;34m\u001b[0m\u001b[0m\n\u001b[0;32m--> 426\u001b[0;31m                     \u001b[0msix\u001b[0m\u001b[0;34m.\u001b[0m\u001b[0mraise_from\u001b[0m\u001b[0;34m(\u001b[0m\u001b[0me\u001b[0m\u001b[0;34m,\u001b[0m \u001b[0;32mNone\u001b[0m\u001b[0;34m)\u001b[0m\u001b[0;34m\u001b[0m\u001b[0;34m\u001b[0m\u001b[0m\n\u001b[0m\u001b[1;32m    427\u001b[0m         \u001b[0;32mexcept\u001b[0m \u001b[0;34m(\u001b[0m\u001b[0mSocketTimeout\u001b[0m\u001b[0;34m,\u001b[0m \u001b[0mBaseSSLError\u001b[0m\u001b[0;34m,\u001b[0m \u001b[0mSocketError\u001b[0m\u001b[0;34m)\u001b[0m \u001b[0;32mas\u001b[0m \u001b[0me\u001b[0m\u001b[0;34m:\u001b[0m\u001b[0;34m\u001b[0m\u001b[0;34m\u001b[0m\u001b[0m\n\u001b[1;32m    428\u001b[0m             \u001b[0mself\u001b[0m\u001b[0;34m.\u001b[0m\u001b[0m_raise_timeout\u001b[0m\u001b[0;34m(\u001b[0m\u001b[0merr\u001b[0m\u001b[0;34m=\u001b[0m\u001b[0me\u001b[0m\u001b[0;34m,\u001b[0m \u001b[0murl\u001b[0m\u001b[0;34m=\u001b[0m\u001b[0murl\u001b[0m\u001b[0;34m,\u001b[0m \u001b[0mtimeout_value\u001b[0m\u001b[0;34m=\u001b[0m\u001b[0mread_timeout\u001b[0m\u001b[0;34m)\u001b[0m\u001b[0;34m\u001b[0m\u001b[0;34m\u001b[0m\u001b[0m\n",
            "\u001b[0;32m/usr/local/lib/python3.7/dist-packages/urllib3/packages/six.py\u001b[0m in \u001b[0;36mraise_from\u001b[0;34m(value, from_value)\u001b[0m\n",
            "\u001b[0;32m/usr/local/lib/python3.7/dist-packages/urllib3/connectionpool.py\u001b[0m in \u001b[0;36m_make_request\u001b[0;34m(self, conn, method, url, timeout, chunked, **httplib_request_kw)\u001b[0m\n\u001b[1;32m    419\u001b[0m                 \u001b[0;31m# Python 3\u001b[0m\u001b[0;34m\u001b[0m\u001b[0;34m\u001b[0m\u001b[0;34m\u001b[0m\u001b[0m\n\u001b[1;32m    420\u001b[0m                 \u001b[0;32mtry\u001b[0m\u001b[0;34m:\u001b[0m\u001b[0;34m\u001b[0m\u001b[0;34m\u001b[0m\u001b[0m\n\u001b[0;32m--> 421\u001b[0;31m                     \u001b[0mhttplib_response\u001b[0m \u001b[0;34m=\u001b[0m \u001b[0mconn\u001b[0m\u001b[0;34m.\u001b[0m\u001b[0mgetresponse\u001b[0m\u001b[0;34m(\u001b[0m\u001b[0;34m)\u001b[0m\u001b[0;34m\u001b[0m\u001b[0;34m\u001b[0m\u001b[0m\n\u001b[0m\u001b[1;32m    422\u001b[0m                 \u001b[0;32mexcept\u001b[0m \u001b[0mBaseException\u001b[0m \u001b[0;32mas\u001b[0m \u001b[0me\u001b[0m\u001b[0;34m:\u001b[0m\u001b[0;34m\u001b[0m\u001b[0;34m\u001b[0m\u001b[0m\n\u001b[1;32m    423\u001b[0m                     \u001b[0;31m# Remove the TypeError from the exception chain in\u001b[0m\u001b[0;34m\u001b[0m\u001b[0;34m\u001b[0m\u001b[0;34m\u001b[0m\u001b[0m\n",
            "\u001b[0;32m/usr/lib/python3.7/http/client.py\u001b[0m in \u001b[0;36mgetresponse\u001b[0;34m(self)\u001b[0m\n\u001b[1;32m   1371\u001b[0m         \u001b[0;32mtry\u001b[0m\u001b[0;34m:\u001b[0m\u001b[0;34m\u001b[0m\u001b[0;34m\u001b[0m\u001b[0m\n\u001b[1;32m   1372\u001b[0m             \u001b[0;32mtry\u001b[0m\u001b[0;34m:\u001b[0m\u001b[0;34m\u001b[0m\u001b[0;34m\u001b[0m\u001b[0m\n\u001b[0;32m-> 1373\u001b[0;31m                 \u001b[0mresponse\u001b[0m\u001b[0;34m.\u001b[0m\u001b[0mbegin\u001b[0m\u001b[0;34m(\u001b[0m\u001b[0;34m)\u001b[0m\u001b[0;34m\u001b[0m\u001b[0;34m\u001b[0m\u001b[0m\n\u001b[0m\u001b[1;32m   1374\u001b[0m             \u001b[0;32mexcept\u001b[0m \u001b[0mConnectionError\u001b[0m\u001b[0;34m:\u001b[0m\u001b[0;34m\u001b[0m\u001b[0;34m\u001b[0m\u001b[0m\n\u001b[1;32m   1375\u001b[0m                 \u001b[0mself\u001b[0m\u001b[0;34m.\u001b[0m\u001b[0mclose\u001b[0m\u001b[0;34m(\u001b[0m\u001b[0;34m)\u001b[0m\u001b[0;34m\u001b[0m\u001b[0;34m\u001b[0m\u001b[0m\n",
            "\u001b[0;32m/usr/lib/python3.7/http/client.py\u001b[0m in \u001b[0;36mbegin\u001b[0;34m(self)\u001b[0m\n\u001b[1;32m    317\u001b[0m         \u001b[0;31m# read until we get a non-100 response\u001b[0m\u001b[0;34m\u001b[0m\u001b[0;34m\u001b[0m\u001b[0;34m\u001b[0m\u001b[0m\n\u001b[1;32m    318\u001b[0m         \u001b[0;32mwhile\u001b[0m \u001b[0;32mTrue\u001b[0m\u001b[0;34m:\u001b[0m\u001b[0;34m\u001b[0m\u001b[0;34m\u001b[0m\u001b[0m\n\u001b[0;32m--> 319\u001b[0;31m             \u001b[0mversion\u001b[0m\u001b[0;34m,\u001b[0m \u001b[0mstatus\u001b[0m\u001b[0;34m,\u001b[0m \u001b[0mreason\u001b[0m \u001b[0;34m=\u001b[0m \u001b[0mself\u001b[0m\u001b[0;34m.\u001b[0m\u001b[0m_read_status\u001b[0m\u001b[0;34m(\u001b[0m\u001b[0;34m)\u001b[0m\u001b[0;34m\u001b[0m\u001b[0;34m\u001b[0m\u001b[0m\n\u001b[0m\u001b[1;32m    320\u001b[0m             \u001b[0;32mif\u001b[0m \u001b[0mstatus\u001b[0m \u001b[0;34m!=\u001b[0m \u001b[0mCONTINUE\u001b[0m\u001b[0;34m:\u001b[0m\u001b[0;34m\u001b[0m\u001b[0;34m\u001b[0m\u001b[0m\n\u001b[1;32m    321\u001b[0m                 \u001b[0;32mbreak\u001b[0m\u001b[0;34m\u001b[0m\u001b[0;34m\u001b[0m\u001b[0m\n",
            "\u001b[0;32m/usr/lib/python3.7/http/client.py\u001b[0m in \u001b[0;36m_read_status\u001b[0;34m(self)\u001b[0m\n\u001b[1;32m    278\u001b[0m \u001b[0;34m\u001b[0m\u001b[0m\n\u001b[1;32m    279\u001b[0m     \u001b[0;32mdef\u001b[0m \u001b[0m_read_status\u001b[0m\u001b[0;34m(\u001b[0m\u001b[0mself\u001b[0m\u001b[0;34m)\u001b[0m\u001b[0;34m:\u001b[0m\u001b[0;34m\u001b[0m\u001b[0;34m\u001b[0m\u001b[0m\n\u001b[0;32m--> 280\u001b[0;31m         \u001b[0mline\u001b[0m \u001b[0;34m=\u001b[0m \u001b[0mstr\u001b[0m\u001b[0;34m(\u001b[0m\u001b[0mself\u001b[0m\u001b[0;34m.\u001b[0m\u001b[0mfp\u001b[0m\u001b[0;34m.\u001b[0m\u001b[0mreadline\u001b[0m\u001b[0;34m(\u001b[0m\u001b[0m_MAXLINE\u001b[0m \u001b[0;34m+\u001b[0m \u001b[0;36m1\u001b[0m\u001b[0;34m)\u001b[0m\u001b[0;34m,\u001b[0m \u001b[0;34m\"iso-8859-1\"\u001b[0m\u001b[0;34m)\u001b[0m\u001b[0;34m\u001b[0m\u001b[0;34m\u001b[0m\u001b[0m\n\u001b[0m\u001b[1;32m    281\u001b[0m         \u001b[0;32mif\u001b[0m \u001b[0mlen\u001b[0m\u001b[0;34m(\u001b[0m\u001b[0mline\u001b[0m\u001b[0;34m)\u001b[0m \u001b[0;34m>\u001b[0m \u001b[0m_MAXLINE\u001b[0m\u001b[0;34m:\u001b[0m\u001b[0;34m\u001b[0m\u001b[0;34m\u001b[0m\u001b[0m\n\u001b[1;32m    282\u001b[0m             \u001b[0;32mraise\u001b[0m \u001b[0mLineTooLong\u001b[0m\u001b[0;34m(\u001b[0m\u001b[0;34m\"status line\"\u001b[0m\u001b[0;34m)\u001b[0m\u001b[0;34m\u001b[0m\u001b[0;34m\u001b[0m\u001b[0m\n",
            "\u001b[0;32m/usr/lib/python3.7/socket.py\u001b[0m in \u001b[0;36mreadinto\u001b[0;34m(self, b)\u001b[0m\n\u001b[1;32m    587\u001b[0m         \u001b[0;32mwhile\u001b[0m \u001b[0;32mTrue\u001b[0m\u001b[0;34m:\u001b[0m\u001b[0;34m\u001b[0m\u001b[0;34m\u001b[0m\u001b[0m\n\u001b[1;32m    588\u001b[0m             \u001b[0;32mtry\u001b[0m\u001b[0;34m:\u001b[0m\u001b[0;34m\u001b[0m\u001b[0;34m\u001b[0m\u001b[0m\n\u001b[0;32m--> 589\u001b[0;31m                 \u001b[0;32mreturn\u001b[0m \u001b[0mself\u001b[0m\u001b[0;34m.\u001b[0m\u001b[0m_sock\u001b[0m\u001b[0;34m.\u001b[0m\u001b[0mrecv_into\u001b[0m\u001b[0;34m(\u001b[0m\u001b[0mb\u001b[0m\u001b[0;34m)\u001b[0m\u001b[0;34m\u001b[0m\u001b[0;34m\u001b[0m\u001b[0m\n\u001b[0m\u001b[1;32m    590\u001b[0m             \u001b[0;32mexcept\u001b[0m \u001b[0mtimeout\u001b[0m\u001b[0;34m:\u001b[0m\u001b[0;34m\u001b[0m\u001b[0;34m\u001b[0m\u001b[0m\n\u001b[1;32m    591\u001b[0m                 \u001b[0mself\u001b[0m\u001b[0;34m.\u001b[0m\u001b[0m_timeout_occurred\u001b[0m \u001b[0;34m=\u001b[0m \u001b[0;32mTrue\u001b[0m\u001b[0;34m\u001b[0m\u001b[0;34m\u001b[0m\u001b[0m\n",
            "\u001b[0;32m/usr/lib/python3.7/ssl.py\u001b[0m in \u001b[0;36mrecv_into\u001b[0;34m(self, buffer, nbytes, flags)\u001b[0m\n\u001b[1;32m   1069\u001b[0m                   \u001b[0;34m\"non-zero flags not allowed in calls to recv_into() on %s\"\u001b[0m \u001b[0;34m%\u001b[0m\u001b[0;34m\u001b[0m\u001b[0;34m\u001b[0m\u001b[0m\n\u001b[1;32m   1070\u001b[0m                   self.__class__)\n\u001b[0;32m-> 1071\u001b[0;31m             \u001b[0;32mreturn\u001b[0m \u001b[0mself\u001b[0m\u001b[0;34m.\u001b[0m\u001b[0mread\u001b[0m\u001b[0;34m(\u001b[0m\u001b[0mnbytes\u001b[0m\u001b[0;34m,\u001b[0m \u001b[0mbuffer\u001b[0m\u001b[0;34m)\u001b[0m\u001b[0;34m\u001b[0m\u001b[0;34m\u001b[0m\u001b[0m\n\u001b[0m\u001b[1;32m   1072\u001b[0m         \u001b[0;32melse\u001b[0m\u001b[0;34m:\u001b[0m\u001b[0;34m\u001b[0m\u001b[0;34m\u001b[0m\u001b[0m\n\u001b[1;32m   1073\u001b[0m             \u001b[0;32mreturn\u001b[0m \u001b[0msuper\u001b[0m\u001b[0;34m(\u001b[0m\u001b[0;34m)\u001b[0m\u001b[0;34m.\u001b[0m\u001b[0mrecv_into\u001b[0m\u001b[0;34m(\u001b[0m\u001b[0mbuffer\u001b[0m\u001b[0;34m,\u001b[0m \u001b[0mnbytes\u001b[0m\u001b[0;34m,\u001b[0m \u001b[0mflags\u001b[0m\u001b[0;34m)\u001b[0m\u001b[0;34m\u001b[0m\u001b[0;34m\u001b[0m\u001b[0m\n",
            "\u001b[0;32m/usr/lib/python3.7/ssl.py\u001b[0m in \u001b[0;36mread\u001b[0;34m(self, len, buffer)\u001b[0m\n\u001b[1;32m    927\u001b[0m         \u001b[0;32mtry\u001b[0m\u001b[0;34m:\u001b[0m\u001b[0;34m\u001b[0m\u001b[0;34m\u001b[0m\u001b[0m\n\u001b[1;32m    928\u001b[0m             \u001b[0;32mif\u001b[0m \u001b[0mbuffer\u001b[0m \u001b[0;32mis\u001b[0m \u001b[0;32mnot\u001b[0m \u001b[0;32mNone\u001b[0m\u001b[0;34m:\u001b[0m\u001b[0;34m\u001b[0m\u001b[0;34m\u001b[0m\u001b[0m\n\u001b[0;32m--> 929\u001b[0;31m                 \u001b[0;32mreturn\u001b[0m \u001b[0mself\u001b[0m\u001b[0;34m.\u001b[0m\u001b[0m_sslobj\u001b[0m\u001b[0;34m.\u001b[0m\u001b[0mread\u001b[0m\u001b[0;34m(\u001b[0m\u001b[0mlen\u001b[0m\u001b[0;34m,\u001b[0m \u001b[0mbuffer\u001b[0m\u001b[0;34m)\u001b[0m\u001b[0;34m\u001b[0m\u001b[0;34m\u001b[0m\u001b[0m\n\u001b[0m\u001b[1;32m    930\u001b[0m             \u001b[0;32melse\u001b[0m\u001b[0;34m:\u001b[0m\u001b[0;34m\u001b[0m\u001b[0;34m\u001b[0m\u001b[0m\n\u001b[1;32m    931\u001b[0m                 \u001b[0;32mreturn\u001b[0m \u001b[0mself\u001b[0m\u001b[0;34m.\u001b[0m\u001b[0m_sslobj\u001b[0m\u001b[0;34m.\u001b[0m\u001b[0mread\u001b[0m\u001b[0;34m(\u001b[0m\u001b[0mlen\u001b[0m\u001b[0;34m)\u001b[0m\u001b[0;34m\u001b[0m\u001b[0;34m\u001b[0m\u001b[0m\n",
            "\u001b[0;31mKeyboardInterrupt\u001b[0m: "
          ]
        }
      ]
    },
    {
      "cell_type": "code",
      "source": [
        "corpus_path = DATA_PATH / \"classical_bo\""
      ],
      "metadata": {
        "id": "T4eD0W5GqnWo"
      },
      "execution_count": null,
      "outputs": []
    },
    {
      "cell_type": "code",
      "source": [
        "def get_text_paths(path) -> List[str]:\n",
        "   files = []\n",
        "   for pecha_path in path.iterdir():\n",
        "     if (pecha_path / \".txt.\").is_file():\n",
        "       pecha_path.unlink()\n",
        "       continue\n",
        "     for fn in pecha_path.iterdir():\n",
        "      files.append(str(fn))\n",
        "   return files"
      ],
      "metadata": {
        "id": "HKAq9y5kOp1u"
      },
      "execution_count": null,
      "outputs": []
    },
    {
      "cell_type": "markdown",
      "source": [
        "## Train Tokenizer"
      ],
      "metadata": {
        "id": "48nQ6nBuO_MO"
      }
    },
    {
      "cell_type": "code",
      "source": [
        "tokenizer = ByteLevelBPETokenizer()"
      ],
      "metadata": {
        "id": "7dcG8_0lO0g8"
      },
      "execution_count": null,
      "outputs": []
    },
    {
      "cell_type": "code",
      "source": [
        "# Customize training\n",
        "tokenizer.train(files=get_text_paths(corpus_path), vocab_size=52_000, min_frequency=2, special_tokens=[\n",
        "    \"<s>\",\n",
        "    \"<pad>\",\n",
        "    \"</s>\",\n",
        "    \"<unk>\",\n",
        "    \"<mask>\",\n",
        "])"
      ],
      "metadata": {
        "id": "rhVPHBF6PDzQ"
      },
      "execution_count": null,
      "outputs": []
    },
    {
      "cell_type": "code",
      "source": [
        " tokenizer.save_model(str(tokenizer_path))"
      ],
      "metadata": {
        "colab": {
          "base_uri": "https://localhost:8080/"
        },
        "id": "uQKdVWbiPG86",
        "outputId": "eda70620-948f-4023-ed7e-21a9e21a2d97"
      },
      "execution_count": null,
      "outputs": [
        {
          "output_type": "execute_result",
          "data": {
            "text/plain": [
              "['/content/drive/MyDrive/OpenPecha/ML/LM/models/GPT_classical_bo/vocab.json',\n",
              " '/content/drive/MyDrive/OpenPecha/ML/LM/models/GPT_classical_bo/merges.txt']"
            ]
          },
          "metadata": {},
          "execution_count": 48
        }
      ]
    },
    {
      "cell_type": "markdown",
      "source": [
        "## Train Language Model"
      ],
      "metadata": {
        "id": "c-yHk8yVPgan"
      }
    },
    {
      "cell_type": "code",
      "source": [
        "from datasets import load_dataset"
      ],
      "metadata": {
        "id": "ih3Uoh5pPg0v"
      },
      "execution_count": null,
      "outputs": []
    },
    {
      "cell_type": "code",
      "source": [
        "def get_dataset(path):\n",
        "  dataset = load_dataset(\"text\", data_files=get_text_paths(path), split=\"train\")\n",
        "  dataset = dataset.train_test_split(test_size=0.2)\n",
        "  return dataset"
      ],
      "metadata": {
        "id": "rtXkzFflPjIu"
      },
      "execution_count": null,
      "outputs": []
    },
    {
      "cell_type": "code",
      "source": [
        "dataset = get_dataset(corpus_path)"
      ],
      "metadata": {
        "colab": {
          "base_uri": "https://localhost:8080/",
          "height": 185,
          "referenced_widgets": [
            "c7dc01b1f066481197c299db06a54c44",
            "3c9aabfcd6834ac8967a72b1f93487a8",
            "1cb4ab1bf015484281a7029b7c026036",
            "eb85674ffc2946058f9b17c1511adf9c",
            "7e7cb97013334e608b56e5d02919aa02",
            "478223825d594c56a0987333ebccd990",
            "f0a55430bc924ad6bc86c3baece86e78",
            "19f3ee6d0dd04f86912a7d148afeedaa",
            "8dced8a886254175a5a55eccba4905ea",
            "2e5acae43a784326b5cae6f35551be87",
            "f4f3e152f6d94f8285180586826be0b5",
            "3e30f0c7603b40f8bd72c8ea61d6c7ed",
            "5a1799177b7c46d1a86719f190758d09",
            "71f20a09a8cb4051a1a8d12b92c9e689",
            "5b9ae321d8eb4b3a80f66a9a31910a05",
            "c977626f12404d5da384087547d9a256",
            "4733b34f7989441481906b6304e0ae0a",
            "0b6e18fcaea145a4aa589641d7f57107",
            "7b7426583e0c4e309ca7bee684964203",
            "4a398f9098ee4795a259dd022fbe036d",
            "d99bd641adbd4184ac462f8b8df02ef6",
            "2657fd125cee4ec59b344ce41afea916",
            "6be035a562ef42e4bc4e38d4ea07109b",
            "256a783bc3c048be95528443e68ba6e8",
            "0bad06373d4d4955a67c531b91bb24fa",
            "a00cc17c8bf447f09495b2d4f8693d0d",
            "288503ffa7594d668c9efe8e079fff8e",
            "76b943463e2b46a59d71e48338d4ab5f",
            "7b92c30df0464af0a18620fe4d4a6880",
            "137c4a1cee8f45118f6bf3cdba047039",
            "c422846193c94742bf75d3506a1c6820",
            "46c2a38c466e4c5795c7976d07c9ce05",
            "65da58798280483b83703a3905e147d3"
          ]
        },
        "id": "6XSIUCgIPlJe",
        "outputId": "de6a3155-abd9-4a05-ec1e-8e19f86e182e"
      },
      "execution_count": null,
      "outputs": [
        {
          "output_type": "display_data",
          "data": {
            "text/plain": [
              "Resolving data files:   0%|          | 0/4516 [00:00<?, ?it/s]"
            ],
            "application/vnd.jupyter.widget-view+json": {
              "version_major": 2,
              "version_minor": 0,
              "model_id": "c7dc01b1f066481197c299db06a54c44"
            }
          },
          "metadata": {}
        },
        {
          "output_type": "stream",
          "name": "stderr",
          "text": [
            "Using custom data configuration default-72dd1ce9ee4ca6c5\n"
          ]
        },
        {
          "output_type": "stream",
          "name": "stdout",
          "text": [
            "Downloading and preparing dataset text/default to /root/.cache/huggingface/datasets/text/default-72dd1ce9ee4ca6c5/0.0.0/4b86d314f7236db91f0a0f5cda32d4375445e64c5eda2692655dd99c2dac68e8...\n"
          ]
        },
        {
          "output_type": "display_data",
          "data": {
            "text/plain": [
              "Downloading data files:   0%|          | 0/1 [00:00<?, ?it/s]"
            ],
            "application/vnd.jupyter.widget-view+json": {
              "version_major": 2,
              "version_minor": 0,
              "model_id": "3e30f0c7603b40f8bd72c8ea61d6c7ed"
            }
          },
          "metadata": {}
        },
        {
          "output_type": "display_data",
          "data": {
            "text/plain": [
              "Extracting data files:   0%|          | 0/1 [00:00<?, ?it/s]"
            ],
            "application/vnd.jupyter.widget-view+json": {
              "version_major": 2,
              "version_minor": 0,
              "model_id": "6be035a562ef42e4bc4e38d4ea07109b"
            }
          },
          "metadata": {}
        },
        {
          "output_type": "stream",
          "name": "stdout",
          "text": [
            "Dataset text downloaded and prepared to /root/.cache/huggingface/datasets/text/default-72dd1ce9ee4ca6c5/0.0.0/4b86d314f7236db91f0a0f5cda32d4375445e64c5eda2692655dd99c2dac68e8. Subsequent calls will reuse this data.\n"
          ]
        }
      ]
    },
    {
      "cell_type": "code",
      "source": [
        "from transformers import TrainingArguments, Trainer\n",
        "from transformers import GPT2Config, GPT2TokenizerFast, GPT2LMHeadModel"
      ],
      "metadata": {
        "id": "Z3n9c6a9QDPG"
      },
      "execution_count": null,
      "outputs": []
    },
    {
      "cell_type": "code",
      "source": [
        "config = GPT2Config(\n",
        "    vocab_size=len(tokenizer),\n",
        "    n_position=514,\n",
        "    n_head=12,\n",
        "    n_layer=6\n",
        ")"
      ],
      "metadata": {
        "id": "vDp9apkyROXU"
      },
      "execution_count": null,
      "outputs": []
    },
    {
      "cell_type": "code",
      "source": [
        "# Initialize the model from a configuration without pretrained weights\n",
        "model = GPT2LMHeadModel(config=config)\n",
        "print('Num parameters: ',model.num_parameters())"
      ],
      "metadata": {
        "colab": {
          "base_uri": "https://localhost:8080/"
        },
        "id": "n_q4vFhuU_nW",
        "outputId": "df847867-f2da-46af-c445-2d8005879600"
      },
      "execution_count": null,
      "outputs": [
        {
          "output_type": "stream",
          "name": "stdout",
          "text": [
            "Num parameters:  53345280\n"
          ]
        }
      ]
    },
    {
      "cell_type": "code",
      "source": [
        "assert model.transformer.wte.weight.shape[0] == len(tokenizer)"
      ],
      "metadata": {
        "id": "LUZ0Kjs89Ulk"
      },
      "execution_count": null,
      "outputs": []
    },
    {
      "cell_type": "code",
      "source": [
        "tokenizer = GPT2TokenizerFast.from_pretrained(str(tokenizer_path))\n",
        "tokenizer.add_special_tokens({\n",
        "  \"eos_token\": \"</s>\",\n",
        "  \"bos_token\": \"<s>\",\n",
        "  \"unk_token\": \"<unk>\",\n",
        "  \"pad_token\": \"<pad>\",\n",
        "  \"mask_token\": \"<mask>\"\n",
        "})"
      ],
      "metadata": {
        "colab": {
          "base_uri": "https://localhost:8080/"
        },
        "id": "COMp-o3NVEis",
        "outputId": "b749957d-8988-4041-dc28-291ec823e725"
      },
      "execution_count": null,
      "outputs": [
        {
          "output_type": "stream",
          "name": "stderr",
          "text": [
            "Didn't find file /content/drive/MyDrive/OpenPecha/ML/LM/models/GPT_classical_bo/tokenizer.json. We won't load it.\n",
            "Didn't find file /content/drive/MyDrive/OpenPecha/ML/LM/models/GPT_classical_bo/added_tokens.json. We won't load it.\n",
            "Didn't find file /content/drive/MyDrive/OpenPecha/ML/LM/models/GPT_classical_bo/special_tokens_map.json. We won't load it.\n",
            "Didn't find file /content/drive/MyDrive/OpenPecha/ML/LM/models/GPT_classical_bo/tokenizer_config.json. We won't load it.\n",
            "loading file /content/drive/MyDrive/OpenPecha/ML/LM/models/GPT_classical_bo/vocab.json\n",
            "loading file /content/drive/MyDrive/OpenPecha/ML/LM/models/GPT_classical_bo/merges.txt\n",
            "loading file None\n",
            "loading file None\n",
            "loading file None\n",
            "loading file None\n",
            "Special tokens have been added in the vocabulary, make sure the associated word embeddings are fine-tuned or trained.\n",
            "Assigning </s> to the eos_token key of the tokenizer\n",
            "Assigning <s> to the bos_token key of the tokenizer\n",
            "Assigning <unk> to the unk_token key of the tokenizer\n",
            "Assigning <pad> to the pad_token key of the tokenizer\n",
            "Assigning <mask> to the mask_token key of the tokenizer\n"
          ]
        },
        {
          "output_type": "execute_result",
          "data": {
            "text/plain": [
              "0"
            ]
          },
          "metadata": {},
          "execution_count": 107
        }
      ]
    },
    {
      "cell_type": "code",
      "source": [
        "def encode(sentence):\n",
        "    return tokenizer(sentence[\"text\"], truncation=True, padding='max_length')\n",
        "\n",
        "dataset_encoded = dataset.map(encode, batched=True)"
      ],
      "metadata": {
        "colab": {
          "base_uri": "https://localhost:8080/"
        },
        "id": "fl1QmWP-VvOv",
        "outputId": "0e0bf425-b6fc-47c1-c484-1c6161947ae1"
      },
      "execution_count": null,
      "outputs": [
        {
          "output_type": "stream",
          "name": "stderr",
          "text": [
            "Loading cached processed dataset at /root/.cache/huggingface/datasets/text/default-72dd1ce9ee4ca6c5/0.0.0/4b86d314f7236db91f0a0f5cda32d4375445e64c5eda2692655dd99c2dac68e8/cache-8440e3debbe329cd.arrow\n",
            "Loading cached processed dataset at /root/.cache/huggingface/datasets/text/default-72dd1ce9ee4ca6c5/0.0.0/4b86d314f7236db91f0a0f5cda32d4375445e64c5eda2692655dd99c2dac68e8/cache-231ae2ae333a878a.arrow\n"
          ]
        }
      ]
    },
    {
      "cell_type": "code",
      "source": [
        "dataset_encoded = dataset_encoded.remove_columns([\"text\"])"
      ],
      "metadata": {
        "id": "ozZ4lZYE2RBE"
      },
      "execution_count": null,
      "outputs": []
    },
    {
      "cell_type": "code",
      "source": [
        "from transformers import DataCollatorForLanguageModeling\n",
        "import math\n",
        "\n",
        "tokenizer.pad_token = tokenizer.eos_token\n",
        "data_collator = DataCollatorForLanguageModeling(tokenizer=tokenizer, mlm=False)"
      ],
      "metadata": {
        "id": "1ES2VEeMWWZw"
      },
      "execution_count": null,
      "outputs": []
    },
    {
      "cell_type": "code",
      "source": [
        "training_args = TrainingArguments(\n",
        "    output_dir=\"./results\",\n",
        "    evaluation_strategy=\"epoch\",\n",
        "    learning_rate=2e-5,\n",
        "    num_train_epochs=1,\n",
        "    weight_decay=0.01,\n",
        ")"
      ],
      "metadata": {
        "id": "CmF-BMXfV2xN",
        "colab": {
          "base_uri": "https://localhost:8080/"
        },
        "outputId": "5391e662-3de9-44d5-be40-aa4de7b8ba08"
      },
      "execution_count": null,
      "outputs": [
        {
          "output_type": "stream",
          "name": "stderr",
          "text": [
            "PyTorch: setting up devices\n",
            "The default value for the training argument `--report_to` will change in v5 (from all installed integrations to none). In v5, you will need to use `--report_to all` to get the same behavior as now. You should start updating your code and make this info disappear :-).\n"
          ]
        }
      ]
    },
    {
      "cell_type": "code",
      "source": [
        "trainer = Trainer(\n",
        "    model=model,\n",
        "    args=training_args,\n",
        "    train_dataset=dataset_encoded[\"train\"],\n",
        "    eval_dataset=dataset_encoded[\"test\"],\n",
        "    data_collator=data_collator,\n",
        ")"
      ],
      "metadata": {
        "id": "9z_YDLvgWTnv"
      },
      "execution_count": null,
      "outputs": []
    },
    {
      "cell_type": "code",
      "source": [
        "trainer.train()"
      ],
      "metadata": {
        "colab": {
          "base_uri": "https://localhost:8080/",
          "height": 252
        },
        "id": "BxkH-clUWbpD",
        "outputId": "ee08b2a1-306d-4fe6-b803-db363342d6da"
      },
      "execution_count": null,
      "outputs": [
        {
          "output_type": "stream",
          "name": "stderr",
          "text": [
            "/usr/local/lib/python3.7/dist-packages/transformers/optimization.py:309: FutureWarning: This implementation of AdamW is deprecated and will be removed in a future version. Use the PyTorch implementation torch.optim.AdamW instead, or set `no_deprecation_warning=True` to disable this warning\n",
            "  FutureWarning,\n",
            "***** Running training *****\n",
            "  Num examples = 244704\n",
            "  Num Epochs = 1\n",
            "  Instantaneous batch size per device = 8\n",
            "  Total train batch size (w. parallel, distributed & accumulation) = 8\n",
            "  Gradient Accumulation steps = 1\n",
            "  Total optimization steps = 30588\n"
          ]
        },
        {
          "output_type": "display_data",
          "data": {
            "text/plain": [
              "<IPython.core.display.HTML object>"
            ],
            "text/html": [
              "\n",
              "    <div>\n",
              "      \n",
              "      <progress value='198' max='30588' style='width:300px; height:20px; vertical-align: middle;'></progress>\n",
              "      [  198/30588 16:29 < 42:37:34, 0.20 it/s, Epoch 0.01/1]\n",
              "    </div>\n",
              "    <table border=\"1\" class=\"dataframe\">\n",
              "  <thead>\n",
              " <tr style=\"text-align: left;\">\n",
              "      <th>Epoch</th>\n",
              "      <th>Training Loss</th>\n",
              "      <th>Validation Loss</th>\n",
              "    </tr>\n",
              "  </thead>\n",
              "  <tbody>\n",
              "  </tbody>\n",
              "</table><p>"
            ]
          },
          "metadata": {}
        }
      ]
    },
    {
      "cell_type": "code",
      "source": [
        "dataset_encoded"
      ],
      "metadata": {
        "colab": {
          "base_uri": "https://localhost:8080/"
        },
        "id": "LwNuap_dWdsA",
        "outputId": "3b76ccb3-39b4-41ff-f308-f1794bcae2f9"
      },
      "execution_count": null,
      "outputs": [
        {
          "output_type": "execute_result",
          "data": {
            "text/plain": [
              "DatasetDict({\n",
              "    train: Dataset({\n",
              "        features: ['input_ids', 'attention_mask'],\n",
              "        num_rows: 244704\n",
              "    })\n",
              "    test: Dataset({\n",
              "        features: ['input_ids', 'attention_mask'],\n",
              "        num_rows: 61176\n",
              "    })\n",
              "})"
            ]
          },
          "metadata": {},
          "execution_count": 85
        }
      ]
    },
    {
      "cell_type": "code",
      "source": [
        "len(dataset_encoded[\"train\"][0][\"input_ids\"])"
      ],
      "metadata": {
        "colab": {
          "base_uri": "https://localhost:8080/"
        },
        "id": "P0JBX0-hXQ3d",
        "outputId": "4e6189dc-a605-4de8-df6a-a203936fd702"
      },
      "execution_count": null,
      "outputs": [
        {
          "output_type": "execute_result",
          "data": {
            "text/plain": [
              "303"
            ]
          },
          "metadata": {},
          "execution_count": 29
        }
      ]
    },
    {
      "cell_type": "code",
      "source": [
        ""
      ],
      "metadata": {
        "id": "cWE39LsaXXRI"
      },
      "execution_count": null,
      "outputs": []
    }
  ]
}