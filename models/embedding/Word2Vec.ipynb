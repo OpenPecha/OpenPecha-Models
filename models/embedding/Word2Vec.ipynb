{
 "cells": [
  {
   "cell_type": "code",
   "execution_count": 36,
   "id": "b5a37f96-8da6-43df-828c-8a10fd956cb7",
   "metadata": {},
   "outputs": [],
   "source": [
    "from time import time\n",
    "from collections import defaultdict\n",
    "import multiprocessing\n",
    "from pathlib import Path\n",
    "import logging\n",
    "import unicodedata\n",
    "\n",
    "from gensim.models import Word2Vec\n",
    "from gensim.models import KeyedVectors\n",
    "\n",
    "import config\n",
    "\n",
    "logging.basicConfig(format=\"%(levelname)s - %(asctime)s: %(message)s\", datefmt= '%H:%M:%S', level=logging.INFO)"
   ]
  },
  {
   "cell_type": "markdown",
   "id": "67fc7147-2c04-4a9b-9e80-68e4a030a832",
   "metadata": {},
   "source": [
    "## Dataset"
   ]
  },
  {
   "cell_type": "code",
   "execution_count": 27,
   "id": "aec154a1-ba92-43a3-af2e-cae1759e17e1",
   "metadata": {},
   "outputs": [],
   "source": [
    "model_name = \"word2vec_classical_bo.model\"\n",
    "model_path = config.MODELS_DIR / model_name\n",
    "\n",
    "corpus_path = config.DATA_DIR / \"classical_bo\""
   ]
  },
  {
   "cell_type": "code",
   "execution_count": 5,
   "id": "9327829c-975c-4ada-9d5c-584b789e8728",
   "metadata": {},
   "outputs": [],
   "source": [
    "def get_files(path):\n",
    "    for pecha_path in path.iterdir():\n",
    "        if not pecha_path.is_dir(): continue\n",
    "        for fn in pecha_path.iterdir():\n",
    "            if not 'tokenize' in fn.name: continue\n",
    "            yield fn\n",
    "            \n",
    "def is_punt(word):\n",
    "    for punt in [\"།\", \"།།\", \"༄༅\"]:\n",
    "        if punt in word:\n",
    "            return True\n",
    "    return False\n",
    "    \n",
    "def tokenize(text):\n",
    "    return [token for token in text.split() if token and not is_punt(token)]\n",
    "    \n",
    "def get_sentences(corpus_path):\n",
    "    fns = get_files(corpus_path)\n",
    "    for fn in fns:\n",
    "        for sentence in fn.open('r'):\n",
    "            if len(sentence.split()) < 3: continue\n",
    "            yield tokenize(unicodedata.normalize(\"NFKC\", sentence.strip()))"
   ]
  },
  {
   "cell_type": "code",
   "execution_count": 6,
   "id": "c84459d0-1216-4faa-94e8-c049d4cb48d3",
   "metadata": {},
   "outputs": [],
   "source": [
    "sentences = list(get_sentences(corpus_path))"
   ]
  },
  {
   "cell_type": "code",
   "execution_count": 7,
   "id": "917e6cc8-c44a-48a6-873a-6bff5797903b",
   "metadata": {},
   "outputs": [
    {
     "data": {
      "text/plain": [
       "986814"
      ]
     },
     "execution_count": 7,
     "metadata": {},
     "output_type": "execute_result"
    }
   ],
   "source": [
    "len(sentences)"
   ]
  },
  {
   "cell_type": "code",
   "execution_count": 8,
   "id": "2244be62-70bc-41a5-8626-d952cd34f47f",
   "metadata": {},
   "outputs": [
    {
     "data": {
      "text/plain": [
       "['འི་', 'ར་', 'དང་', 'ས་', 'ལ་', 'ཀྱི་', 'དུ་', 'ལ', 'གྱི་', 'ནས་']"
      ]
     },
     "execution_count": 8,
     "metadata": {},
     "output_type": "execute_result"
    }
   ],
   "source": [
    "def top_k_highest_freq_word(sentences, k=10):\n",
    "    word_freq = defaultdict(int)\n",
    "    for sent in sentences:\n",
    "        for i in sent:\n",
    "            word_freq[i] += 1\n",
    "    return sorted(word_freq, key=word_freq.get, reverse=True)[:10]\n",
    "\n",
    "top_k_highest_freq_word(sentences)"
   ]
  },
  {
   "cell_type": "markdown",
   "id": "5f0fac5e-fdd9-4733-8eb6-758e0f1d1b93",
   "metadata": {},
   "source": [
    "## Train model"
   ]
  },
  {
   "cell_type": "code",
   "execution_count": 10,
   "id": "433583f2-4d77-4deb-9a6a-797aa99ba0b3",
   "metadata": {},
   "outputs": [],
   "source": [
    "cores = multiprocessing.cpu_count()"
   ]
  },
  {
   "cell_type": "code",
   "execution_count": 14,
   "id": "e2639f53-5cce-40a8-9a34-0ae8d7b778a8",
   "metadata": {},
   "outputs": [
    {
     "name": "stderr",
     "output_type": "stream",
     "text": [
      "INFO - 12:53:45: Word2Vec lifecycle event {'params': 'Word2Vec(vocab=0, vector_size=100, alpha=0.025)', 'datetime': '2022-05-03T12:53:45.391100', 'gensim': '4.1.2', 'python': '3.9.10 | packaged by conda-forge | (main, Feb  1 2022, 21:24:37) \\n[GCC 9.4.0]', 'platform': 'Linux-4.14.262-200.489.amzn2.x86_64-x86_64-with-glibc2.31', 'event': 'created'}\n"
     ]
    }
   ],
   "source": [
    "model = Word2Vec(\n",
    "    vector_size=100,\n",
    "    window=5,\n",
    "    min_count=1,\n",
    "    min_alpha=0.0007, \n",
    "    negative=20,\n",
    "    workers=cores-1\n",
    ")"
   ]
  },
  {
   "cell_type": "code",
   "execution_count": null,
   "id": "08f9c27b-3d64-4591-aa58-5fe65a09fefa",
   "metadata": {},
   "outputs": [],
   "source": [
    "t = time()\n",
    "model.build_vocab(sentences, progress_per=10000)\n",
    "print('Time to build vocab: {} mins'.format(round((time() - t) / 60, 2)))"
   ]
  },
  {
   "cell_type": "code",
   "execution_count": null,
   "id": "3732879d-b863-4811-8090-c61a056b1b87",
   "metadata": {},
   "outputs": [],
   "source": [
    "t = time()\n",
    "model.train(sentences, total_examples=model.corpus_count, epochs=30, report_delay=1)\n",
    "print('Time to train the model: {} mins'.format(round((time() - t) / 60, 2)))"
   ]
  },
  {
   "cell_type": "code",
   "execution_count": 28,
   "id": "9b962521-0b59-4b07-b032-553eddf3554e",
   "metadata": {},
   "outputs": [
    {
     "name": "stderr",
     "output_type": "stream",
     "text": [
      "INFO - 13:16:18: Word2Vec lifecycle event {'fname_or_handle': '/home/studio-lab-user/.models/models/word2vec_classical_bo.model', 'separately': 'None', 'sep_limit': 10485760, 'ignore': frozenset(), 'datetime': '2022-05-03T13:16:18.204689', 'gensim': '4.1.2', 'python': '3.9.10 | packaged by conda-forge | (main, Feb  1 2022, 21:24:37) \\n[GCC 9.4.0]', 'platform': 'Linux-4.14.262-200.489.amzn2.x86_64-x86_64-with-glibc2.31', 'event': 'saving'}\n",
      "INFO - 13:16:18: not storing attribute cum_table\n",
      "INFO - 13:16:18: saved /home/studio-lab-user/.models/models/word2vec_classical_bo.model\n"
     ]
    }
   ],
   "source": [
    "model.save(str(model_path))"
   ]
  },
  {
   "cell_type": "markdown",
   "id": "d1a64142-e30a-49f6-9458-ae3e29d33977",
   "metadata": {},
   "source": [
    "## Exploring the model"
   ]
  },
  {
   "cell_type": "code",
   "execution_count": 31,
   "id": "0434f3d9-ee81-4581-9f05-243e0c8ed398",
   "metadata": {},
   "outputs": [
    {
     "data": {
      "text/plain": [
       "[('ཤུགས་', 0.6270895600318909),\n",
       " ('སྟོབས་ཤུགས་', 0.5976985096931458),\n",
       " ('མཐུ་', 0.5726722478866577),\n",
       " ('སྟོབས', 0.537462592124939),\n",
       " ('རང་ཤུགས་', 0.5301303863525391),\n",
       " ('ནུས་སྟོབས་', 0.5233063697814941),\n",
       " ('བརྩོན་འགྲུས་', 0.5218465328216553),\n",
       " ('ཤན་སྟོབས་', 0.48222506046295166),\n",
       " ('མངོན་ཤེས་', 0.47309374809265137),\n",
       " ('ཤེས་རབ་', 0.46450451016426086)]"
      ]
     },
     "execution_count": 31,
     "metadata": {},
     "output_type": "execute_result"
    }
   ],
   "source": [
    "model.wv.most_similar(\"སྟོབས་\")"
   ]
  },
  {
   "cell_type": "code",
   "execution_count": 32,
   "id": "f6c713cd-46aa-4637-bf8e-234671365b93",
   "metadata": {},
   "outputs": [
    {
     "data": {
      "text/plain": [
       "[('མཛད', 0.6354176998138428),\n",
       " ('མཛད་པ', 0.6226857900619507),\n",
       " ('སྟོན་པ་', 0.5863264203071594),\n",
       " ('མཛད་', 0.5766376852989197),\n",
       " ('བཞེད་པ་', 0.5742528438568115),\n",
       " ('མཛད་པ་པོ་', 0.5446878671646118),\n",
       " ('བྱོན་པ་', 0.5159367322921753),\n",
       " ('བཀྲལ་བ་', 0.5106030106544495),\n",
       " ('གསུང་རབ་', 0.5089299082756042),\n",
       " ('གདུལ་བྱ་', 0.502116858959198)]"
      ]
     },
     "execution_count": 32,
     "metadata": {},
     "output_type": "execute_result"
    }
   ],
   "source": [
    "model.wv.most_similar(\"མཛད་པ་\")"
   ]
  },
  {
   "cell_type": "code",
   "execution_count": 33,
   "id": "fcb0c7e0-0598-4505-ac92-ecc8eed689cf",
   "metadata": {},
   "outputs": [
    {
     "data": {
      "text/plain": [
       "[('བླ་མ', 0.6644584536552429),\n",
       " ('ཡོངས་འཛིན་', 0.5951176881790161),\n",
       " ('སྐྱབས་མགོན་', 0.5435715913772583),\n",
       " ('མར་མེ་མཛད', 0.5370640754699707),\n",
       " ('ཇོ་བོ་', 0.5248255133628845),\n",
       " ('བཀའ་དྲིན་་་་་་', 0.5221753120422363),\n",
       " ('སྐྱབས་གནས་', 0.521973192691803),\n",
       " ('སྐུ་ཞབས་', 0.5005108714103699),\n",
       " ('འབྲུག་པ', 0.4933638274669647),\n",
       " ('དྭགས་པོ་', 0.48295798897743225)]"
      ]
     },
     "execution_count": 33,
     "metadata": {},
     "output_type": "execute_result"
    }
   ],
   "source": [
    "model.wv.most_similar(\"བླ་མ་\")"
   ]
  },
  {
   "cell_type": "code",
   "execution_count": 34,
   "id": "17d6aa04-dc74-4ac1-b21d-23aaa7907ebe",
   "metadata": {},
   "outputs": [
    {
     "data": {
      "text/plain": [
       "[('རྩད་', 0.505094587802887),\n",
       " ('བཤེས་གཉེན་པ་', 0.5023690462112427),\n",
       " ('སྲོག་རྩ་', 0.499602347612381),\n",
       " ('བཤེས', 0.47952309250831604),\n",
       " ('གཞི་རྩ་', 0.47937679290771484),\n",
       " ('བཤེས་གཉེན་', 0.472102552652359),\n",
       " ('གཞི་མ་', 0.46959346532821655),\n",
       " ('རྩ་བ', 0.45777443051338196),\n",
       " ('གཞི་མ', 0.4474014937877655),\n",
       " ('རྟེན་གཞི་', 0.43366846442222595)]"
      ]
     },
     "execution_count": 34,
     "metadata": {},
     "output_type": "execute_result"
    }
   ],
   "source": [
    "model.wv.most_similar(\"རྩ་བ་\")"
   ]
  },
  {
   "cell_type": "code",
   "execution_count": 35,
   "id": "6f82a69e-c7ea-4da7-8361-37ef221ea983",
   "metadata": {},
   "outputs": [
    {
     "data": {
      "text/plain": [
       "[('དེ་ཉིད་', 0.7768874168395996),\n",
       " ('འདི་ཉིད་', 0.5357514023780823),\n",
       " ('སྟོང་པ་ཉིད་', 0.5227730870246887),\n",
       " ('ཆོས་ཉིད་', 0.49807819724082947),\n",
       " ('གཅིག་ཉིད་', 0.4918588399887085),\n",
       " ('དེ་བཞིན་ཉིད་', 0.49043431878089905),\n",
       " ('མཉམ་པ་ཉིད་', 0.4587320387363434),\n",
       " ('མཆོག་ཉིད་', 0.4542542099952698),\n",
       " ('རང་ཉིད་', 0.450390487909317),\n",
       " ('ཉིད༷་', 0.4407891631126404)]"
      ]
     },
     "execution_count": 35,
     "metadata": {},
     "output_type": "execute_result"
    }
   ],
   "source": [
    "model.wv.most_similar(\"ཉིད་\")"
   ]
  },
  {
   "cell_type": "markdown",
   "id": "a6f4b8db-678f-4c22-b7fc-24471c36c443",
   "metadata": {},
   "source": [
    "## Save only word vector"
   ]
  },
  {
   "cell_type": "code",
   "execution_count": 38,
   "id": "6f239ec0-e7dd-4eaf-9ab1-9e8970d7c203",
   "metadata": {},
   "outputs": [],
   "source": [
    "word_vectors_path = config.MODELS_DIR / \"classical_bo.wordvectors\""
   ]
  },
  {
   "cell_type": "code",
   "execution_count": 39,
   "id": "38a6090a-7a50-4345-831e-5271e085eaaa",
   "metadata": {},
   "outputs": [
    {
     "name": "stderr",
     "output_type": "stream",
     "text": [
      "INFO - 13:25:35: KeyedVectors lifecycle event {'fname_or_handle': '/home/studio-lab-user/.models/models/classical_bo.wordvectors', 'separately': 'None', 'sep_limit': 10485760, 'ignore': frozenset(), 'datetime': '2022-05-03T13:25:35.164019', 'gensim': '4.1.2', 'python': '3.9.10 | packaged by conda-forge | (main, Feb  1 2022, 21:24:37) \\n[GCC 9.4.0]', 'platform': 'Linux-4.14.262-200.489.amzn2.x86_64-x86_64-with-glibc2.31', 'event': 'saving'}\n",
      "INFO - 13:25:35: saved /home/studio-lab-user/.models/models/classical_bo.wordvectors\n"
     ]
    }
   ],
   "source": [
    "# Store just the words + their trained embeddings.\n",
    "word_vectors = model.wv\n",
    "word_vectors.save(str(word_vectors_path))"
   ]
  },
  {
   "cell_type": "code",
   "execution_count": 40,
   "id": "4f3f6ef0-3440-44bc-bea9-b0690bb5c406",
   "metadata": {},
   "outputs": [
    {
     "name": "stderr",
     "output_type": "stream",
     "text": [
      "INFO - 13:26:02: loading KeyedVectors object from /home/studio-lab-user/.models/models/classical_bo.wordvectors\n",
      "INFO - 13:26:03: KeyedVectors lifecycle event {'fname': '/home/studio-lab-user/.models/models/classical_bo.wordvectors', 'datetime': '2022-05-03T13:26:03.102040', 'gensim': '4.1.2', 'python': '3.9.10 | packaged by conda-forge | (main, Feb  1 2022, 21:24:37) \\n[GCC 9.4.0]', 'platform': 'Linux-4.14.262-200.489.amzn2.x86_64-x86_64-with-glibc2.31', 'event': 'loaded'}\n"
     ]
    }
   ],
   "source": [
    "# Load back with memory-mapping = read-only, shared across processes.\n",
    "wv = KeyedVectors.load(str(word_vectors_path), mmap='r')"
   ]
  },
  {
   "cell_type": "code",
   "execution_count": 41,
   "id": "b711f47f-7a7f-4fb6-b7c6-10ad77c5fa9d",
   "metadata": {},
   "outputs": [
    {
     "data": {
      "text/plain": [
       "[('ཤུགས་', 0.6270895600318909),\n",
       " ('སྟོབས་ཤུགས་', 0.5976985096931458),\n",
       " ('མཐུ་', 0.5726722478866577),\n",
       " ('སྟོབས', 0.537462592124939),\n",
       " ('རང་ཤུགས་', 0.5301303863525391),\n",
       " ('ནུས་སྟོབས་', 0.5233063697814941),\n",
       " ('བརྩོན་འགྲུས་', 0.5218465328216553),\n",
       " ('ཤན་སྟོབས་', 0.48222506046295166),\n",
       " ('མངོན་ཤེས་', 0.47309374809265137),\n",
       " ('ཤེས་རབ་', 0.46450451016426086)]"
      ]
     },
     "execution_count": 41,
     "metadata": {},
     "output_type": "execute_result"
    }
   ],
   "source": [
    "wv.most_similar(\"སྟོབས་\")"
   ]
  },
  {
   "cell_type": "code",
   "execution_count": null,
   "id": "02b7c384-f7c3-4eab-a8b7-339689a1742e",
   "metadata": {},
   "outputs": [],
   "source": []
  }
 ],
 "metadata": {
  "kernelspec": {
   "display_name": "default:Python",
   "language": "python",
   "name": "conda-env-default-py"
  },
  "language_info": {
   "codemirror_mode": {
    "name": "ipython",
    "version": 3
   },
   "file_extension": ".py",
   "mimetype": "text/x-python",
   "name": "python",
   "nbconvert_exporter": "python",
   "pygments_lexer": "ipython3",
   "version": "3.9.10"
  }
 },
 "nbformat": 4,
 "nbformat_minor": 5
}
