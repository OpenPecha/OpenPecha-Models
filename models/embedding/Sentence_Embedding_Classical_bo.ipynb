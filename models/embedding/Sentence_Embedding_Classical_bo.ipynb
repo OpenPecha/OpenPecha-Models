{
  "nbformat": 4,
  "nbformat_minor": 0,
  "metadata": {
    "colab": {
      "name": "Sentence Embedding Classical bo.ipynb",
      "provenance": [],
      "authorship_tag": "ABX9TyNlpKrrO8WYJI1a/uCSWb5F",
      "include_colab_link": true
    },
    "kernelspec": {
      "name": "python3",
      "display_name": "Python 3"
    },
    "language_info": {
      "name": "python"
    }
  },
  "cells": [
    {
      "cell_type": "markdown",
      "metadata": {
        "id": "view-in-github",
        "colab_type": "text"
      },
      "source": [
        "<a href=\"https://colab.research.google.com/github/OpenPecha-dev/models/blob/main/models/embedding/Sentence_Embedding_Classical_bo.ipynb\" target=\"_parent\"><img src=\"https://colab.research.google.com/assets/colab-badge.svg\" alt=\"Open In Colab\"/></a>"
      ]
    },
    {
      "cell_type": "code",
      "execution_count": null,
      "metadata": {
        "id": "q2Ysw88ImXRw"
      },
      "outputs": [],
      "source": [
        ""
      ]
    }
  ]
}